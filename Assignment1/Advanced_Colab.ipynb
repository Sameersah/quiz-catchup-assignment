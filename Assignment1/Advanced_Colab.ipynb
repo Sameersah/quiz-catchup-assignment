{
  "nbformat": 4,
  "nbformat_minor": 0,
  "metadata": {
    "colab": {
      "provenance": []
    },
    "kernelspec": {
      "name": "python3",
      "display_name": "Python 3"
    },
    "language_info": {
      "name": "python"
    }
  },
  "cells": [
    {
      "cell_type": "markdown",
      "source": [
        "Load Data and unzip"
      ],
      "metadata": {
        "id": "NjEyNoDLPqs2"
      }
    },
    {
      "cell_type": "code",
      "source": [
        "!wget -q https://www.learningcontainer.com/wp-content/uploads/2020/05/sample-zip-file.zip"
      ],
      "metadata": {
        "id": "WYbm2eAVPs92"
      },
      "execution_count": null,
      "outputs": []
    },
    {
      "cell_type": "code",
      "source": [
        "!unzip -j sample-zip-file.zip -d ."
      ],
      "metadata": {
        "id": "ohl69HHdRbDH",
        "outputId": "3e9417b5-798e-4fe3-aecb-d6ef96c0debe",
        "colab": {
          "base_uri": "https://localhost:8080/"
        }
      },
      "execution_count": null,
      "outputs": [
        {
          "output_type": "stream",
          "name": "stdout",
          "text": [
            "Archive:  sample-zip-file.zip\n",
            "  inflating: ./sample.txt            \n"
          ]
        }
      ]
    },
    {
      "cell_type": "markdown",
      "source": [
        "Connect to google drive with mount"
      ],
      "metadata": {
        "id": "UF3VW4UtR5Iz"
      }
    },
    {
      "cell_type": "code",
      "source": [
        "from google.colab import drive\n",
        "drive.mount('mount')"
      ],
      "metadata": {
        "colab": {
          "base_uri": "https://localhost:8080/"
        },
        "id": "Ep02Rs7KR7UW",
        "outputId": "abb235c8-e0d1-4170-a014-f5e50d02a9fd"
      },
      "execution_count": null,
      "outputs": [
        {
          "output_type": "stream",
          "name": "stdout",
          "text": [
            "Mounted at mount\n"
          ]
        }
      ]
    },
    {
      "cell_type": "markdown",
      "source": [
        "Copy a file from drive to here"
      ],
      "metadata": {
        "id": "wSC9euywU800"
      }
    },
    {
      "cell_type": "code",
      "source": [
        "!cp mount/My\\ Drive/fileInput.txt ."
      ],
      "metadata": {
        "id": "0lpv73tKVAtW"
      },
      "execution_count": null,
      "outputs": []
    },
    {
      "cell_type": "markdown",
      "source": [
        "Download a public file"
      ],
      "metadata": {
        "id": "G9Q5fvhQWnSY"
      }
    },
    {
      "cell_type": "code",
      "source": [
        "!gdown --id 1y_bF8-LQDm96jbOB-JgdC53VHsX9fC8kZqWZdDzBe4s"
      ],
      "metadata": {
        "colab": {
          "base_uri": "https://localhost:8080/"
        },
        "id": "JI0Xhu-NWojr",
        "outputId": "3cd4c432-56f7-48d6-bb9f-09430afac252"
      },
      "execution_count": null,
      "outputs": [
        {
          "output_type": "stream",
          "name": "stdout",
          "text": [
            "/usr/local/lib/python3.10/dist-packages/gdown/__main__.py:132: FutureWarning: Option `--id` was deprecated in version 4.3.1 and will be removed in 5.0. You don't need to pass it anymore to use a file ID.\n",
            "  warnings.warn(\n",
            "Downloading...\n",
            "From (original): https://drive.google.com/uc?id=1y_bF8-LQDm96jbOB-JgdC53VHsX9fC8kZqWZdDzBe4s\n",
            "From (redirected): https://docs.google.com/document/d/1y_bF8-LQDm96jbOB-JgdC53VHsX9fC8kZqWZdDzBe4s/export?format=docx\n",
            "To: /content/Untitled document.docx\n",
            "7.01kB [00:00, 20.6MB/s]\n"
          ]
        }
      ]
    },
    {
      "cell_type": "code",
      "source": [
        "!ls -al *.zip"
      ],
      "metadata": {
        "colab": {
          "base_uri": "https://localhost:8080/"
        },
        "id": "tmiJTg8PW6kK",
        "outputId": "1979a303-6107-47bb-9ba2-2ca74826f7a3"
      },
      "execution_count": null,
      "outputs": [
        {
          "output_type": "stream",
          "name": "stdout",
          "text": [
            "-rw-r--r-- 1 root root 380 Sep 12  2020 sample-zip-file.zip\n"
          ]
        }
      ]
    },
    {
      "cell_type": "markdown",
      "source": [
        "Authenticate for private access"
      ],
      "metadata": {
        "id": "fVmn8yFDYbNm"
      }
    },
    {
      "cell_type": "code",
      "source": [
        "from google.colab import auth\n",
        "auth.authenticate_user()"
      ],
      "metadata": {
        "id": "MxT8RV_tYdrX"
      },
      "execution_count": null,
      "outputs": []
    },
    {
      "cell_type": "markdown",
      "source": [
        "Download folder"
      ],
      "metadata": {
        "id": "E7Cfq0YFZlvm"
      }
    },
    {
      "cell_type": "code",
      "source": [
        "folder_id = \"13W1SS0YjpO48afLDcelrnV5qtO9urZpG\""
      ],
      "metadata": {
        "id": "bI5yDbE_Zmpk"
      },
      "execution_count": null,
      "outputs": []
    },
    {
      "cell_type": "markdown",
      "source": [
        "List all ids of filed under folder id"
      ],
      "metadata": {
        "id": "OUq1nraKZu-L"
      }
    },
    {
      "cell_type": "code",
      "source": [
        "def folder_list(folder_id):\n",
        "  from googleapiclient.discovery import build\n",
        "  gdrive = build('drive','v3').files()\n",
        "  res = gdrive.list(q=f\"'{folder_id}' in parents and trashed=false\", fields=\"files(id,name)\").execute()\n",
        "  # print(res)\n",
        "  return [f['id'] for f in res['files']]"
      ],
      "metadata": {
        "id": "py7FOctfZzaT"
      },
      "execution_count": null,
      "outputs": []
    },
    {
      "cell_type": "code",
      "source": [
        "print(folder_list(folder_id))"
      ],
      "metadata": {
        "colab": {
          "base_uri": "https://localhost:8080/"
        },
        "id": "kGAj9NucanCj",
        "outputId": "09e2bda1-67f3-43d7-9251-ce20fedcfb5b"
      },
      "execution_count": null,
      "outputs": [
        {
          "output_type": "stream",
          "name": "stdout",
          "text": [
            "['12YSoJppsojlhqReHPpIOdgHnRxo93OmF', '1GraguBkDDfYzRRb8LdiFxKeER8FFuf1j']\n"
          ]
        }
      ]
    },
    {
      "cell_type": "markdown",
      "source": [
        "Download them one by one using gdown"
      ],
      "metadata": {
        "id": "aUXgEnCdcT6e"
      }
    },
    {
      "cell_type": "code",
      "source": [
        "def download_files(folder_id):\n",
        "  for file_id in folder_list(folder_id):\n",
        "    !gdown -q --id {file_id}"
      ],
      "metadata": {
        "id": "zAUqTs2tcWON"
      },
      "execution_count": null,
      "outputs": []
    },
    {
      "cell_type": "code",
      "source": [
        "download_files(folder_id)"
      ],
      "metadata": {
        "id": "JY4fFE3IcoO7",
        "outputId": "cfcfd645-dd4b-4588-c8d9-5fb09c3636df",
        "colab": {
          "base_uri": "https://localhost:8080/"
        }
      },
      "execution_count": null,
      "outputs": [
        {
          "output_type": "stream",
          "name": "stdout",
          "text": [
            "/usr/local/lib/python3.10/dist-packages/gdown/__main__.py:132: FutureWarning: Option `--id` was deprecated in version 4.3.1 and will be removed in 5.0. You don't need to pass it anymore to use a file ID.\n",
            "  warnings.warn(\n",
            "/usr/local/lib/python3.10/dist-packages/gdown/__main__.py:132: FutureWarning: Option `--id` was deprecated in version 4.3.1 and will be removed in 5.0. You don't need to pass it anymore to use a file ID.\n",
            "  warnings.warn(\n"
          ]
        }
      ]
    },
    {
      "cell_type": "markdown",
      "source": [
        "Form and interaction"
      ],
      "metadata": {
        "id": "bmX5eq1LfJVk"
      }
    },
    {
      "cell_type": "code",
      "source": [
        "text = value #@param\n",
        "date_input = '2024-09-08' #@param {type: 'date'}\n",
        "number_slider = 0.2 #@param {type: 'slider', min: -1, max: 1, step: 0.1}\n",
        "dropdown = 'list option' #@param ['list option', 'other option']"
      ],
      "metadata": {
        "id": "x1FAEIbLgDMl"
      },
      "execution_count": null,
      "outputs": []
    },
    {
      "cell_type": "markdown",
      "source": [
        "Install libraries"
      ],
      "metadata": {
        "id": "sxz1A8wygUJn"
      }
    },
    {
      "cell_type": "code",
      "source": [
        "!wget -c https://repo.anaconda.com/archive/Anaconda3-2023.03-0-Linux-x86_64.sh\n",
        "!chmod +x Anaconda3-2023.03-0-Linux-x86_64.sh\n",
        "!bash ./Anaconda3-2023.03-0-Linux-x86_64.sh -b -f -p /usr/local"
      ],
      "metadata": {
        "id": "8_H6-UHvgVXk",
        "colab": {
          "base_uri": "https://localhost:8080/"
        },
        "outputId": "c5704d2b-8353-4462-8cd0-c52ba350b7b9"
      },
      "execution_count": 108,
      "outputs": [
        {
          "output_type": "stream",
          "name": "stdout",
          "text": [
            "--2024-09-08 23:47:47--  https://repo.anaconda.com/archive/Anaconda3-2023.03-0-Linux-x86_64.sh\n",
            "Resolving repo.anaconda.com (repo.anaconda.com)... 104.16.32.241, 104.16.191.158, 2606:4700::6810:bf9e, ...\n",
            "Connecting to repo.anaconda.com (repo.anaconda.com)|104.16.32.241|:443... connected.\n",
            "HTTP request sent, awaiting response... 200 OK\n",
            "Length: 901858012 (860M) [application/x-sh]\n",
            "Saving to: ‘Anaconda3-2023.03-0-Linux-x86_64.sh’\n",
            "\n",
            "Anaconda3-2023.03-0 100%[===================>] 860.08M  73.8MB/s    in 15s     \n",
            "\n",
            "2024-09-08 23:48:02 (59.2 MB/s) - ‘Anaconda3-2023.03-0-Linux-x86_64.sh’ saved [901858012/901858012]\n",
            "\n",
            "PREFIX=/usr/local\n",
            "Unpacking payload ...\n",
            "                                                                                   \n",
            "Installing base environment...\n",
            "\n",
            "\n",
            "Downloading and Extracting Packages\n",
            "\n",
            "\n",
            "Downloading and Extracting Packages\n",
            "\n",
            "Preparing transaction: - \b\b\\ \b\b| \b\b/ \b\b- \b\b\\ \b\b| \b\b/ \b\b- \b\b\\ \b\b| \b\b/ \b\b- \b\b\\ \b\b| \b\b/ \b\b- \b\b\\ \b\b| \b\b/ \b\b- \b\b\\ \b\b| \b\b/ \b\b- \b\b\\ \b\b| \b\b/ \b\b- \b\b\\ \b\b| \b\b/ \b\b- \b\b\\ \b\b| \b\b/ \b\b- \b\b\\ \b\b| \b\b/ \b\b- \b\b\\ \b\b| \b\b/ \b\b- \b\b\\ \b\b| \b\b/ \b\b- \b\b\\ \b\b| \b\b/ \b\b- \b\b\\ \b\b| \b\b/ \b\b- \b\b\\ \b\b| \b\b/ \b\b- \b\b\\ \b\b| \b\b/ \b\b- \b\b\\ \b\b| \b\b/ \b\b- \b\b\\ \b\b| \b\b/ \b\b- \b\b\\ \b\b| \b\b/ \b\b- \b\b\\ \b\b| \b\b/ \b\b- \b\b\\ \b\b| \b\bdone\n",
            "Executing transaction: - \b\b\\ \b\b| \b\b/ \b\b- \b\b\\ \b\b| \b\b/ \b\b- \b\b\\ \b\b| \b\b/ \b\b- \b\b\\ \b\b| \b\b/ \b\b- \b\b\\ \b\b| \b\b/ \b\b- \b\b\\ \b\b| \b\b/ \b\b- \b\b\\ \b\b| \b\b/ \b\b- \b\b\\ \b\b| \b\b/ \b\b- \b\b\\ \b\b| \b\b/ \b\b- \b\b\\ \b\b| \b\b/ \b\b- \b\b\\ \b\b| \b\b/ \b\b- \b\b\\ \b\b| \b\b/ \b\b- \b\b\\ \b\b| \b\b/ \b\b- \b\b\\ \b\b| \b\b/ \b\b- \b\b\\ \b\b| \b\b/ \b\b- \b\b\\ \b\b| \b\b/ \b\b- \b\b\\ \b\b| \b\b/ \b\b- \b\b\\ \b\b| \b\b/ \b\b- \b\b\\ \b\b| \b\b/ \b\b- \b\b\\ \b\b| \b\b/ \b\b- \b\b\\ \b\b| \b\b/ \b\b- \b\b\\ \b\b| \b\b/ \b\b- \b\b\\ \b\b| \b\b/ \b\b- \b\b\\ \b\b| \b\b/ \b\b- \b\b\\ \b\b| \b\b/ \b\b- \b\b\\ \b\b| \b\b/ \b\b- \b\b\\ \b\b| \b\b/ \b\b- \b\b\\ \b\b| \b\b/ \b\b- \b\b\\ \b\b| \b\b/ \b\b- \b\b\\ \b\b| \b\b/ \b\b- \b\b\\ \b\b| \b\b/ \b\b- \b\b\\ \b\b| \b\b/ \b\b- \b\b\\ \b\b| \b\b/ \b\b- \b\b\\ \b\b| \b\b/ \b\b- \b\b\\ \b\b| \b\b/ \b\b- \b\b\\ \b\b| \b\b/ \b\b- \b\b\\ \b\b| \b\b/ \b\b- \b\b\\ \b\b| \b\b/ \b\b- \b\b\\ \b\b| \b\b/ \b\b- \b\b\\ \b\b| \b\b/ \b\b- \b\b\\ \b\b| \b\b/ \b\b- \b\b\\ \b\b| \b\b/ \b\b- \b\b\\ \b\b| \b\b/ \b\b- \b\b\\ \b\b| \b\b/ \b\b- \b\b\\ \b\b| \b\b/ \b\b- \b\b\\ \b\b| \b\b/ \b\b- \b\b\\ \b\b| \b\b/ \b\b- \b\b\\ \b\b| \b\b/ \b\b- \b\b\\ \b\b| \b\b/ \b\b- \b\b\\ \b\b| \b\b/ \b\b- \b\b\\ \b\b| \b\b/ \b\b- \b\b\\ \b\b| \b\b/ \b\b- \b\b\\ \b\b| \b\b/ \b\b- \b\b\\ \b\b| \b\b/ \b\b- \b\b\\ \b\b| \b\b/ \b\b- \b\b\\ \b\b| \b\b/ \b\b- \b\b\\ \b\b| \b\b/ \b\b- \b\b\\ \b\b| \b\b/ \b\b- \b\b\\ \b\b| \b\b/ \b\b- \b\b\\ \b\b| \b\b/ \b\b- \b\b\\ \b\b| \b\b/ \b\b- \b\b\\ \b\b| \b\b/ \b\b- \b\b\\ \b\b| \b\b/ \n",
            "\n",
            "    Installed package of scikit-learn can be accelerated using scikit-learn-intelex.\n",
            "    More details are available here: https://intel.github.io/scikit-learn-intelex\n",
            "\n",
            "    For example:\n",
            "\n",
            "        $ conda install scikit-learn-intelex\n",
            "        $ python -m sklearnex my_application.py\n",
            "\n",
            "    \n",
            "\n",
            "\b\b- \b\b\\ \b\b| \b\b/ \b\b- \b\b\\ \b\b| \b\b/ \b\b- \b\b\\ \b\b| \b\b/ \b\b- \b\b\\ \b\b| \b\b/ \b\b- \b\b\\ \b\b| \b\b/ \b\b- \b\b\\ \b\b| \b\b/ \b\b- \b\b\\ \b\b| \b\b/ \b\b- \b\b\\ \b\b| \b\b/ \b\b- \b\b\\ \b\b| \b\b/ \b\b- \b\b\\ \b\b| \b\b/ \b\b- \b\b\\ \b\b| \b\b/ \b\b- \b\b\\ \b\b| \b\b/ \b\b- \b\b\\ \b\b| \b\b/ \b\b- \b\b\\ \b\b| \b\b/ \b\b- \b\b\\ \b\b| \b\b/ \b\b- \b\b\\ \b\b| \b\b/ \b\b- \b\b\\ \b\b| \b\b/ \b\b- \b\b\\ \b\b| \b\b/ \b\b- \b\b\\ \b\b| \b\b/ \b\b- \b\b\\ \b\b| \b\b/ \b\b- \b\b\\ \b\b| \b\b/ \b\b- \b\bdone\n",
            "installation finished.\n",
            "WARNING:\n",
            "    You currently have a PYTHONPATH environment variable set. This may cause\n",
            "    unexpected behavior when running the Python interpreter in Anaconda3.\n",
            "    For best results, please verify that your PYTHONPATH only points to\n",
            "    directories of packages that are compatible with the Python interpreter\n",
            "    in Anaconda3: /usr/local\n"
          ]
        }
      ]
    },
    {
      "cell_type": "markdown",
      "source": [
        "MAGIC"
      ],
      "metadata": {
        "id": "_y1HzRhCn1zf"
      }
    },
    {
      "cell_type": "code",
      "source": [
        "%load_ext rpy2.ipython"
      ],
      "metadata": {
        "id": "2XRjaIIXn3p9"
      },
      "execution_count": null,
      "outputs": []
    },
    {
      "cell_type": "code",
      "source": [
        "%%R\n",
        "x <- 42\n",
        "print(x)"
      ],
      "metadata": {
        "colab": {
          "base_uri": "https://localhost:8080/"
        },
        "id": "WvB6Axqnn9Sy",
        "outputId": "2c8a0fb5-0584-4b0d-a76c-e064f0a6e0cb"
      },
      "execution_count": null,
      "outputs": [
        {
          "output_type": "stream",
          "name": "stdout",
          "text": [
            "[1] 42\n"
          ]
        }
      ]
    },
    {
      "cell_type": "code",
      "source": [
        "import re\n",
        "from IPython.display import HTML\n",
        "from IPython.core.magic import register_cell_magic"
      ],
      "metadata": {
        "id": "TEWa3Xc8oXr2"
      },
      "execution_count": null,
      "outputs": []
    },
    {
      "cell_type": "code",
      "source": [
        "def get_variable_value(variable_name):\n",
        "  value = globals()[variable_name]\n",
        "  return str(value) if isinstance(value, str) else repr(value)"
      ],
      "metadata": {
        "id": "4i2Vtg1doskd"
      },
      "execution_count": null,
      "outputs": []
    },
    {
      "cell_type": "code",
      "source": [
        "@register_cell_magic\n",
        "def javascript(line=\"\", cell=\"\"):\n",
        "    # replace {{variables}}\n",
        "    cell = re.sub(r'\\{\\{(\\w+)}}', get_variable_value, cell)\n",
        "\n",
        "    # check if we're assigning to a variable\n",
        "    if line.strip():\n",
        "        var_name = line.split()[0]\n",
        "        globals()[var_name] = cell\n",
        "    else:\n",
        "        # display the JavaScript\n",
        "        display(HTML(f\"\"\"\n",
        "        <div id=\"drawing\"></div>\n",
        "        <script src=\"https://cdnjs.cloudflare.com/ajax/libs/svg.js/2.6.5/svg.js\"></script>\n",
        "        <script>\n",
        "        var draw = SVG('drawing').size('100%', 100)\n",
        "        var y_pos = 0\n",
        "        function print(stuff) {{\n",
        "            draw.text(stuff.toString()).move(400, y_pos)\n",
        "            y_pos += 20\n",
        "        }}\n",
        "\n",
        "        text = (s) => draw.text(s).font('anchor', 'middle')\n",
        "        line = (x1,y1, x2,y2) => draw.line(x1,y1, x2, y2).stroke({{width: 1}})\n",
        "        max = Math.max\n",
        "        {cell}\n",
        "        </script>\n",
        "        \"\"\"))"
      ],
      "metadata": {
        "id": "14IXyFPNqAIP"
      },
      "execution_count": null,
      "outputs": []
    },
    {
      "cell_type": "code",
      "source": [
        "%%javascript\n",
        "\n",
        "draw.rect(500, 500).fill('red')"
      ],
      "metadata": {
        "colab": {
          "base_uri": "https://localhost:8080/",
          "height": 121
        },
        "id": "YNsHYb10qGPL",
        "outputId": "181b184c-c6b4-4253-9bb4-a46fb5e2659d"
      },
      "execution_count": null,
      "outputs": [
        {
          "output_type": "display_data",
          "data": {
            "text/plain": [
              "<IPython.core.display.HTML object>"
            ],
            "text/html": [
              "\n",
              "        <div id=\"drawing\"></div>\n",
              "        <script src=\"https://cdnjs.cloudflare.com/ajax/libs/svg.js/2.6.5/svg.js\"></script>\n",
              "        <script>\n",
              "        var draw = SVG('drawing').size('100%', 100)\n",
              "        var y_pos = 0\n",
              "        function print(stuff) {\n",
              "            draw.text(stuff.toString()).move(400, y_pos)\n",
              "            y_pos += 20\n",
              "        }\n",
              "\n",
              "        text = (s) => draw.text(s).font('anchor', 'middle')\n",
              "        line = (x1,y1, x2,y2) => draw.line(x1,y1, x2, y2).stroke({width: 1})\n",
              "        max = Math.max\n",
              "        \n",
              "draw.rect(500, 500).fill('red')\n",
              "\n",
              "        </script>\n",
              "        "
            ]
          },
          "metadata": {}
        }
      ]
    },
    {
      "cell_type": "markdown",
      "source": [
        "ELASTICSEARCH MAGIC"
      ],
      "metadata": {
        "id": "bxEzgcxqqRET"
      }
    },
    {
      "cell_type": "code",
      "source": [
        "# install\n",
        "!wget https://artifacts.elastic.co/downloads/elasticsearch/elasticsearch-7.0.0-linux-x86_64.tar.gz -q\n",
        "!tar -xzf elasticsearch-7.0.0-linux-x86_64.tar.gz\n",
        "!chown -R daemon:daemon elasticsearch-7.0.0"
      ],
      "metadata": {
        "id": "w3KrMKHkqfl1"
      },
      "execution_count": null,
      "outputs": []
    },
    {
      "cell_type": "markdown",
      "source": [
        "START SERVER"
      ],
      "metadata": {
        "id": "ITNGpZTPquGa"
      }
    },
    {
      "cell_type": "code",
      "source": [
        "import os\n",
        "from subprocess import Popen, PIPE, STDOUT\n",
        "es_server = Popen(['elasticsearch-7.0.0/bin/elasticsearch'],\n",
        "                  stdout=PIPE, stderr=STDOUT,\n",
        "                  preexec_fn=lambda: os.setuid(1)  # as daemon\n",
        "                 )"
      ],
      "metadata": {
        "id": "D6cy_IRjqu-u"
      },
      "execution_count": null,
      "outputs": []
    },
    {
      "cell_type": "code",
      "source": [
        "!curl -X GET \"localhost:9200/\""
      ],
      "metadata": {
        "colab": {
          "base_uri": "https://localhost:8080/"
        },
        "id": "5dSb_g7Pq1Ql",
        "outputId": "2f84bf08-98e9-4e3d-bf83-9fb8342b34b3"
      },
      "execution_count": null,
      "outputs": [
        {
          "output_type": "stream",
          "name": "stdout",
          "text": [
            "{\n",
            "  \"name\" : \"adcd1331b721\",\n",
            "  \"cluster_name\" : \"elasticsearch\",\n",
            "  \"cluster_uuid\" : \"hKSqB587RqS2__a-aBbFww\",\n",
            "  \"version\" : {\n",
            "    \"number\" : \"7.0.0\",\n",
            "    \"build_flavor\" : \"default\",\n",
            "    \"build_type\" : \"tar\",\n",
            "    \"build_hash\" : \"b7e28a7\",\n",
            "    \"build_date\" : \"2019-04-05T22:55:32.697037Z\",\n",
            "    \"build_snapshot\" : false,\n",
            "    \"lucene_version\" : \"8.0.0\",\n",
            "    \"minimum_wire_compatibility_version\" : \"6.7.0\",\n",
            "    \"minimum_index_compatibility_version\" : \"6.0.0-beta1\"\n",
            "  },\n",
            "  \"tagline\" : \"You Know, for Search\"\n",
            "}\n"
          ]
        }
      ]
    },
    {
      "cell_type": "code",
      "source": [
        "from requests import models, Session, Request\n",
        "from urllib.parse import urljoin\n",
        "from IPython.core.magic import register_cell_magic\n",
        "import re\n",
        "\n",
        "# to display json response\n",
        "def render(r):\n",
        "  text = r.text\n",
        "  if text[0] in \"[{\":  # really json\n",
        "    return \"\"\"\n",
        "    <script src=\"https://rawgit.com/caldwell/renderjson/master/renderjson.js\"></script>\n",
        "    <script>\n",
        "    renderjson.set_show_to_level(1)\n",
        "    document.body.appendChild(renderjson(%s))\n",
        "    new ResizeObserver(google.colab.output.resizeIframeToContent).observe(document.body)\n",
        "    </script>\n",
        "    \"\"\" % text\n",
        "  else:    # other status text\n",
        "    return \"<pre>%s</pre>\" % text\n",
        "models.Response._repr_html_ = render"
      ],
      "metadata": {
        "id": "m1U4BqobsJJz"
      },
      "execution_count": null,
      "outputs": []
    },
    {
      "cell_type": "code",
      "source": [
        "import requests\n",
        "\n",
        "@register_cell_magic\n",
        "def es(line=None, cell=\"\"):\n",
        "    # Get rid of comments cuz they're annoying\n",
        "    cell = re.sub(r'#.*', '', cell)\n",
        "\n",
        "    # Split the cell into lines\n",
        "    lines = cell.split('\\n')\n",
        "\n",
        "    # First line has the method and path\n",
        "    method, path = lines[0].split()\n",
        "\n",
        "    # The rest is the body\n",
        "    body = '\\n'.join(lines[1:])\n",
        "\n",
        "    # Set up the request\n",
        "    url = 'http://localhost:9200' + path\n",
        "    headers = {'Content-Type': 'application/json'} if body else None\n",
        "\n",
        "    # Send it!\n",
        "    try:\n",
        "        if method == 'GET':\n",
        "            r = requests.get(url)\n",
        "        elif method == 'POST':\n",
        "            r = requests.post(url, data=body, headers=headers)\n",
        "        elif method == 'PUT':\n",
        "            r = requests.put(url, data=body, headers=headers)\n",
        "        elif method == 'DELETE':\n",
        "            r = requests.delete(url)\n",
        "        else:\n",
        "            return f\"Oops, don't know how to {method}\"\n",
        "\n",
        "        return r.json()\n",
        "    except Exception as e:\n",
        "        return f\"Uh oh, something broke: {e}\""
      ],
      "metadata": {
        "id": "eITNTo6BsMMI"
      },
      "execution_count": null,
      "outputs": []
    },
    {
      "cell_type": "code",
      "source": [
        "%%es\n",
        "GET /"
      ],
      "metadata": {
        "colab": {
          "base_uri": "https://localhost:8080/"
        },
        "id": "keIsaC0yssSL",
        "outputId": "998947aa-a018-4bf9-805a-be85f565e4de"
      },
      "execution_count": null,
      "outputs": [
        {
          "output_type": "execute_result",
          "data": {
            "text/plain": [
              "{'name': 'adcd1331b721',\n",
              " 'cluster_name': 'elasticsearch',\n",
              " 'cluster_uuid': 'hKSqB587RqS2__a-aBbFww',\n",
              " 'version': {'number': '7.0.0',\n",
              "  'build_flavor': 'default',\n",
              "  'build_type': 'tar',\n",
              "  'build_hash': 'b7e28a7',\n",
              "  'build_date': '2019-04-05T22:55:32.697037Z',\n",
              "  'build_snapshot': False,\n",
              "  'lucene_version': '8.0.0',\n",
              "  'minimum_wire_compatibility_version': '6.7.0',\n",
              "  'minimum_index_compatibility_version': '6.0.0-beta1'},\n",
              " 'tagline': 'You Know, for Search'}"
            ]
          },
          "metadata": {},
          "execution_count": 77
        }
      ]
    },
    {
      "cell_type": "code",
      "source": [
        "%%es\n",
        "POST /my_index/_doc/1\n",
        "{\n",
        "  \"name\": \"John Doe\",\n",
        "  \"age\": 30,\n",
        "  \"city\": \"New York\",\n",
        "  \"hobbies\": [\"reading\", \"swimming\", \"coding\"]\n",
        "}"
      ],
      "metadata": {
        "colab": {
          "base_uri": "https://localhost:8080/"
        },
        "id": "VzHX5fSvtebK",
        "outputId": "2526d71f-9a28-46b2-ea4e-e96804203eca"
      },
      "execution_count": null,
      "outputs": [
        {
          "output_type": "execute_result",
          "data": {
            "text/plain": [
              "{'_index': 'my_index',\n",
              " '_type': '_doc',\n",
              " '_id': '1',\n",
              " '_version': 2,\n",
              " 'result': 'updated',\n",
              " '_shards': {'total': 2, 'successful': 1, 'failed': 0},\n",
              " '_seq_no': 1,\n",
              " '_primary_term': 1}"
            ]
          },
          "metadata": {},
          "execution_count": 78
        }
      ]
    },
    {
      "cell_type": "code",
      "source": [
        "%%es\n",
        "GET /my_index/_doc/1"
      ],
      "metadata": {
        "colab": {
          "base_uri": "https://localhost:8080/"
        },
        "id": "IkC5UlxtuO-p",
        "outputId": "10d41371-267d-404a-ed55-f636ba232d1b"
      },
      "execution_count": null,
      "outputs": [
        {
          "output_type": "execute_result",
          "data": {
            "text/plain": [
              "{'_index': 'my_index',\n",
              " '_type': '_doc',\n",
              " '_id': '1',\n",
              " '_version': 2,\n",
              " '_seq_no': 1,\n",
              " '_primary_term': 1,\n",
              " 'found': True,\n",
              " '_source': {'name': 'John Doe',\n",
              "  'age': 30,\n",
              "  'city': 'New York',\n",
              "  'hobbies': ['reading', 'swimming', 'coding']}}"
            ]
          },
          "metadata": {},
          "execution_count": 79
        }
      ]
    },
    {
      "cell_type": "markdown",
      "source": [
        "PYTHON CALLS JS"
      ],
      "metadata": {
        "id": "eSBvrMjduasK"
      }
    },
    {
      "cell_type": "code",
      "source": [
        "%%html\n",
        "<script>\n",
        "document.body.append(document.createTextNode(\"Hello\"))\n",
        "</script>"
      ],
      "metadata": {
        "colab": {
          "base_uri": "https://localhost:8080/",
          "height": 34
        },
        "id": "sj9XubzcucuK",
        "outputId": "b20adf58-75be-4e21-b93b-2fa99aab0e4b"
      },
      "execution_count": null,
      "outputs": [
        {
          "output_type": "display_data",
          "data": {
            "text/plain": [
              "<IPython.core.display.HTML object>"
            ],
            "text/html": [
              "<script>\n",
              "document.body.append(document.createTextNode(\"Hello\"))\n",
              "</script>\n"
            ]
          },
          "metadata": {}
        }
      ]
    },
    {
      "cell_type": "code",
      "source": [
        "from IPython.display import Javascript\n",
        "Javascript('document.body.append(document.createTextNode(\"Hello Puneet\"))')"
      ],
      "metadata": {
        "colab": {
          "base_uri": "https://localhost:8080/",
          "height": 34
        },
        "id": "J15Dz5GxvB65",
        "outputId": "3716442f-7993-468f-c2be-c7d30697f19b"
      },
      "execution_count": null,
      "outputs": [
        {
          "output_type": "execute_result",
          "data": {
            "text/plain": [
              "<IPython.core.display.Javascript object>"
            ],
            "application/javascript": [
              "document.body.append(document.createTextNode(\"Hello Puneet\"))"
            ]
          },
          "metadata": {},
          "execution_count": 81
        }
      ]
    },
    {
      "cell_type": "code",
      "source": [
        "from google.colab.output import eval_js\n",
        "eval_js('4+10')"
      ],
      "metadata": {
        "colab": {
          "base_uri": "https://localhost:8080/",
          "height": 35
        },
        "id": "k7dFngznvHA3",
        "outputId": "dbf9bc27-4675-4150-eb6e-2a3e7b44afd7"
      },
      "execution_count": null,
      "outputs": [
        {
          "output_type": "execute_result",
          "data": {
            "text/plain": [
              "14"
            ]
          },
          "metadata": {},
          "execution_count": 82
        }
      ]
    },
    {
      "cell_type": "markdown",
      "source": [
        "JS CALLS PYTHON"
      ],
      "metadata": {
        "id": "svgOEskRvOWr"
      }
    },
    {
      "cell_type": "code",
      "source": [
        "from IPython.display import JSON\n",
        "import IPython.display as idisplay\n",
        "from google.colab import output\n",
        "\n",
        "def concat(a, b):\n",
        "  return JSON({'result': '%s %s' % (a, b)})\n",
        "\n",
        "output.register_callback('notebook.concat', concat)"
      ],
      "metadata": {
        "id": "1w_Zl7KKvPvl"
      },
      "execution_count": null,
      "outputs": []
    },
    {
      "cell_type": "code",
      "source": [
        "idisplay.Javascript('''\n",
        "(async function() {\n",
        "\n",
        "  const result = await google.colab.kernel.invokeFunction(\n",
        "    'notebook.concat',\n",
        "    ['hello', 'world!'],\n",
        "    {});\n",
        "\n",
        "  const text = result.data['application/json'].result;\n",
        "\n",
        "  document.querySelector(\"#output-area\").appendChild(document.createTextNode(text))\n",
        "\n",
        "})();\n",
        "''')"
      ],
      "metadata": {
        "colab": {
          "base_uri": "https://localhost:8080/",
          "height": 34
        },
        "id": "uWqFbnjwvclc",
        "outputId": "cf67bbe4-58e2-48c1-a642-55a81be0325f"
      },
      "execution_count": null,
      "outputs": [
        {
          "output_type": "execute_result",
          "data": {
            "text/plain": [
              "<IPython.core.display.Javascript object>"
            ],
            "application/javascript": [
              "\n",
              "(async function() {\n",
              "\n",
              "  const result = await google.colab.kernel.invokeFunction(\n",
              "    'notebook.concat',  \n",
              "    ['hello', 'world!'],\n",
              "    {});\n",
              "    \n",
              "  const text = result.data['application/json'].result;\n",
              "  \n",
              "  document.querySelector(\"#output-area\").appendChild(document.createTextNode(text))\n",
              "  \n",
              "})();\n"
            ]
          },
          "metadata": {},
          "execution_count": 85
        }
      ]
    },
    {
      "cell_type": "markdown",
      "source": [
        "TAKE A PHOTO"
      ],
      "metadata": {
        "id": "r2S91y9ivlq_"
      }
    },
    {
      "cell_type": "code",
      "source": [
        "from IPython.display import HTML, Image\n",
        "from google.colab.output import eval_js\n",
        "from base64 import b64decode"
      ],
      "metadata": {
        "id": "-wl7ORNPvmx9"
      },
      "execution_count": null,
      "outputs": []
    },
    {
      "cell_type": "code",
      "source": [
        "VIDEO_HTML = \"\"\"\n",
        "<video autoplay\n",
        " width=800 height=600></video>\n",
        "<script>\n",
        "var video = document.querySelector('video')\n",
        "navigator.mediaDevices.getUserMedia({ video: true })\n",
        "  .then(stream=> video.srcObject = stream)\n",
        "\n",
        "var data = new Promise(resolve=>{\n",
        "  video.onclick = ()=>{\n",
        "    var canvas = document.createElement('canvas')\n",
        "    var [w,h] = [video.offsetWidth, video.offsetHeight]\n",
        "    canvas.width = w\n",
        "    canvas.height = h\n",
        "    canvas.getContext('2d')\n",
        "          .drawImage(video, 0, 0, w, h)\n",
        "    video.srcObject.getVideoTracks()[0].stop()\n",
        "    video.replaceWith(canvas)\n",
        "    resolve(canvas.toDataURL('image/jpeg', %f))\n",
        "  }\n",
        "})\n",
        "</script>\n",
        "\"\"\""
      ],
      "metadata": {
        "id": "62n5xNdlvqgd"
      },
      "execution_count": null,
      "outputs": []
    },
    {
      "cell_type": "code",
      "source": [
        "def take_photo(filename='picture.jpg', quality=1):\n",
        "  display(HTML(VIDEO_HTML % quality))\n",
        "  data = eval_js(\"data\")\n",
        "  binary = b64decode(data.split(',')[1])\n",
        "  with open(filename, 'wb') as f:\n",
        "    f.write(binary)\n",
        "  return len(binary)\n",
        "\n",
        "take_photo()"
      ],
      "metadata": {
        "id": "EmyWzTJM09hP"
      },
      "execution_count": null,
      "outputs": []
    }
  ]
}