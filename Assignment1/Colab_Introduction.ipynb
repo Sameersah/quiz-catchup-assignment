{
  "nbformat": 4,
  "nbformat_minor": 0,
  "metadata": {
    "colab": {
      "provenance": [],
      "toc_visible": true
    },
    "kernelspec": {
      "name": "python3",
      "display_name": "Python 3"
    },
    "language_info": {
      "name": "python"
    }
  },
  "cells": [
    {
      "cell_type": "code",
      "execution_count": null,
      "metadata": {
        "id": "AI2Gd6v1qJgg"
      },
      "outputs": [],
      "source": [
        "import pandas as pd\n",
        "import seaborn as sns\n",
        "from matplotlib import plt\n",
        "import numpy as np\n",
        "from sklearn import svm\n"
      ]
    },
    {
      "cell_type": "code",
      "source": [
        "! pip install py3dmol"
      ],
      "metadata": {
        "colab": {
          "base_uri": "https://localhost:8080/"
        },
        "id": "XQ10GDaitdu0",
        "outputId": "60c3aa2d-fd3a-436b-9535-e6e9f76eb463"
      },
      "execution_count": 17,
      "outputs": [
        {
          "output_type": "stream",
          "name": "stdout",
          "text": [
            "Requirement already satisfied: py3dmol in /usr/local/lib/python3.10/dist-packages (2.4.0)\n"
          ]
        }
      ]
    },
    {
      "cell_type": "markdown",
      "source": [
        "Example text goes here"
      ],
      "metadata": {
        "id": "tac4hIqVqamG"
      }
    },
    {
      "cell_type": "code",
      "source": [
        "import py3Dmol\n",
        "p = py3Dmol.view(query='mmtf:1ycr')\n",
        "p.setStyle({'cartoon':{'color':'spectrum'}})"
      ],
      "metadata": {
        "colab": {
          "base_uri": "https://localhost:8080/",
          "height": 515
        },
        "id": "r9JyAUV8tvSb",
        "outputId": "0ba96786-69ec-4f39-adc4-8044a87dd7fe"
      },
      "execution_count": 18,
      "outputs": [
        {
          "output_type": "display_data",
          "data": {
            "application/3dmoljs_load.v0": "<div id=\"3dmolviewer_17257669050713801\"  style=\"position: relative; width: 640px; height: 480px;\">\n        <p id=\"3dmolwarning_17257669050713801\" style=\"background-color:#ffcccc;color:black\">3Dmol.js failed to load for some reason.  Please check your browser console for error messages.<br></p>\n        </div>\n<script>\n\nvar loadScriptAsync = function(uri){\n  return new Promise((resolve, reject) => {\n    //this is to ignore the existence of requirejs amd\n    var savedexports, savedmodule;\n    if (typeof exports !== 'undefined') savedexports = exports;\n    else exports = {}\n    if (typeof module !== 'undefined') savedmodule = module;\n    else module = {}\n\n    var tag = document.createElement('script');\n    tag.src = uri;\n    tag.async = true;\n    tag.onload = () => {\n        exports = savedexports;\n        module = savedmodule;\n        resolve();\n    };\n  var firstScriptTag = document.getElementsByTagName('script')[0];\n  firstScriptTag.parentNode.insertBefore(tag, firstScriptTag);\n});\n};\n\nif(typeof $3Dmolpromise === 'undefined') {\n$3Dmolpromise = null;\n  $3Dmolpromise = loadScriptAsync('https://cdnjs.cloudflare.com/ajax/libs/3Dmol/2.4.0/3Dmol-min.js');\n}\n\nvar viewer_17257669050713801 = null;\nvar warn = document.getElementById(\"3dmolwarning_17257669050713801\");\nif(warn) {\n    warn.parentNode.removeChild(warn);\n}\n$3Dmolpromise.then(function() {\nviewer_17257669050713801 = $3Dmol.createViewer(document.getElementById(\"3dmolviewer_17257669050713801\"),{backgroundColor:\"white\"});\n$3Dmol.download(\"mmtf:1ycr\", viewer_17257669050713801, {}, function() {\nviewer_17257669050713801.zoomTo();\n\tviewer_17257669050713801.setStyle({\"cartoon\": {\"color\": \"spectrum\"}});\nviewer_17257669050713801.render();\n})\n});\n</script>",
            "text/html": [
              "<div id=\"3dmolviewer_17257669050713801\"  style=\"position: relative; width: 640px; height: 480px;\">\n",
              "        <p id=\"3dmolwarning_17257669050713801\" style=\"background-color:#ffcccc;color:black\">3Dmol.js failed to load for some reason.  Please check your browser console for error messages.<br></p>\n",
              "        </div>\n",
              "<script>\n",
              "\n",
              "var loadScriptAsync = function(uri){\n",
              "  return new Promise((resolve, reject) => {\n",
              "    //this is to ignore the existence of requirejs amd\n",
              "    var savedexports, savedmodule;\n",
              "    if (typeof exports !== 'undefined') savedexports = exports;\n",
              "    else exports = {}\n",
              "    if (typeof module !== 'undefined') savedmodule = module;\n",
              "    else module = {}\n",
              "\n",
              "    var tag = document.createElement('script');\n",
              "    tag.src = uri;\n",
              "    tag.async = true;\n",
              "    tag.onload = () => {\n",
              "        exports = savedexports;\n",
              "        module = savedmodule;\n",
              "        resolve();\n",
              "    };\n",
              "  var firstScriptTag = document.getElementsByTagName('script')[0];\n",
              "  firstScriptTag.parentNode.insertBefore(tag, firstScriptTag);\n",
              "});\n",
              "};\n",
              "\n",
              "if(typeof $3Dmolpromise === 'undefined') {\n",
              "$3Dmolpromise = null;\n",
              "  $3Dmolpromise = loadScriptAsync('https://cdnjs.cloudflare.com/ajax/libs/3Dmol/2.4.0/3Dmol-min.js');\n",
              "}\n",
              "\n",
              "var viewer_17257669050713801 = null;\n",
              "var warn = document.getElementById(\"3dmolwarning_17257669050713801\");\n",
              "if(warn) {\n",
              "    warn.parentNode.removeChild(warn);\n",
              "}\n",
              "$3Dmolpromise.then(function() {\n",
              "viewer_17257669050713801 = $3Dmol.createViewer(document.getElementById(\"3dmolviewer_17257669050713801\"),{backgroundColor:\"white\"});\n",
              "$3Dmol.download(\"mmtf:1ycr\", viewer_17257669050713801, {}, function() {\n",
              "viewer_17257669050713801.zoomTo();\n",
              "\tviewer_17257669050713801.setStyle({\"cartoon\": {\"color\": \"spectrum\"}});\n",
              "viewer_17257669050713801.render();\n",
              "})\n",
              "});\n",
              "</script>"
            ]
          },
          "metadata": {}
        },
        {
          "output_type": "execute_result",
          "data": {
            "text/plain": [
              "<py3Dmol.view at 0x7d6df552a230>"
            ]
          },
          "metadata": {},
          "execution_count": 18
        }
      ]
    },
    {
      "cell_type": "markdown",
      "source": [
        "# Heading 1\n",
        "\n",
        "This represents content of heading 1"
      ],
      "metadata": {
        "id": "TsetVD09qjNt"
      }
    },
    {
      "cell_type": "code",
      "source": [
        "a = 1"
      ],
      "metadata": {
        "id": "knacI2pmqr3F"
      },
      "execution_count": 8,
      "outputs": []
    },
    {
      "cell_type": "code",
      "source": [
        "b = \"data\""
      ],
      "metadata": {
        "id": "fW_q3vUrqxrg"
      },
      "execution_count": 9,
      "outputs": []
    },
    {
      "cell_type": "code",
      "source": [
        "c = [1,2,4,5,6]"
      ],
      "metadata": {
        "id": "WNrSh0jSqzOX"
      },
      "execution_count": 4,
      "outputs": []
    },
    {
      "cell_type": "code",
      "source": [
        "d = [\"John\", \"Joey\", \"Jake\", \"Sam\", \"Ram\", \"Rohit\"]"
      ],
      "metadata": {
        "id": "t6kh6v9wq5Hq"
      },
      "execution_count": 10,
      "outputs": []
    },
    {
      "cell_type": "code",
      "source": [
        "for i,j in zip(c,d):\n",
        "    if i == 1:\n",
        "      print(j + \" has \" + str(i) + \" car\")\n",
        "    elif i > 1:\n",
        "      print(j + \" has \" + str(i) + \" cars\")\n",
        "    else:\n",
        "      print(j + \" has no cars\")"
      ],
      "metadata": {
        "colab": {
          "base_uri": "https://localhost:8080/"
        },
        "id": "t-vfbokjrB3Y",
        "outputId": "4635b046-89df-41ff-ba0f-0353e56ceb38"
      },
      "execution_count": 19,
      "outputs": [
        {
          "output_type": "stream",
          "name": "stdout",
          "text": [
            "John has 1 car\n",
            "Joey has 2 cars\n",
            "Jake has 4 cars\n",
            "Sam has 5 cars\n",
            "Ram has 6 cars\n"
          ]
        }
      ]
    },
    {
      "cell_type": "markdown",
      "source": [
        "## Heading 1.1\n",
        "Blah Blah\n"
      ],
      "metadata": {
        "id": "XnmPvjE3sXCz"
      }
    },
    {
      "cell_type": "markdown",
      "source": [
        "## Heading 1.2\n"
      ],
      "metadata": {
        "id": "s-W6YED7sckn"
      }
    },
    {
      "cell_type": "code",
      "source": [
        "vari = 2"
      ],
      "metadata": {
        "id": "szIblSf7sYk8"
      },
      "execution_count": 12,
      "outputs": []
    },
    {
      "cell_type": "markdown",
      "source": [
        "### Heading 1.2.1"
      ],
      "metadata": {
        "id": "BWAbPsuNsveK"
      }
    },
    {
      "cell_type": "code",
      "source": [
        "abc = True"
      ],
      "metadata": {
        "id": "umCptPJqs1rZ"
      },
      "execution_count": 14,
      "outputs": []
    }
  ]
}