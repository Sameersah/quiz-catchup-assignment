{
 "cells": [
  {
   "cell_type": "markdown",
   "metadata": {},
   "source": [
    "```markdown\n",
    "Part 1\n",
    "```"
   ]
  },
  {
   "cell_type": "code",
   "execution_count": 2,
   "metadata": {},
   "outputs": [
    {
     "name": "stdout",
     "output_type": "stream",
     "text": [
      "Hello World\n",
      "Puneet Bajaj\n",
      "11 + 2 = 13\n",
      "11 - 2 = 9\n",
      "11 * 2 = 22\n",
      "11 / 2 = 5.5\n",
      "11 % 2 = 1\n",
      "11 ** 2 = 121\n",
      "11 // 2 = 5\n",
      "1 + 2 - 3 * 2 = -3\n",
      "(1 + 2 - 3) * 2 = 0\n",
      "I like the quote \"Checking how to use quotes in Python\"  Multi-line quotes \n",
      "works like everyone else\n",
      "\n",
      "\n",
      "\n",
      "\n",
      "\n",
      "I don't like newlines\n"
     ]
    }
   ],
   "source": [
    "import random\n",
    "import sys\n",
    "import os\n",
    "\n",
    "print(\"Hello World\")\n",
    "\n",
    "name = \"Puneet Bajaj\"\n",
    "print(name)\n",
    "\n",
    "print (\"11 + 2 =\", 11+2)\n",
    "print(\"11 - 2 =\", 11-2)\n",
    "print(\"11 * 2 =\", 11*2)\n",
    "print(\"11 / 2 =\", 11/2)\n",
    "print(\"11 % 2 =\", 11%2)\n",
    "print(\"11 ** 2 =\", 11**2)\n",
    "print(\"11 // 2 =\", 11//2)\n",
    "\n",
    "print(\"1 + 2 - 3 * 2 =\", 1 + 2 - 3 * 2)\n",
    "print(\"(1 + 2 - 3) * 2 =\", (1 + 2 - 3) * 2)\n",
    "\n",
    "quote = \"\\\"Checking how to use quotes in Python\\\"\"\n",
    "multi_line_quote = ''' Multi-line quotes \n",
    "works like everyone else'''\n",
    "\n",
    "\n",
    "print(\"%s %s %s\" % ('I like the quote', quote, multi_line_quote))\n",
    "\n",
    "print(\"\\n\" * 4)\n",
    "\n",
    "print(\"I don't like \", end=\"\")\n",
    "print(\"newlines\")\n"
   ]
  },
  {
   "cell_type": "markdown",
   "metadata": {},
   "source": [
    "Part 2"
   ]
  },
  {
   "cell_type": "code",
   "execution_count": 3,
   "metadata": {},
   "outputs": [
    {
     "name": "stdout",
     "output_type": "stream",
     "text": [
      "First Item: Juice\n",
      "First Item: Green Juice\n",
      "['Tomatoes', 'Potatoes']\n",
      "[['Wash Car', 'Pick Up Kids', 'Cash Check'], ['Green Juice', 'Tomatoes', 'Potatoes', 'Bananas']]\n",
      "Tomatoes\n",
      "[['Wash Car', 'Pick Up Kids', 'Cash Check'], ['Green Juice', 'Tomatoes', 'Potatoes', 'Bananas', 'Onions']]\n",
      "[['Wash Car', 'Pick Up Kids', 'Cash Check'], ['Green Juice', 'Pickle', 'Tomatoes', 'Potatoes', 'Bananas', 'Onions']]\n",
      "[['Wash Car', 'Pick Up Kids', 'Cash Check'], ['Green Juice', 'Tomatoes', 'Potatoes', 'Bananas', 'Onions']]\n",
      "[['Wash Car', 'Pick Up Kids', 'Cash Check'], ['Bananas', 'Green Juice', 'Onions', 'Potatoes', 'Tomatoes']]\n",
      "[['Wash Car', 'Pick Up Kids', 'Cash Check'], ['Tomatoes', 'Potatoes', 'Onions', 'Green Juice', 'Bananas']]\n",
      "[['Wash Car', 'Pick Up Kids', 'Cash Check'], ['Tomatoes', 'Potatoes', 'Onions', 'Green Juice']]\n",
      "['Wash Car', 'Pick Up Kids', 'Cash Check', 'Tomatoes', 'Potatoes', 'Onions', 'Green Juice']\n",
      "7\n",
      "Wash Car\n",
      "Cash Check\n",
      "['Wash Car', 'Pick Up Kids', 'Cash Check', 'Tomatoes', 'Potatoes', 'Onions', 'Green Juice']\n"
     ]
    }
   ],
   "source": [
    "grocery_list = ['Juice', 'Tomatoes', 'Potatoes', 'Bananas']\n",
    "print('First Item:', grocery_list[0])\n",
    "\n",
    "grocery_list[0] = \"Green Juice\"\n",
    "print('First Item:', grocery_list[0])\n",
    "\n",
    "print(grocery_list[1:3])\n",
    "\n",
    "other_events = ['Wash Car', 'Pick Up Kids', 'Cash Check']\n",
    "\n",
    "to_do_list = [other_events, grocery_list]\n",
    "print(to_do_list)\n",
    "\n",
    "print((to_do_list[1][1]))\n",
    "\n",
    "grocery_list.append('Onions')\n",
    "print(to_do_list)\n",
    "\n",
    "grocery_list.insert(1, \"Pickle\")\n",
    "print(to_do_list)\n",
    "\n",
    "grocery_list.remove(\"Pickle\")\n",
    "print(to_do_list)\n",
    "\n",
    "grocery_list.sort()\n",
    "print(to_do_list)\n",
    "\n",
    "grocery_list.reverse()\n",
    "print(to_do_list)\n",
    "\n",
    "del grocery_list[4]\n",
    "print(to_do_list)\n",
    "\n",
    "to_do_list2 = other_events + grocery_list\n",
    "print(to_do_list2)\n",
    "\n",
    "print(len(to_do_list2))\n",
    "print(max(to_do_list2))\n",
    "print(min(to_do_list2))\n",
    "\n",
    "print(to_do_list2)"
   ]
  },
  {
   "cell_type": "markdown",
   "metadata": {},
   "source": [
    "Part 3"
   ]
  },
  {
   "cell_type": "code",
   "execution_count": 4,
   "metadata": {},
   "outputs": [
    {
     "name": "stdout",
     "output_type": "stream",
     "text": [
      "6\n",
      "1\n",
      "9\n"
     ]
    }
   ],
   "source": [
    "pi_tuple = (3, 1, 4, 1, 5, 9)\n",
    "\n",
    "new_tuple = list(pi_tuple)\n",
    "new_list = tuple(new_tuple)\n",
    "\n",
    "print(len(new_tuple))\n",
    "print(min(new_tuple))\n",
    "\n",
    "print(max(new_tuple))\n"
   ]
  },
  {
   "cell_type": "markdown",
   "metadata": {},
   "source": [
    "Part 4"
   ]
  },
  {
   "cell_type": "code",
   "execution_count": 5,
   "metadata": {},
   "outputs": [
    {
     "name": "stdout",
     "output_type": "stream",
     "text": [
      "Leon\n",
      "{'Captain Cold': 'Leon', 'Weather Wizard': 'Mark Mardon', 'Mirror Master': 'Sam', 'Pied Piper': 'Thomas Peterson'}\n",
      "4\n",
      "Hartley Rathaway\n",
      "dict_keys(['Captain Cold', 'Weather Wizard', 'Mirror Master', 'Pied Piper'])\n",
      "dict_values(['Leon', 'Mark Mardon', 'Sam', 'Hartley Rathaway'])\n"
     ]
    }
   ],
   "source": [
    "super_villains = {'Fiddler': 'Isaac Bowin',\n",
    "                    'Captain Cold': 'Leon',\n",
    "                    'Weather Wizard': 'Mark Mardon',\n",
    "                    'Mirror Master': 'Sam',\n",
    "                    'Pied Piper': 'Thomas Peterson'}\n",
    "\n",
    "print(super_villains['Captain Cold'])\n",
    "\n",
    "del super_villains['Fiddler']\n",
    "print(super_villains)\n",
    "\n",
    "super_villains['Pied Piper'] = 'Hartley Rathaway'\n",
    "\n",
    "print(len(super_villains))\n",
    "\n",
    "print(super_villains.get(\"Pied Piper\"))\n",
    "\n",
    "print(super_villains.keys())\n",
    "\n",
    "print(super_villains.values())"
   ]
  },
  {
   "cell_type": "markdown",
   "metadata": {},
   "source": [
    "Part 5"
   ]
  },
  {
   "cell_type": "code",
   "execution_count": 6,
   "metadata": {},
   "outputs": [
    {
     "name": "stdout",
     "output_type": "stream",
     "text": [
      "You are old enough to drive\n",
      "You are old enough to drive a tractor trailer\n",
      "You get a birthday\n"
     ]
    }
   ],
   "source": [
    "age = 21\n",
    "\n",
    "if age > 16:\n",
    "    print('You are old enough to drive')\n",
    "else:\n",
    "    print('You are not old enough to drive')\n",
    "\n",
    "if age >= 21:\n",
    "    print('You are old enough to drive a tractor trailer')\n",
    "elif age >= 16:\n",
    "    print('You are old enough to drive a car')\n",
    "else:\n",
    "    print('You are not old enough to drive')\n",
    "    \n",
    "if ((age >= 1) and (age <= 18)):\n",
    "    print('You get a birthday')\n",
    "elif (age == 21) or (age >= 65):\n",
    "    print('You get a birthday')\n",
    "elif not(age == 30):\n",
    "    print(\"You don't get a birthday\")\n",
    "else:\n",
    "    print('You get a birthday party yeah')"
   ]
  },
  {
   "cell_type": "markdown",
   "metadata": {},
   "source": [
    "Part 6"
   ]
  },
  {
   "cell_type": "code",
   "execution_count": 7,
   "metadata": {},
   "outputs": [
    {
     "name": "stdout",
     "output_type": "stream",
     "text": [
      "0  1  2  3  4  5  6  7  8  9  \n",
      "\n",
      "Tomatoes\n",
      "Potatoes\n",
      "Onions\n",
      "Green Juice\n",
      "2\n",
      "4\n",
      "6\n",
      "8\n",
      "10\n",
      "1\n",
      "2\n",
      "3\n",
      "10\n",
      "20\n",
      "30\n",
      "100\n",
      "200\n",
      "300\n"
     ]
    }
   ],
   "source": [
    "for x in range(0, 10):\n",
    "    print(x, ' ', end=\"\")\n",
    "\n",
    "print('\\n')\n",
    "\n",
    "for x in grocery_list:\n",
    "    print(x)\n",
    "\n",
    "for x in [2, 4, 6, 8, 10]:\n",
    "    print(x)\n",
    "\n",
    "num_list = [[1, 2, 3], [10, 20, 30], [100, 200, 300]]\n",
    "\n",
    "for x in range(0, 3):\n",
    "    for y in range(0, 3):\n",
    "        print(num_list[x][y])"
   ]
  },
  {
   "cell_type": "markdown",
   "metadata": {},
   "source": [
    "Part 7"
   ]
  },
  {
   "cell_type": "code",
   "execution_count": 8,
   "metadata": {},
   "outputs": [
    {
     "name": "stdout",
     "output_type": "stream",
     "text": [
      "23\n",
      "55\n",
      "92\n",
      "54\n",
      "13\n",
      "62\n",
      "22\n",
      "53\n",
      "23\n",
      "44\n",
      "4\n",
      "5\n",
      "27\n",
      "8\n",
      "48\n",
      "74\n",
      "19\n",
      "97\n",
      "4\n",
      "0\n",
      "45\n",
      "40\n",
      "81\n",
      "40\n",
      "98\n",
      "51\n",
      "40\n",
      "74\n",
      "8\n",
      "99\n",
      "83\n",
      "18\n",
      "13\n",
      "44\n",
      "79\n",
      "88\n",
      "87\n",
      "25\n",
      "38\n",
      "24\n",
      "79\n",
      "16\n",
      "92\n",
      "93\n",
      "47\n",
      "24\n",
      "44\n",
      "19\n",
      "19\n",
      "57\n",
      "42\n",
      "93\n",
      "48\n",
      "19\n",
      "74\n",
      "2\n",
      "33\n",
      "29\n",
      "0\n",
      "2\n",
      "4\n",
      "6\n",
      "8\n"
     ]
    }
   ],
   "source": [
    "random_num = random.randrange(0, 100)\n",
    "\n",
    "while(random_num != 15):\n",
    "    print(random_num)\n",
    "    random_num = random.randrange(0, 100)\n",
    "\n",
    "i = 0\n",
    "\n",
    "while(i <= 20):\n",
    "    if(i % 2 == 0):\n",
    "        print(i)\n",
    "    elif(i == 9):\n",
    "        break\n",
    "    else:\n",
    "        i += 1\n",
    "        continue\n",
    "\n",
    "    i += 1"
   ]
  },
  {
   "cell_type": "markdown",
   "metadata": {},
   "source": [
    "Part 8"
   ]
  },
  {
   "cell_type": "code",
   "execution_count": 9,
   "metadata": {},
   "outputs": [
    {
     "name": "stdout",
     "output_type": "stream",
     "text": [
      "5\n",
      "3\n",
      "Prime\n"
     ]
    }
   ],
   "source": [
    "def addNumber(fNum, lNum):\n",
    "    sumNum = fNum + lNum\n",
    "    return sumNum\n",
    "\n",
    "print(addNumber(1, 4))\n",
    "\n",
    "string = addNumber(1, 2)\n",
    "\n",
    "print(string)\n",
    "\n",
    "def isPrime(num):\n",
    "    for i in range(2, num):\n",
    "        if(num % i) == 0:\n",
    "            return \"Not Prime\"\n",
    "    return \"Prime\"\n",
    "\n",
    "print(isPrime(1))"
   ]
  },
  {
   "cell_type": "markdown",
   "metadata": {},
   "source": [
    "Part 9"
   ]
  },
  {
   "cell_type": "code",
   "execution_count": 10,
   "metadata": {},
   "outputs": [
    {
     "name": "stdout",
     "output_type": "stream",
     "text": [
      "5\n"
     ]
    }
   ],
   "source": [
    "def addNumbers(fNum, lNum):\n",
    "    sumNum = fNum + lNum\n",
    "    return sumNum\n",
    "\n",
    "print(addNumbers(1, 4))"
   ]
  },
  {
   "cell_type": "markdown",
   "metadata": {},
   "source": [
    "Part 10"
   ]
  },
  {
   "cell_type": "code",
   "execution_count": 20,
   "metadata": {},
   "outputs": [
    {
     "name": "stdout",
     "output_type": "stream",
     "text": [
      "What is your name?\n"
     ]
    },
    {
     "ename": "KeyboardInterrupt",
     "evalue": "",
     "output_type": "error",
     "traceback": [
      "\u001b[0;31m---------------------------------------------------------------------------\u001b[0m",
      "\u001b[0;31mKeyboardInterrupt\u001b[0m                         Traceback (most recent call last)",
      "Cell \u001b[0;32mIn[20], line 3\u001b[0m\n\u001b[1;32m      1\u001b[0m \u001b[38;5;28mprint\u001b[39m(\u001b[38;5;124m'\u001b[39m\u001b[38;5;124mWhat is your name?\u001b[39m\u001b[38;5;124m'\u001b[39m)\n\u001b[0;32m----> 3\u001b[0m name \u001b[38;5;241m=\u001b[39m \u001b[43msys\u001b[49m\u001b[38;5;241;43m.\u001b[39;49m\u001b[43mstdin\u001b[49m\u001b[38;5;241;43m.\u001b[39;49m\u001b[43mreadline\u001b[49m\u001b[43m(\u001b[49m\u001b[43m)\u001b[49m\n\u001b[1;32m      5\u001b[0m \u001b[38;5;28mprint\u001b[39m(\u001b[38;5;124m'\u001b[39m\u001b[38;5;124mHello\u001b[39m\u001b[38;5;124m'\u001b[39m, name)\n",
      "\u001b[0;31mKeyboardInterrupt\u001b[0m: "
     ]
    }
   ],
   "source": [
    "print('What is your name?')\n",
    "\n",
    "name = sys.stdin.readline()\n",
    "\n",
    "print('Hello', name)"
   ]
  },
  {
   "cell_type": "markdown",
   "metadata": {},
   "source": [
    "Part 11"
   ]
  },
  {
   "cell_type": "code",
   "execution_count": 21,
   "metadata": {},
   "outputs": [
    {
     "name": "stdout",
     "output_type": "stream",
     "text": [
      "I'll\n",
      "Floor\n",
      "I'll catch you if you fall - The \n",
      "I'll be there\n",
      "X is my favorite letter and my number 1 number is 0.14000\n",
      "I'll catch you if you fall - the floor\n",
      "33\n",
      "False\n",
      "False\n",
      "38\n",
      "I'll catch you if you fall - The Ground\n",
      "I'll catch you if you fall - The Floor\n",
      "[\"I'll\", 'catch', 'you', 'if', 'you', 'fall', '-', 'The', 'Floor']\n"
     ]
    }
   ],
   "source": [
    "long_string = \"I'll catch you if you fall - The Floor\"\n",
    "\n",
    "print(long_string[0:4])\n",
    "\n",
    "print(long_string[-5:])\n",
    "\n",
    "print(long_string[:-5])\n",
    "\n",
    "print(long_string[:4] + \" be there\")\n",
    "\n",
    "print(\"%c is my %s letter and my number %d number is %.5f\" % ('X', 'favorite', 1, .14))\n",
    "\n",
    "print(long_string.capitalize())\n",
    "\n",
    "print(long_string.find(\"Floor\"))\n",
    "\n",
    "print(long_string.isalpha())\n",
    "\n",
    "print(long_string.isalnum())\n",
    "\n",
    "print(len(long_string))\n",
    "\n",
    "print(long_string.replace(\"Floor\", \"Ground\"))\n",
    "\n",
    "print(long_string.strip())\n",
    "\n",
    "quote_list = long_string.split(\" \")\n",
    "\n",
    "print(quote_list)"
   ]
  },
  {
   "cell_type": "markdown",
   "metadata": {},
   "source": [
    "Part 12"
   ]
  },
  {
   "cell_type": "code",
   "execution_count": 22,
   "metadata": {},
   "outputs": [
    {
     "name": "stdout",
     "output_type": "stream",
     "text": [
      "wb\n",
      "test.txt\n",
      "Write me to the file\n",
      "\n"
     ]
    }
   ],
   "source": [
    "test_file = open(\"test.txt\", \"wb\")\n",
    "\n",
    "print(test_file.mode)\n",
    "\n",
    "print(test_file.name)\n",
    "\n",
    "test_file.write(bytes(\"Write me to the file\\n\", 'UTF-8'))\n",
    "\n",
    "test_file.close()\n",
    "\n",
    "test_file = open(\"test.txt\", \"r+\")\n",
    "\n",
    "text_in_file = test_file.read()\n",
    "\n",
    "print(text_in_file)\n",
    "\n",
    "os.remove(\"test.txt\")"
   ]
  },
  {
   "cell_type": "markdown",
   "metadata": {},
   "source": [
    "Part 13"
   ]
  },
  {
   "cell_type": "code",
   "execution_count": 23,
   "metadata": {},
   "outputs": [
    {
     "name": "stdout",
     "output_type": "stream",
     "text": [
      "Whiskers is 33 cm tall and 10 kgs and says Meow\n"
     ]
    }
   ],
   "source": [
    "class Animal:\n",
    "    __name = \"\"\n",
    "    __height = 0\n",
    "    __weight = 0\n",
    "    __sound = 0\n",
    "\n",
    "    def __init__(self, name, height, weight, sound):\n",
    "        self.__name = name\n",
    "        self.__height = height\n",
    "        self.__weight = weight\n",
    "        self.__sound = sound\n",
    "\n",
    "    def set_name(self, name):\n",
    "        self.__name = name\n",
    "\n",
    "    def get_name(self):\n",
    "        return self.__name\n",
    "    \n",
    "    def set_height(self, height):\n",
    "        self.__height = height\n",
    "\n",
    "    def get_height(self):\n",
    "        return self.__height\n",
    "    \n",
    "    def set_weight(self, weight):\n",
    "        self.__weight = weight\n",
    "\n",
    "    def get_weight(self):\n",
    "        return self.__weight\n",
    "    \n",
    "    def set_sound(self, sound):\n",
    "        self.__sound = sound\n",
    "\n",
    "    def get_sound(self):\n",
    "        return self.__sound\n",
    "    \n",
    "    def get_type(self):\n",
    "        print(\"Animal\")\n",
    "\n",
    "    def toString(self):\n",
    "        return \"{} is {} cm tall and {} kgs and says {}\".format(self.__name, self.__height, self.__weight, self.__sound)\n",
    "    \n",
    "cat = Animal('Whiskers', 33, 10, 'Meow')\n",
    "\n",
    "print(cat.toString())"
   ]
  },
  {
   "cell_type": "markdown",
   "metadata": {},
   "source": [
    "Part 14"
   ]
  },
  {
   "cell_type": "code",
   "execution_count": 24,
   "metadata": {},
   "outputs": [
    {
     "name": "stdout",
     "output_type": "stream",
     "text": [
      "Spot is 53 cm tall and 27 kgs and says Ruff His owner is Derek\n"
     ]
    }
   ],
   "source": [
    "class Dog(Animal):\n",
    "    __owner = \"\"\n",
    "\n",
    "    def __init__(self, name, height, weight, sound, owner):\n",
    "        self.__owner = owner\n",
    "        super(Dog, self).__init__(name, height, weight, sound)\n",
    "\n",
    "    def set_owner(self, owner):\n",
    "        self.__owner = owner\n",
    "\n",
    "    def get_owner(self):\n",
    "        return self.__owner\n",
    "    \n",
    "    def get_type(self):\n",
    "        print(\"Dog\")\n",
    "\n",
    "    def toString(self):\n",
    "        return \"{} is {} cm tall and {} kgs and says {} His owner is {}\".format(self.get_name(), self.get_height(), self.get_weight(), self.get_sound(), self.__owner)\n",
    "    \n",
    "    def multiple_sounds(self, how_many=None):\n",
    "        if how_many is None:\n",
    "            print(self.get_sound())\n",
    "        else:\n",
    "            print(self.get_sound() * how_many)\n",
    "\n",
    "spot = Dog(\"Spot\", 53, 27, \"Ruff\", \"Derek\")\n",
    "\n",
    "print(spot.toString())"
   ]
  },
  {
   "cell_type": "markdown",
   "metadata": {},
   "source": [
    "Part 15"
   ]
  },
  {
   "cell_type": "code",
   "execution_count": 25,
   "metadata": {},
   "outputs": [
    {
     "name": "stdout",
     "output_type": "stream",
     "text": [
      "Animal\n",
      "Dog\n",
      "RuffRuffRuffRuff\n"
     ]
    }
   ],
   "source": [
    "class AnimalTesting:\n",
    "    def get_type(self, animal):\n",
    "        animal.get_type()\n",
    "\n",
    "test_animals = AnimalTesting()\n",
    "\n",
    "test_animals.get_type(cat)\n",
    "test_animals.get_type(spot)\n",
    "\n",
    "spot.multiple_sounds(4)"
   ]
  }
 ],
 "metadata": {
  "kernelspec": {
   "display_name": "Python 3",
   "language": "python",
   "name": "python3"
  },
  "language_info": {
   "codemirror_mode": {
    "name": "ipython",
    "version": 3
   },
   "file_extension": ".py",
   "mimetype": "text/x-python",
   "name": "python",
   "nbconvert_exporter": "python",
   "pygments_lexer": "ipython3",
   "version": "3.12.5"
  }
 },
 "nbformat": 4,
 "nbformat_minor": 2
}
