{
  "cells": [
    {
      "cell_type": "code",
      "execution_count": 1,
      "metadata": {
        "colab": {
          "base_uri": "https://localhost:8080/"
        },
        "id": "NButzVX2r4VT",
        "outputId": "f4932eb5-f909-4447-e544-cbe0be151963"
      },
      "outputs": [
        {
          "output_type": "stream",
          "name": "stdout",
          "text": [
            "Requirement already satisfied: kaggle in /usr/local/lib/python3.10/dist-packages (1.6.17)\n",
            "Requirement already satisfied: six>=1.10 in /usr/local/lib/python3.10/dist-packages (from kaggle) (1.16.0)\n",
            "Requirement already satisfied: certifi>=2023.7.22 in /usr/local/lib/python3.10/dist-packages (from kaggle) (2024.8.30)\n",
            "Requirement already satisfied: python-dateutil in /usr/local/lib/python3.10/dist-packages (from kaggle) (2.8.2)\n",
            "Requirement already satisfied: requests in /usr/local/lib/python3.10/dist-packages (from kaggle) (2.32.3)\n",
            "Requirement already satisfied: tqdm in /usr/local/lib/python3.10/dist-packages (from kaggle) (4.66.5)\n",
            "Requirement already satisfied: python-slugify in /usr/local/lib/python3.10/dist-packages (from kaggle) (8.0.4)\n",
            "Requirement already satisfied: urllib3 in /usr/local/lib/python3.10/dist-packages (from kaggle) (2.0.7)\n",
            "Requirement already satisfied: bleach in /usr/local/lib/python3.10/dist-packages (from kaggle) (6.1.0)\n",
            "Requirement already satisfied: webencodings in /usr/local/lib/python3.10/dist-packages (from bleach->kaggle) (0.5.1)\n",
            "Requirement already satisfied: text-unidecode>=1.3 in /usr/local/lib/python3.10/dist-packages (from python-slugify->kaggle) (1.3)\n",
            "Requirement already satisfied: charset-normalizer<4,>=2 in /usr/local/lib/python3.10/dist-packages (from requests->kaggle) (3.3.2)\n",
            "Requirement already satisfied: idna<4,>=2.5 in /usr/local/lib/python3.10/dist-packages (from requests->kaggle) (3.8)\n"
          ]
        }
      ],
      "source": [
        "!pip install --user kaggle"
      ]
    },
    {
      "cell_type": "code",
      "execution_count": 2,
      "metadata": {
        "colab": {
          "base_uri": "https://localhost:8080/"
        },
        "id": "r7XdG5IgvUI6",
        "outputId": "748b9a9a-01b4-4fba-f9a2-252813e44989"
      },
      "outputs": [
        {
          "output_type": "stream",
          "name": "stdout",
          "text": [
            "/content\n"
          ]
        }
      ],
      "source": [
        "!pwd"
      ]
    },
    {
      "cell_type": "code",
      "execution_count": 3,
      "metadata": {
        "id": "cEUZAfNdvZ9d"
      },
      "outputs": [],
      "source": [
        "!mkdir ~/.kaggle"
      ]
    },
    {
      "cell_type": "code",
      "execution_count": 4,
      "metadata": {
        "id": "Gfxm1XglvcDv"
      },
      "outputs": [],
      "source": [
        "!mv kaggle.json ~/.kaggle/"
      ]
    },
    {
      "cell_type": "code",
      "execution_count": 5,
      "metadata": {
        "colab": {
          "base_uri": "https://localhost:8080/"
        },
        "id": "-Kovg5ioveuZ",
        "outputId": "bb2140e0-d1d3-4868-d17a-0c3995bc2a57"
      },
      "outputs": [
        {
          "output_type": "stream",
          "name": "stdout",
          "text": [
            "kaggle.json\n"
          ]
        }
      ],
      "source": [
        "!ls ~/.kaggle"
      ]
    },
    {
      "cell_type": "code",
      "execution_count": 6,
      "metadata": {
        "id": "J8l83FBIvnNF"
      },
      "outputs": [],
      "source": [
        "!chmod 600 ~/.kaggle/kaggle.json"
      ]
    },
    {
      "cell_type": "code",
      "execution_count": 7,
      "metadata": {
        "colab": {
          "base_uri": "https://localhost:8080/"
        },
        "id": "PKBvxQzPzM8x",
        "outputId": "c5f30651-8bc4-42e9-a4c6-a2763d38d07b"
      },
      "outputs": [
        {
          "output_type": "stream",
          "name": "stdout",
          "text": [
            "ref                                                              title                                                size  lastUpdated          downloadCount  voteCount  usabilityRating  \n",
            "---------------------------------------------------------------  --------------------------------------------------  -----  -------------------  -------------  ---------  ---------------  \n",
            "lainguyn123/student-performance-factors                          Student Performance Factors                          94KB  2024-09-02 10:53:57           6632        148  1.0              \n",
            "hanaksoy/customer-purchasing-behaviors                           Customer Purchasing Behaviors                         1KB  2024-09-01 22:18:07           3854         55  1.0              \n",
            "haseebindata/student-performance-predictions                     Student Performance Predictions                       9KB  2024-08-17 06:57:57          11818        252  0.9411765        \n",
            "abdullah0a/retail-sales-data-with-seasonal-trends-and-marketing  Retail Sales Data with Seasonal Trends & Marketing  320KB  2024-09-09 07:02:46           1950         38  1.0              \n",
            "computingvictor/2024-academic-ranking-of-world-universities      🥇 Top Universities Ranking 2024                      19KB  2024-08-20 11:54:54           2030         40  1.0              \n",
            "muhammadehsan02/126-years-of-historical-olympic-dataset          126 Years of Historical Olympic Dataset              27MB  2024-08-27 12:51:57           1854         44  1.0              \n",
            "uom190346a/ai-powered-job-market-insights                        AI-Powered Job Market Insights                       10KB  2024-08-26 05:55:43           4313         83  1.0              \n",
            "waqi786/climate-change-impact-on-agriculture                     🌍 Climate Change Impact on Agriculture 🌱            327KB  2024-09-06 13:25:59           2046         38  1.0              \n",
            "waqi786/sustainable-fashion-eco-friendly-trends                  🌿 Sustainable Fashion: Eco-Friendly Trends          149KB  2024-09-07 12:39:51            789         22  1.0              \n",
            "muhammadehsan02/formula-1-world-championship-history-1950-2024   Formula 1 World Championship History (1950-2024)      6MB  2024-09-03 20:11:24           1395         32  1.0              \n",
            "michaelmatta0/amazon-cell-phones-cleaned-scraped-data            Amazon Cell Phones Cleaned Scraped Data               2MB  2024-09-10 21:01:15            903         25  1.0              \n",
            "abdullah0a/human-age-prediction-synthetic-dataset                Human Age Prediction Synthetic Dataset              739KB  2024-09-04 07:25:39           2144         35  1.0              \n",
            "thebumpkin/10400-classic-hits-10-genres-1923-to-2023             15,000 Music Tracks - 19 Genres (w/ Spotify Data)   677KB  2024-08-30 18:20:48           1195         26  1.0              \n",
            "thebumpkin/300-world-music-tracks-with-spotify-data              300 World Music Tracks (with Spotify Data)           19KB  2024-08-25 13:05:14           1650         26  1.0              \n",
            "mbsoroush/google-dataset                                         Google Dataset                                       29KB  2024-09-06 03:09:40            358         23  1.0              \n",
            "novandraanugrah/bitcoin-historical-datasets-2018-2024            BITCOIN Historical Datasets 2018-2024                17MB  2024-09-09 01:19:56           1092         36  1.0              \n",
            "jocelyndumlao/chatbots-impact-on-university-learning             Chatbots'  Impact on University Learning            599KB  2024-09-02 09:51:49            640         22  0.9411765        \n",
            "stefanydeoliveira/summer-olympics-medals-1896-2024               Summer Olympics Medals (1896-2024)                    4MB  2024-08-29 23:52:10           2331         46  1.0              \n",
            "waqi786/most-used-beauty-cosmetics-products-in-the-world         💄 Top Beauty & Cosmetics Products Worldwide 2024    315KB  2024-09-09 06:22:19            917         28  1.0              \n",
            "abdullah0a/urban-air-quality-and-health-impact-dataset           Urban Air Quality and Health Impact Analysis        254KB  2024-09-07 18:29:41           1258         25  1.0              \n"
          ]
        }
      ],
      "source": [
        "!kaggle datasets list"
      ]
    },
    {
      "cell_type": "code",
      "execution_count": 8,
      "metadata": {
        "colab": {
          "base_uri": "https://localhost:8080/"
        },
        "id": "6P4r6zfC1YKM",
        "outputId": "3df51444-8469-41d8-d3ab-1f1cf0e23023"
      },
      "outputs": [
        {
          "output_type": "stream",
          "name": "stdout",
          "text": [
            "ref                                                                                     deadline             category                reward  teamCount  userHasEntered  \n",
            "--------------------------------------------------------------------------------------  -------------------  ---------------  -------------  ---------  --------------  \n",
            "https://www.kaggle.com/competitions/arc-prize-2024                                      2024-11-10 23:59:00  Featured         1,100,000 Usd        980           False  \n",
            "https://www.kaggle.com/competitions/eedi-mining-misconceptions-in-mathematics           2024-12-12 23:59:00  Featured            55,000 Usd        146           False  \n",
            "https://www.kaggle.com/competitions/rsna-2024-lumbar-spine-degenerative-classification  2024-10-08 23:59:00  Featured            50,000 Usd       1541           False  \n",
            "https://www.kaggle.com/competitions/ariel-data-challenge-2024                           2024-10-31 23:59:00  Featured            50,000 Usd        640           False  \n",
            "https://www.kaggle.com/competitions/um-game-playing-strength-of-mcts-variants           2024-12-02 23:59:00  Research            50,000 Usd        508           False  \n",
            "https://www.kaggle.com/competitions/playground-series-s4e9                              2024-09-30 23:59:00  Playground                Swag       1668           False  \n",
            "https://www.kaggle.com/competitions/titanic                                             2030-01-01 00:00:00  Getting Started      Knowledge      13631           False  \n",
            "https://www.kaggle.com/competitions/house-prices-advanced-regression-techniques         2030-01-01 00:00:00  Getting Started      Knowledge       4389           False  \n",
            "https://www.kaggle.com/competitions/spaceship-titanic                                   2030-01-01 00:00:00  Getting Started      Knowledge       1949           False  \n",
            "https://www.kaggle.com/competitions/digit-recognizer                                    2030-01-01 00:00:00  Getting Started      Knowledge       1450           False  \n",
            "https://www.kaggle.com/competitions/nlp-getting-started                                 2030-01-01 00:00:00  Getting Started      Knowledge        859           False  \n",
            "https://www.kaggle.com/competitions/store-sales-time-series-forecasting                 2030-06-30 23:59:00  Getting Started      Knowledge        585           False  \n",
            "https://www.kaggle.com/competitions/connectx                                            2030-01-01 00:00:00  Getting Started      Knowledge        172           False  \n",
            "https://www.kaggle.com/competitions/gan-getting-started                                 2030-07-01 23:59:00  Getting Started      Knowledge         83           False  \n",
            "https://www.kaggle.com/competitions/contradictory-my-dear-watson                        2030-07-01 23:59:00  Getting Started      Knowledge         61           False  \n",
            "https://www.kaggle.com/competitions/tpu-getting-started                                 2030-06-03 23:59:00  Getting Started      Knowledge         34           False  \n"
          ]
        }
      ],
      "source": [
        "!kaggle competitions list"
      ]
    },
    {
      "cell_type": "code",
      "execution_count": 9,
      "metadata": {
        "colab": {
          "base_uri": "https://localhost:8080/"
        },
        "id": "urxabFOU1fI_",
        "outputId": "c1876712-87d6-4fe8-f69e-78edc6d8ac69"
      },
      "outputs": [
        {
          "output_type": "stream",
          "name": "stdout",
          "text": [
            "Downloading ieee-fraud-detection.zip to /content\n",
            " 90% 106M/118M [00:01<00:00, 95.9MB/s]\n",
            "100% 118M/118M [00:01<00:00, 105MB/s] \n"
          ]
        }
      ],
      "source": [
        "!kaggle competitions download -c ieee-fraud-detection"
      ]
    },
    {
      "cell_type": "code",
      "execution_count": 10,
      "metadata": {
        "colab": {
          "base_uri": "https://localhost:8080/"
        },
        "id": "v5M1LV3H-URR",
        "outputId": "8a615b9d-3b1a-4fc6-e493-23d0fde03bc3"
      },
      "outputs": [
        {
          "output_type": "stream",
          "name": "stdout",
          "text": [
            "Collecting autogluon.tabular\n",
            "  Downloading autogluon.tabular-1.1.1-py3-none-any.whl.metadata (13 kB)\n",
            "Requirement already satisfied: numpy<1.29,>=1.21 in /usr/local/lib/python3.10/dist-packages (from autogluon.tabular) (1.26.4)\n",
            "Collecting scipy<1.13,>=1.5.4 (from autogluon.tabular)\n",
            "  Downloading scipy-1.12.0-cp310-cp310-manylinux_2_17_x86_64.manylinux2014_x86_64.whl.metadata (60 kB)\n",
            "\u001b[2K     \u001b[90m━━━━━━━━━━━━━━━━━━━━━━━━━━━━━━━━━━━━━━━━\u001b[0m \u001b[32m60.4/60.4 kB\u001b[0m \u001b[31m451.4 kB/s\u001b[0m eta \u001b[36m0:00:00\u001b[0m\n",
            "\u001b[?25hRequirement already satisfied: pandas<2.3.0,>=2.0.0 in /usr/local/lib/python3.10/dist-packages (from autogluon.tabular) (2.1.4)\n",
            "Requirement already satisfied: scikit-learn<1.4.1,>=1.3.0 in /usr/local/lib/python3.10/dist-packages (from autogluon.tabular) (1.3.2)\n",
            "Requirement already satisfied: networkx<4,>=3.0 in /usr/local/lib/python3.10/dist-packages (from autogluon.tabular) (3.3)\n",
            "Collecting autogluon.core==1.1.1 (from autogluon.tabular)\n",
            "  Downloading autogluon.core-1.1.1-py3-none-any.whl.metadata (11 kB)\n",
            "Collecting autogluon.features==1.1.1 (from autogluon.tabular)\n",
            "  Downloading autogluon.features-1.1.1-py3-none-any.whl.metadata (11 kB)\n",
            "Requirement already satisfied: tqdm<5,>=4.38 in /usr/local/lib/python3.10/dist-packages (from autogluon.core==1.1.1->autogluon.tabular) (4.66.5)\n",
            "Requirement already satisfied: requests in /usr/local/lib/python3.10/dist-packages (from autogluon.core==1.1.1->autogluon.tabular) (2.32.3)\n",
            "Requirement already satisfied: matplotlib in /usr/local/lib/python3.10/dist-packages (from autogluon.core==1.1.1->autogluon.tabular) (3.7.1)\n",
            "Collecting boto3<2,>=1.10 (from autogluon.core==1.1.1->autogluon.tabular)\n",
            "  Downloading boto3-1.35.19-py3-none-any.whl.metadata (6.6 kB)\n",
            "Collecting autogluon.common==1.1.1 (from autogluon.core==1.1.1->autogluon.tabular)\n",
            "  Downloading autogluon.common-1.1.1-py3-none-any.whl.metadata (11 kB)\n",
            "Requirement already satisfied: psutil<6,>=5.7.3 in /usr/local/lib/python3.10/dist-packages (from autogluon.common==1.1.1->autogluon.core==1.1.1->autogluon.tabular) (5.9.5)\n",
            "Requirement already satisfied: setuptools in /usr/local/lib/python3.10/dist-packages (from autogluon.common==1.1.1->autogluon.core==1.1.1->autogluon.tabular) (71.0.4)\n",
            "Requirement already satisfied: python-dateutil>=2.8.2 in /usr/local/lib/python3.10/dist-packages (from pandas<2.3.0,>=2.0.0->autogluon.tabular) (2.8.2)\n",
            "Requirement already satisfied: pytz>=2020.1 in /usr/local/lib/python3.10/dist-packages (from pandas<2.3.0,>=2.0.0->autogluon.tabular) (2024.2)\n",
            "Requirement already satisfied: tzdata>=2022.1 in /usr/local/lib/python3.10/dist-packages (from pandas<2.3.0,>=2.0.0->autogluon.tabular) (2024.1)\n",
            "Requirement already satisfied: joblib>=1.1.1 in /usr/local/lib/python3.10/dist-packages (from scikit-learn<1.4.1,>=1.3.0->autogluon.tabular) (1.4.2)\n",
            "Requirement already satisfied: threadpoolctl>=2.0.0 in /usr/local/lib/python3.10/dist-packages (from scikit-learn<1.4.1,>=1.3.0->autogluon.tabular) (3.5.0)\n",
            "Collecting botocore<1.36.0,>=1.35.19 (from boto3<2,>=1.10->autogluon.core==1.1.1->autogluon.tabular)\n",
            "  Downloading botocore-1.35.19-py3-none-any.whl.metadata (5.7 kB)\n",
            "Collecting jmespath<2.0.0,>=0.7.1 (from boto3<2,>=1.10->autogluon.core==1.1.1->autogluon.tabular)\n",
            "  Downloading jmespath-1.0.1-py3-none-any.whl.metadata (7.6 kB)\n",
            "Collecting s3transfer<0.11.0,>=0.10.0 (from boto3<2,>=1.10->autogluon.core==1.1.1->autogluon.tabular)\n",
            "  Downloading s3transfer-0.10.2-py3-none-any.whl.metadata (1.7 kB)\n",
            "Requirement already satisfied: six>=1.5 in /usr/local/lib/python3.10/dist-packages (from python-dateutil>=2.8.2->pandas<2.3.0,>=2.0.0->autogluon.tabular) (1.16.0)\n",
            "Requirement already satisfied: contourpy>=1.0.1 in /usr/local/lib/python3.10/dist-packages (from matplotlib->autogluon.core==1.1.1->autogluon.tabular) (1.3.0)\n",
            "Requirement already satisfied: cycler>=0.10 in /usr/local/lib/python3.10/dist-packages (from matplotlib->autogluon.core==1.1.1->autogluon.tabular) (0.12.1)\n",
            "Requirement already satisfied: fonttools>=4.22.0 in /usr/local/lib/python3.10/dist-packages (from matplotlib->autogluon.core==1.1.1->autogluon.tabular) (4.53.1)\n",
            "Requirement already satisfied: kiwisolver>=1.0.1 in /usr/local/lib/python3.10/dist-packages (from matplotlib->autogluon.core==1.1.1->autogluon.tabular) (1.4.7)\n",
            "Requirement already satisfied: packaging>=20.0 in /usr/local/lib/python3.10/dist-packages (from matplotlib->autogluon.core==1.1.1->autogluon.tabular) (24.1)\n",
            "Requirement already satisfied: pillow>=6.2.0 in /usr/local/lib/python3.10/dist-packages (from matplotlib->autogluon.core==1.1.1->autogluon.tabular) (9.4.0)\n",
            "Requirement already satisfied: pyparsing>=2.3.1 in /usr/local/lib/python3.10/dist-packages (from matplotlib->autogluon.core==1.1.1->autogluon.tabular) (3.1.4)\n",
            "Requirement already satisfied: charset-normalizer<4,>=2 in /usr/local/lib/python3.10/dist-packages (from requests->autogluon.core==1.1.1->autogluon.tabular) (3.3.2)\n",
            "Requirement already satisfied: idna<4,>=2.5 in /usr/local/lib/python3.10/dist-packages (from requests->autogluon.core==1.1.1->autogluon.tabular) (3.8)\n",
            "Requirement already satisfied: urllib3<3,>=1.21.1 in /usr/local/lib/python3.10/dist-packages (from requests->autogluon.core==1.1.1->autogluon.tabular) (2.0.7)\n",
            "Requirement already satisfied: certifi>=2017.4.17 in /usr/local/lib/python3.10/dist-packages (from requests->autogluon.core==1.1.1->autogluon.tabular) (2024.8.30)\n",
            "Downloading autogluon.tabular-1.1.1-py3-none-any.whl (312 kB)\n",
            "\u001b[2K   \u001b[90m━━━━━━━━━━━━━━━━━━━━━━━━━━━━━━━━━━━━━━━━\u001b[0m \u001b[32m312.1/312.1 kB\u001b[0m \u001b[31m3.7 MB/s\u001b[0m eta \u001b[36m0:00:00\u001b[0m\n",
            "\u001b[?25hDownloading autogluon.core-1.1.1-py3-none-any.whl (234 kB)\n",
            "\u001b[2K   \u001b[90m━━━━━━━━━━━━━━━━━━━━━━━━━━━━━━━━━━━━━━━━\u001b[0m \u001b[32m234.8/234.8 kB\u001b[0m \u001b[31m10.0 MB/s\u001b[0m eta \u001b[36m0:00:00\u001b[0m\n",
            "\u001b[?25hDownloading autogluon.features-1.1.1-py3-none-any.whl (63 kB)\n",
            "\u001b[2K   \u001b[90m━━━━━━━━━━━━━━━━━━━━━━━━━━━━━━━━━━━━━━━━\u001b[0m \u001b[32m63.4/63.4 kB\u001b[0m \u001b[31m3.3 MB/s\u001b[0m eta \u001b[36m0:00:00\u001b[0m\n",
            "\u001b[?25hDownloading autogluon.common-1.1.1-py3-none-any.whl (64 kB)\n",
            "\u001b[2K   \u001b[90m━━━━━━━━━━━━━━━━━━━━━━━━━━━━━━━━━━━━━━━━\u001b[0m \u001b[32m64.6/64.6 kB\u001b[0m \u001b[31m3.5 MB/s\u001b[0m eta \u001b[36m0:00:00\u001b[0m\n",
            "\u001b[?25hDownloading scipy-1.12.0-cp310-cp310-manylinux_2_17_x86_64.manylinux2014_x86_64.whl (38.4 MB)\n",
            "\u001b[2K   \u001b[90m━━━━━━━━━━━━━━━━━━━━━━━━━━━━━━━━━━━━━━━━\u001b[0m \u001b[32m38.4/38.4 MB\u001b[0m \u001b[31m9.5 MB/s\u001b[0m eta \u001b[36m0:00:00\u001b[0m\n",
            "\u001b[?25hDownloading boto3-1.35.19-py3-none-any.whl (139 kB)\n",
            "\u001b[2K   \u001b[90m━━━━━━━━━━━━━━━━━━━━━━━━━━━━━━━━━━━━━━━━\u001b[0m \u001b[32m139.2/139.2 kB\u001b[0m \u001b[31m7.2 MB/s\u001b[0m eta \u001b[36m0:00:00\u001b[0m\n",
            "\u001b[?25hDownloading botocore-1.35.19-py3-none-any.whl (12.5 MB)\n",
            "\u001b[2K   \u001b[90m━━━━━━━━━━━━━━━━━━━━━━━━━━━━━━━━━━━━━━━━\u001b[0m \u001b[32m12.5/12.5 MB\u001b[0m \u001b[31m49.8 MB/s\u001b[0m eta \u001b[36m0:00:00\u001b[0m\n",
            "\u001b[?25hDownloading jmespath-1.0.1-py3-none-any.whl (20 kB)\n",
            "Downloading s3transfer-0.10.2-py3-none-any.whl (82 kB)\n",
            "\u001b[2K   \u001b[90m━━━━━━━━━━━━━━━━━━━━━━━━━━━━━━━━━━━━━━━━\u001b[0m \u001b[32m82.7/82.7 kB\u001b[0m \u001b[31m4.6 MB/s\u001b[0m eta \u001b[36m0:00:00\u001b[0m\n",
            "\u001b[?25hInstalling collected packages: scipy, jmespath, botocore, s3transfer, boto3, autogluon.common, autogluon.features, autogluon.core, autogluon.tabular\n",
            "  Attempting uninstall: scipy\n",
            "    Found existing installation: scipy 1.13.1\n",
            "    Uninstalling scipy-1.13.1:\n",
            "      Successfully uninstalled scipy-1.13.1\n",
            "\u001b[31mERROR: pip's dependency resolver does not currently take into account all the packages that are installed. This behaviour is the source of the following dependency conflicts.\n",
            "osqp 0.6.7.post0 requires scipy!=1.12.0,>=0.13.2, but you have scipy 1.12.0 which is incompatible.\u001b[0m\u001b[31m\n",
            "\u001b[0mSuccessfully installed autogluon.common-1.1.1 autogluon.core-1.1.1 autogluon.features-1.1.1 autogluon.tabular-1.1.1 boto3-1.35.19 botocore-1.35.19 jmespath-1.0.1 s3transfer-0.10.2 scipy-1.12.0\n"
          ]
        }
      ],
      "source": [
        "!pip install autogluon.tabular"
      ]
    },
    {
      "cell_type": "code",
      "execution_count": 11,
      "metadata": {
        "colab": {
          "base_uri": "https://localhost:8080/"
        },
        "id": "SIgRunRq-XRn",
        "outputId": "c929ebf5-339e-4848-d299-a37856f4bdac"
      },
      "outputs": [
        {
          "output_type": "stream",
          "name": "stdout",
          "text": [
            "Archive:  ieee-fraud-detection.zip\n",
            "  inflating: /root/IEEEfraud/sample_submission.csv  \n",
            "  inflating: /root/IEEEfraud/test_identity.csv  \n",
            "  inflating: /root/IEEEfraud/test_transaction.csv  \n",
            "  inflating: /root/IEEEfraud/train_identity.csv  \n",
            "  inflating: /root/IEEEfraud/train_transaction.csv  \n"
          ]
        }
      ],
      "source": [
        "!unzip ieee-fraud-detection.zip -d ~/IEEEfraud/"
      ]
    },
    {
      "cell_type": "code",
      "execution_count": 12,
      "metadata": {
        "colab": {
          "base_uri": "https://localhost:8080/"
        },
        "id": "1lwgWxJm_iWT",
        "outputId": "959233c0-12c0-4588-ef58-09c54b938d00"
      },
      "outputs": [
        {
          "output_type": "stream",
          "name": "stdout",
          "text": [
            "Python 3.10.12\n"
          ]
        }
      ],
      "source": [
        "!python --version"
      ]
    },
    {
      "cell_type": "code",
      "execution_count": 13,
      "metadata": {
        "id": "P3Td5UHf304_"
      },
      "outputs": [],
      "source": [
        "# !pip install numpy --upgrade\n",
        "\n",
        "import pandas as pd\n",
        "import numpy as np\n",
        "from autogluon.tabular import TabularPredictor\n",
        "\n",
        "\n",
        "directory = '~/IEEEfraud/'  # directory where you have downloaded the data CSV files from the competition\n",
        "label = 'isFraud'  # name of target variable to predict in this competition\n",
        "eval_metric = 'roc_auc'  # Optional: specify that competition evaluation metric is AUC\n",
        "save_path = directory + 'AutoGluonModels/'  # where to store trained models\n",
        "\n",
        "train_identity = pd.read_csv(directory+'train_identity.csv')\n",
        "train_transaction = pd.read_csv(directory+'train_transaction.csv')"
      ]
    },
    {
      "cell_type": "code",
      "execution_count": 14,
      "metadata": {
        "colab": {
          "base_uri": "https://localhost:8080/"
        },
        "id": "kwkr1C6w2qa6",
        "outputId": "0c2c581e-3e41-469b-a00a-0e8fc55d3902"
      },
      "outputs": [
        {
          "output_type": "stream",
          "name": "stdout",
          "text": [
            "sample_submission.csv  test_transaction.csv  train_transaction.csv\n",
            "test_identity.csv      train_identity.csv\n"
          ]
        }
      ],
      "source": [
        "!ls ~/IEEEfraud/"
      ]
    },
    {
      "cell_type": "code",
      "execution_count": 15,
      "metadata": {
        "colab": {
          "base_uri": "https://localhost:8080/"
        },
        "id": "X7nF7mkkAvhS",
        "outputId": "a8480992-a3fc-4093-bc52-22bd939e2e7b"
      },
      "outputs": [
        {
          "output_type": "stream",
          "name": "stdout",
          "text": [
            "   TransactionID  id_01     id_02  id_03  id_04  id_05  id_06  id_07  id_08  \\\n",
            "0        2987004    0.0   70787.0    NaN    NaN    NaN    NaN    NaN    NaN   \n",
            "1        2987008   -5.0   98945.0    NaN    NaN    0.0   -5.0    NaN    NaN   \n",
            "2        2987010   -5.0  191631.0    0.0    0.0    0.0    0.0    NaN    NaN   \n",
            "3        2987011   -5.0  221832.0    NaN    NaN    0.0   -6.0    NaN    NaN   \n",
            "4        2987016    0.0    7460.0    0.0    0.0    1.0    0.0    NaN    NaN   \n",
            "\n",
            "   id_09  ...                id_31  id_32      id_33           id_34  id_35  \\\n",
            "0    NaN  ...  samsung browser 6.2   32.0  2220x1080  match_status:2      T   \n",
            "1    NaN  ...   mobile safari 11.0   32.0   1334x750  match_status:1      T   \n",
            "2    0.0  ...          chrome 62.0    NaN        NaN             NaN      F   \n",
            "3    NaN  ...          chrome 62.0    NaN        NaN             NaN      F   \n",
            "4    0.0  ...          chrome 62.0   24.0   1280x800  match_status:2      T   \n",
            "\n",
            "  id_36 id_37  id_38  DeviceType                     DeviceInfo  \n",
            "0     F     T      T      mobile  SAMSUNG SM-G892A Build/NRD90M  \n",
            "1     F     F      T      mobile                     iOS Device  \n",
            "2     F     T      T     desktop                        Windows  \n",
            "3     F     T      T     desktop                            NaN  \n",
            "4     F     T      T     desktop                          MacOS  \n",
            "\n",
            "[5 rows x 41 columns]\n"
          ]
        }
      ],
      "source": [
        "print(train_identity.head())"
      ]
    },
    {
      "cell_type": "code",
      "execution_count": 16,
      "metadata": {
        "id": "FX2BsQIV3jHF"
      },
      "outputs": [],
      "source": [
        "train_data = pd.merge(train_transaction, train_identity, on='TransactionID', how='left')\n"
      ]
    },
    {
      "cell_type": "code",
      "execution_count": 17,
      "metadata": {
        "colab": {
          "base_uri": "https://localhost:8080/"
        },
        "id": "WTlrL2Hu3nM1",
        "outputId": "8d2a4a6e-318c-4e4b-b748-82afacfc8499"
      },
      "outputs": [
        {
          "output_type": "stream",
          "name": "stdout",
          "text": [
            "144233\n",
            "590540\n",
            "590540\n"
          ]
        }
      ],
      "source": [
        "print(len(train_identity))\n",
        "print(len(train_transaction))\n",
        "print(len(train_data))"
      ]
    },
    {
      "cell_type": "code",
      "execution_count": 18,
      "metadata": {
        "id": "2S-dWCekCUYs"
      },
      "outputs": [],
      "source": [
        "train_data = train_data.sample(n=50000, random_state=42)"
      ]
    },
    {
      "cell_type": "code",
      "execution_count": 19,
      "metadata": {
        "colab": {
          "base_uri": "https://localhost:8080/"
        },
        "id": "0Jelc0DqCXHZ",
        "outputId": "6d0f162f-aaba-4a39-89f4-71fc13f2059c"
      },
      "outputs": [
        {
          "output_type": "stream",
          "name": "stdout",
          "text": [
            "144233\n",
            "590540\n",
            "50000\n"
          ]
        }
      ],
      "source": [
        "print(len(train_identity))\n",
        "print(len(train_transaction))\n",
        "print(len(train_data))"
      ]
    },
    {
      "cell_type": "code",
      "execution_count": 20,
      "metadata": {
        "id": "SBDy9MWbXBzU"
      },
      "outputs": [],
      "source": [
        "del train_identity\n",
        "del train_transaction"
      ]
    },
    {
      "cell_type": "code",
      "execution_count": 21,
      "metadata": {
        "colab": {
          "base_uri": "https://localhost:8080/"
        },
        "id": "1RqHoDsV3pQW",
        "outputId": "c42ef2c7-6927-4aac-944e-9a01aeae0ed3"
      },
      "outputs": [
        {
          "output_type": "stream",
          "name": "stderr",
          "text": [
            "Verbosity: 3 (Detailed Logging)\n",
            "=================== System Info ===================\n",
            "AutoGluon Version:  1.1.1\n",
            "Python Version:     3.10.12\n",
            "Operating System:   Linux\n",
            "Platform Machine:   x86_64\n",
            "Platform Version:   #1 SMP PREEMPT_DYNAMIC Thu Jun 27 21:05:47 UTC 2024\n",
            "CPU Count:          2\n",
            "GPU Count:          0\n",
            "Memory Avail:       5.88 GB / 12.67 GB (46.4%)\n",
            "Disk Space Avail:   WARNING, an exception (FileNotFoundError) occurred while attempting to get available disk space. Consider opening a GitHub Issue.\n",
            "===================================================\n",
            "Presets specified: ['medium_quality']\n",
            "============ fit kwarg info ============\n",
            "User Specified kwargs:\n",
            "{'auto_stack': False}\n",
            "Full kwargs:\n",
            "{'_feature_generator_kwargs': None,\n",
            " '_save_bag_folds': None,\n",
            " 'ag_args': None,\n",
            " 'ag_args_ensemble': None,\n",
            " 'ag_args_fit': None,\n",
            " 'auto_stack': False,\n",
            " 'calibrate': 'auto',\n",
            " 'ds_args': {'clean_up_fits': True,\n",
            "             'detection_time_frac': 0.25,\n",
            "             'enable_ray_logging': True,\n",
            "             'holdout_data': None,\n",
            "             'holdout_frac': 0.1111111111111111,\n",
            "             'memory_safe_fits': True,\n",
            "             'n_folds': 2,\n",
            "             'n_repeats': 1,\n",
            "             'validation_procedure': 'holdout'},\n",
            " 'excluded_model_types': None,\n",
            " 'feature_generator': 'auto',\n",
            " 'feature_prune_kwargs': None,\n",
            " 'holdout_frac': None,\n",
            " 'hyperparameter_tune_kwargs': None,\n",
            " 'included_model_types': None,\n",
            " 'keep_only_best': False,\n",
            " 'name_suffix': None,\n",
            " 'num_bag_folds': None,\n",
            " 'num_bag_sets': None,\n",
            " 'num_stack_levels': None,\n",
            " 'pseudo_data': None,\n",
            " 'refit_full': False,\n",
            " 'save_bag_folds': None,\n",
            " 'save_space': False,\n",
            " 'set_best_to_refit_full': False,\n",
            " 'unlabeled_data': None,\n",
            " 'use_bag_holdout': False,\n",
            " 'verbosity': 3}\n",
            "========================================\n",
            "Saving /root/IEEEfraud/AutoGluonModels/learner.pkl\n",
            "Saving /root/IEEEfraud/AutoGluonModels/predictor.pkl\n",
            "Beginning AutoGluon training ... Time limit = 3600s\n",
            "AutoGluon will save models to \"/root/IEEEfraud/AutoGluonModels/\"\n",
            "Train Data Rows:    50000\n",
            "Train Data Columns: 433\n",
            "Label Column:       isFraud\n",
            "AutoGluon infers your prediction problem is: 'binary' (because only two unique label-values observed).\n",
            "\t2 unique label values:  [0, 1]\n",
            "\tIf 'binary' is not the correct problem_type, please manually specify the problem_type parameter during Predictor init (You may specify problem_type as one of: ['binary', 'multiclass', 'regression', 'quantile'])\n",
            "Problem Type:       binary\n",
            "Preprocessing data ...\n",
            "Selected class <--> label mapping:  class 1 = 1, class 0 = 0\n",
            "Using Feature Generators to preprocess the data ...\n",
            "Fitting AutoMLPipelineFeatureGenerator...\n",
            "\tAvailable Memory:                    9490.19 MB\n",
            "\tTrain Data (Original)  Memory Usage: 216.99 MB (2.3% of available memory)\n",
            "\tInferring data type of each feature based on column values. Set feature_metadata_in to manually specify special dtypes of the features.\n",
            "\tStage 1 Generators:\n",
            "\t\tFitting AsTypeFeatureGenerator...\n",
            "\t\t\tOriginal Features (exact raw dtype, raw dtype):\n",
            "\t\t\t\t('float64', 'float') : 398 | ['TransactionAmt', 'card2', 'card3', 'card5', 'addr1', ...]\n",
            "\t\t\t\t('int64', 'int')     :   3 | ['TransactionID', 'TransactionDT', 'card1']\n",
            "\t\t\t\t('object', 'object') :  31 | ['ProductCD', 'card4', 'card6', 'P_emaildomain', 'R_emaildomain', ...]\n",
            "\t\t\tTypes of features in original data (raw dtype, special dtypes):\n",
            "\t\t\t\t('float', [])  : 398 | ['TransactionAmt', 'card2', 'card3', 'card5', 'addr1', ...]\n",
            "\t\t\t\t('int', [])    :   3 | ['TransactionID', 'TransactionDT', 'card1']\n",
            "\t\t\t\t('object', []) :  31 | ['ProductCD', 'card4', 'card6', 'P_emaildomain', 'R_emaildomain', ...]\n",
            "\t\t\tTypes of features in processed data (raw dtype, special dtypes):\n",
            "\t\t\t\t('float', [])  : 398 | ['TransactionAmt', 'card2', 'card3', 'card5', 'addr1', ...]\n",
            "\t\t\t\t('int', [])    :   3 | ['TransactionID', 'TransactionDT', 'card1']\n",
            "\t\t\t\t('object', []) :  31 | ['ProductCD', 'card4', 'card6', 'P_emaildomain', 'R_emaildomain', ...]\n",
            "\t\t\t0.4s = Fit runtime\n",
            "\t\t\t432 features in original data used to generate 432 features in processed data.\n",
            "\tStage 2 Generators:\n",
            "\t\tFitting FillNaFeatureGenerator...\n",
            "\t\t\tTypes of features in original data (raw dtype, special dtypes):\n",
            "\t\t\t\t('float', [])  : 398 | ['TransactionAmt', 'card2', 'card3', 'card5', 'addr1', ...]\n",
            "\t\t\t\t('int', [])    :   3 | ['TransactionID', 'TransactionDT', 'card1']\n",
            "\t\t\t\t('object', []) :  31 | ['ProductCD', 'card4', 'card6', 'P_emaildomain', 'R_emaildomain', ...]\n",
            "\t\t\tTypes of features in processed data (raw dtype, special dtypes):\n",
            "\t\t\t\t('float', [])  : 398 | ['TransactionAmt', 'card2', 'card3', 'card5', 'addr1', ...]\n",
            "\t\t\t\t('int', [])    :   3 | ['TransactionID', 'TransactionDT', 'card1']\n",
            "\t\t\t\t('object', []) :  31 | ['ProductCD', 'card4', 'card6', 'P_emaildomain', 'R_emaildomain', ...]\n",
            "\t\t\t0.2s = Fit runtime\n",
            "\t\t\t432 features in original data used to generate 432 features in processed data.\n",
            "\tStage 3 Generators:\n",
            "\t\tFitting IdentityFeatureGenerator...\n",
            "\t\t\tTypes of features in original data (raw dtype, special dtypes):\n",
            "\t\t\t\t('float', []) : 398 | ['TransactionAmt', 'card2', 'card3', 'card5', 'addr1', ...]\n",
            "\t\t\t\t('int', [])   :   3 | ['TransactionID', 'TransactionDT', 'card1']\n",
            "\t\t\tTypes of features in processed data (raw dtype, special dtypes):\n",
            "\t\t\t\t('float', []) : 398 | ['TransactionAmt', 'card2', 'card3', 'card5', 'addr1', ...]\n",
            "\t\t\t\t('int', [])   :   3 | ['TransactionID', 'TransactionDT', 'card1']\n",
            "\t\t\t0.1s = Fit runtime\n",
            "\t\t\t401 features in original data used to generate 401 features in processed data.\n",
            "\t\tFitting CategoryFeatureGenerator...\n",
            "\t\t\tFitting CategoryMemoryMinimizeFeatureGenerator...\n",
            "\t\t\t\tTypes of features in original data (raw dtype, special dtypes):\n",
            "\t\t\t\t\t('category', []) : 31 | ['ProductCD', 'card4', 'card6', 'P_emaildomain', 'R_emaildomain', ...]\n",
            "\t\t\t\tTypes of features in processed data (raw dtype, special dtypes):\n",
            "\t\t\t\t\t('category', []) : 31 | ['ProductCD', 'card4', 'card6', 'P_emaildomain', 'R_emaildomain', ...]\n",
            "\t\t\t\t0.0s = Fit runtime\n",
            "\t\t\t\t31 features in original data used to generate 31 features in processed data.\n",
            "\t\t\tTypes of features in original data (raw dtype, special dtypes):\n",
            "\t\t\t\t('object', []) : 31 | ['ProductCD', 'card4', 'card6', 'P_emaildomain', 'R_emaildomain', ...]\n",
            "\t\t\tTypes of features in processed data (raw dtype, special dtypes):\n",
            "\t\t\t\t('category', []) : 31 | ['ProductCD', 'card4', 'card6', 'P_emaildomain', 'R_emaildomain', ...]\n",
            "\t\t\t0.3s = Fit runtime\n",
            "\t\t\t31 features in original data used to generate 31 features in processed data.\n",
            "\t\tSkipping DatetimeFeatureGenerator: No input feature with required dtypes.\n",
            "\t\tSkipping TextSpecialFeatureGenerator: No input feature with required dtypes.\n",
            "\t\tSkipping TextNgramFeatureGenerator: No input feature with required dtypes.\n",
            "\t\tSkipping IdentityFeatureGenerator: No input feature with required dtypes.\n",
            "\t\tSkipping IsNanFeatureGenerator: No input feature with required dtypes.\n",
            "\tStage 4 Generators:\n",
            "\t\tFitting DropUniqueFeatureGenerator...\n",
            "\t\t\tTypes of features in original data (raw dtype, special dtypes):\n",
            "\t\t\t\t('category', []) :  31 | ['ProductCD', 'card4', 'card6', 'P_emaildomain', 'R_emaildomain', ...]\n",
            "\t\t\t\t('float', [])    : 398 | ['TransactionAmt', 'card2', 'card3', 'card5', 'addr1', ...]\n",
            "\t\t\t\t('int', [])      :   3 | ['TransactionID', 'TransactionDT', 'card1']\n",
            "\t\t\tTypes of features in processed data (raw dtype, special dtypes):\n",
            "\t\t\t\t('category', []) :  31 | ['ProductCD', 'card4', 'card6', 'P_emaildomain', 'R_emaildomain', ...]\n",
            "\t\t\t\t('float', [])    : 398 | ['TransactionAmt', 'card2', 'card3', 'card5', 'addr1', ...]\n",
            "\t\t\t\t('int', [])      :   3 | ['TransactionID', 'TransactionDT', 'card1']\n",
            "\t\t\t0.6s = Fit runtime\n",
            "\t\t\t432 features in original data used to generate 432 features in processed data.\n",
            "\tStage 5 Generators:\n",
            "\t\tFitting DropDuplicatesFeatureGenerator...\n",
            "\t\t\t4 duplicate columns removed: ['V28', 'V142', 'V154', 'V163']\n",
            "\t\t\tTypes of features in original data (raw dtype, special dtypes):\n",
            "\t\t\t\t('category', []) :  31 | ['ProductCD', 'card4', 'card6', 'P_emaildomain', 'R_emaildomain', ...]\n",
            "\t\t\t\t('float', [])    : 394 | ['TransactionAmt', 'card2', 'card3', 'card5', 'addr1', ...]\n",
            "\t\t\t\t('int', [])      :   3 | ['TransactionID', 'TransactionDT', 'card1']\n",
            "\t\t\tTypes of features in processed data (raw dtype, special dtypes):\n",
            "\t\t\t\t('category', []) :  31 | ['ProductCD', 'card4', 'card6', 'P_emaildomain', 'R_emaildomain', ...]\n",
            "\t\t\t\t('float', [])    : 394 | ['TransactionAmt', 'card2', 'card3', 'card5', 'addr1', ...]\n",
            "\t\t\t\t('int', [])      :   3 | ['TransactionID', 'TransactionDT', 'card1']\n",
            "\t\t\t6.8s = Fit runtime\n",
            "\t\t\t428 features in original data used to generate 428 features in processed data.\n",
            "\tUseless Original Features (Count: 1): ['V305']\n",
            "\t\tThese features carry no predictive signal and should be manually investigated.\n",
            "\t\tThis is typically a feature which has the same value for all rows.\n",
            "\t\tThese features do not need to be present at inference time.\n",
            "\tUnused Original Features (Count: 4): ['V28', 'V142', 'V154', 'V163']\n",
            "\t\tThese features were not used to generate any of the output features. Add a feature generator compatible with these features to utilize them.\n",
            "\t\tFeatures can also be unused if they carry very little information, such as being categorical but having almost entirely unique values or being duplicates of other features.\n",
            "\t\tThese features do not need to be present at inference time.\n",
            "\t\t('float', []) : 4 | ['V28', 'V142', 'V154', 'V163']\n",
            "\tTypes of features in original data (exact raw dtype, raw dtype):\n",
            "\t\t('float64', 'float') : 394 | ['TransactionAmt', 'card2', 'card3', 'card5', 'addr1', ...]\n",
            "\t\t('int64', 'int')     :   3 | ['TransactionID', 'TransactionDT', 'card1']\n",
            "\t\t('object', 'object') :  31 | ['ProductCD', 'card4', 'card6', 'P_emaildomain', 'R_emaildomain', ...]\n",
            "\tTypes of features in original data (raw dtype, special dtypes):\n",
            "\t\t('float', [])  : 394 | ['TransactionAmt', 'card2', 'card3', 'card5', 'addr1', ...]\n",
            "\t\t('int', [])    :   3 | ['TransactionID', 'TransactionDT', 'card1']\n",
            "\t\t('object', []) :  31 | ['ProductCD', 'card4', 'card6', 'P_emaildomain', 'R_emaildomain', ...]\n",
            "\tTypes of features in processed data (exact raw dtype, raw dtype):\n",
            "\t\t('category', 'category') :  31 | ['ProductCD', 'card4', 'card6', 'P_emaildomain', 'R_emaildomain', ...]\n",
            "\t\t('float64', 'float')     : 394 | ['TransactionAmt', 'card2', 'card3', 'card5', 'addr1', ...]\n",
            "\t\t('int64', 'int')         :   3 | ['TransactionID', 'TransactionDT', 'card1']\n",
            "\tTypes of features in processed data (raw dtype, special dtypes):\n",
            "\t\t('category', []) :  31 | ['ProductCD', 'card4', 'card6', 'P_emaildomain', 'R_emaildomain', ...]\n",
            "\t\t('float', [])    : 394 | ['TransactionAmt', 'card2', 'card3', 'card5', 'addr1', ...]\n",
            "\t\t('int', [])      :   3 | ['TransactionID', 'TransactionDT', 'card1']\n",
            "\t9.7s = Fit runtime\n",
            "\t428 features in original data used to generate 428 features in processed data.\n",
            "\tTrain Data (Processed) Memory Usage: 152.98 MB (1.6% of available memory)\n",
            "Data preprocessing and feature engineering runtime = 10.23s ...\n",
            "AutoGluon will gauge predictive performance using evaluation metric: 'roc_auc'\n",
            "\tThis metric expects predicted probabilities rather than predicted class labels, so you'll need to use predict_proba() instead of predict()\n",
            "\tTo change this, specify the eval_metric parameter of Predictor()\n",
            "Saving /root/IEEEfraud/AutoGluonModels/learner.pkl\n",
            "Automatically generating train/validation split with holdout_frac=0.05, Train Rows: 47500, Val Rows: 2500\n",
            "User-specified model hyperparameters to be fit:\n",
            "{\n",
            "\t'NN_TORCH': {},\n",
            "\t'GBM': [{'extra_trees': True, 'ag_args': {'name_suffix': 'XT'}}, {}, 'GBMLarge'],\n",
            "\t'CAT': {},\n",
            "\t'XGB': {},\n",
            "\t'FASTAI': {},\n",
            "\t'RF': [{'criterion': 'gini', 'ag_args': {'name_suffix': 'Gini', 'problem_types': ['binary', 'multiclass']}}, {'criterion': 'entropy', 'ag_args': {'name_suffix': 'Entr', 'problem_types': ['binary', 'multiclass']}}, {'criterion': 'squared_error', 'ag_args': {'name_suffix': 'MSE', 'problem_types': ['regression', 'quantile']}}],\n",
            "\t'XT': [{'criterion': 'gini', 'ag_args': {'name_suffix': 'Gini', 'problem_types': ['binary', 'multiclass']}}, {'criterion': 'entropy', 'ag_args': {'name_suffix': 'Entr', 'problem_types': ['binary', 'multiclass']}}, {'criterion': 'squared_error', 'ag_args': {'name_suffix': 'MSE', 'problem_types': ['regression', 'quantile']}}],\n",
            "\t'KNN': [{'weights': 'uniform', 'ag_args': {'name_suffix': 'Unif'}}, {'weights': 'distance', 'ag_args': {'name_suffix': 'Dist'}}],\n",
            "}\n",
            "Saving /root/IEEEfraud/AutoGluonModels/utils/data/X.pkl\n",
            "Saving /root/IEEEfraud/AutoGluonModels/utils/data/y.pkl\n",
            "Saving /root/IEEEfraud/AutoGluonModels/utils/data/X_val.pkl\n",
            "Saving /root/IEEEfraud/AutoGluonModels/utils/data/y_val.pkl\n",
            "Model configs that will be trained (in order):\n",
            "\tKNeighborsUnif: \t{'weights': 'uniform', 'ag_args': {'valid_stacker': False, 'problem_types': ['binary', 'multiclass', 'regression'], 'name_suffix': 'Unif', 'model_type': <class 'autogluon.tabular.models.knn.knn_model.KNNModel'>, 'priority': 100}, 'ag_args_ensemble': {'use_child_oof': True}}\n",
            "\tKNeighborsDist: \t{'weights': 'distance', 'ag_args': {'valid_stacker': False, 'problem_types': ['binary', 'multiclass', 'regression'], 'name_suffix': 'Dist', 'model_type': <class 'autogluon.tabular.models.knn.knn_model.KNNModel'>, 'priority': 100}, 'ag_args_ensemble': {'use_child_oof': True}}\n",
            "\tLightGBMXT: \t{'extra_trees': True, 'ag_args': {'name_suffix': 'XT', 'model_type': <class 'autogluon.tabular.models.lgb.lgb_model.LGBModel'>, 'priority': 90}}\n",
            "\tLightGBM: \t{'ag_args': {'model_type': <class 'autogluon.tabular.models.lgb.lgb_model.LGBModel'>, 'priority': 90}}\n",
            "\tRandomForestGini: \t{'criterion': 'gini', 'ag_args': {'name_suffix': 'Gini', 'problem_types': ['binary', 'multiclass'], 'model_type': <class 'autogluon.tabular.models.rf.rf_model.RFModel'>, 'priority': 80}, 'ag_args_ensemble': {'use_child_oof': True}}\n",
            "\tRandomForestEntr: \t{'criterion': 'entropy', 'ag_args': {'name_suffix': 'Entr', 'problem_types': ['binary', 'multiclass'], 'model_type': <class 'autogluon.tabular.models.rf.rf_model.RFModel'>, 'priority': 80}, 'ag_args_ensemble': {'use_child_oof': True}}\n",
            "\tCatBoost: \t{'ag_args': {'model_type': <class 'autogluon.tabular.models.catboost.catboost_model.CatBoostModel'>, 'priority': 70}}\n",
            "\tExtraTreesGini: \t{'criterion': 'gini', 'ag_args': {'name_suffix': 'Gini', 'problem_types': ['binary', 'multiclass'], 'model_type': <class 'autogluon.tabular.models.xt.xt_model.XTModel'>, 'priority': 60}, 'ag_args_ensemble': {'use_child_oof': True}}\n",
            "\tExtraTreesEntr: \t{'criterion': 'entropy', 'ag_args': {'name_suffix': 'Entr', 'problem_types': ['binary', 'multiclass'], 'model_type': <class 'autogluon.tabular.models.xt.xt_model.XTModel'>, 'priority': 60}, 'ag_args_ensemble': {'use_child_oof': True}}\n",
            "\tNeuralNetFastAI: \t{'ag_args': {'model_type': <class 'autogluon.tabular.models.fastainn.tabular_nn_fastai.NNFastAiTabularModel'>, 'priority': 50}}\n",
            "\tXGBoost: \t{'ag_args': {'problem_types': ['binary', 'multiclass', 'regression', 'softclass'], 'model_type': <class 'autogluon.tabular.models.xgboost.xgboost_model.XGBoostModel'>, 'priority': 40}}\n",
            "\tNeuralNetTorch: \t{'ag_args': {'model_type': <class 'autogluon.tabular.models.tabular_nn.torch.tabular_nn_torch.TabularNeuralNetTorchModel'>, 'priority': 25}}\n",
            "\tLightGBMLarge: \t{'learning_rate': 0.03, 'num_leaves': 128, 'feature_fraction': 0.9, 'min_data_in_leaf': 5, 'ag_args': {'model_type': <class 'autogluon.tabular.models.lgb.lgb_model.LGBModel'>, 'name_suffix': 'Large', 'hyperparameter_tune_kwargs': None, 'priority': 0}}\n",
            "Fitting 13 L1 models ...\n",
            "Fitting model: KNeighborsUnif ... Training model for up to 3589.77s of the 3589.73s of remaining time.\n",
            "\tFitting KNeighborsUnif with 'num_gpus': 0, 'num_cpus': 2\n",
            "\t0.12s \t= Train Time (Using 10000/47500 rows) (3589.37s remaining time)\n",
            "\t0.22s \t= Train Time (Using 20000/47500 rows) (3589.15s remaining time)\n",
            "\t0.07s \t= Train Time (Using 47500/47500 rows) (3589.09s remaining time)\n",
            "Saving /root/IEEEfraud/AutoGluonModels/models/KNeighborsUnif/model.pkl\n",
            "Saving /root/IEEEfraud/AutoGluonModels/utils/attr/KNeighborsUnif/y_pred_proba_val.pkl\n",
            "\t0.5834\t = Validation score   (roc_auc)\n",
            "\t1.07s\t = Training   runtime\n",
            "\t5.3s\t = Validation runtime\n",
            "\t472.0\t = Inference  throughput (rows/s | 2500 batch size)\n",
            "Saving /root/IEEEfraud/AutoGluonModels/models/trainer.pkl\n",
            "Fitting model: KNeighborsDist ... Training model for up to 3583.26s of the 3583.23s of remaining time.\n",
            "\tFitting KNeighborsDist with 'num_gpus': 0, 'num_cpus': 2\n",
            "\t0.1s \t= Train Time (Using 10000/47500 rows) (3582.91s remaining time)\n",
            "\t0.2s \t= Train Time (Using 20000/47500 rows) (3582.7s remaining time)\n",
            "\t0.06s \t= Train Time (Using 47500/47500 rows) (3582.64s remaining time)\n",
            "Saving /root/IEEEfraud/AutoGluonModels/models/KNeighborsDist/model.pkl\n",
            "Saving /root/IEEEfraud/AutoGluonModels/utils/attr/KNeighborsDist/y_pred_proba_val.pkl\n",
            "\t0.5853\t = Validation score   (roc_auc)\n",
            "\t1.01s\t = Training   runtime\n",
            "\t5.73s\t = Validation runtime\n",
            "\t436.0\t = Inference  throughput (rows/s | 2500 batch size)\n",
            "Saving /root/IEEEfraud/AutoGluonModels/models/trainer.pkl\n",
            "Fitting model: LightGBMXT ... Training model for up to 3576.39s of the 3576.35s of remaining time.\n",
            "\tFitting LightGBMXT with 'num_gpus': 0, 'num_cpus': 1\n",
            "/usr/local/lib/python3.10/dist-packages/dask/dataframe/__init__.py:42: FutureWarning: \n",
            "Dask dataframe query planning is disabled because dask-expr is not installed.\n",
            "\n",
            "You can install it with `pip install dask[dataframe]` or `conda install dask`.\n",
            "This will raise in a future version.\n",
            "\n",
            "  warnings.warn(msg, FutureWarning)\n",
            "\tFitting 10000 rounds... Hyperparameters: {'learning_rate': 0.05, 'extra_trees': True}\n"
          ]
        },
        {
          "output_type": "stream",
          "name": "stdout",
          "text": [
            "[50]\tvalid_set's binary_logloss: 0.11037\n",
            "[100]\tvalid_set's binary_logloss: 0.104035\n",
            "[150]\tvalid_set's binary_logloss: 0.100816\n",
            "[200]\tvalid_set's binary_logloss: 0.098715\n",
            "[250]\tvalid_set's binary_logloss: 0.097209\n",
            "[300]\tvalid_set's binary_logloss: 0.0951911\n",
            "[350]\tvalid_set's binary_logloss: 0.0942421\n",
            "[400]\tvalid_set's binary_logloss: 0.0931649\n",
            "[450]\tvalid_set's binary_logloss: 0.0924043\n",
            "[500]\tvalid_set's binary_logloss: 0.0916186\n",
            "[550]\tvalid_set's binary_logloss: 0.0913007\n",
            "[600]\tvalid_set's binary_logloss: 0.0908985\n",
            "[650]\tvalid_set's binary_logloss: 0.0910287\n",
            "[700]\tvalid_set's binary_logloss: 0.0911137\n",
            "[750]\tvalid_set's binary_logloss: 0.0908114\n",
            "[800]\tvalid_set's binary_logloss: 0.0913242\n",
            "[850]\tvalid_set's binary_logloss: 0.0908775\n",
            "[900]\tvalid_set's binary_logloss: 0.091344\n",
            "[950]\tvalid_set's binary_logloss: 0.0913486\n",
            "[1000]\tvalid_set's binary_logloss: 0.0916971\n"
          ]
        },
        {
          "output_type": "stream",
          "name": "stderr",
          "text": [
            "Saving /root/IEEEfraud/AutoGluonModels/models/LightGBMXT/model.pkl\n",
            "Saving /root/IEEEfraud/AutoGluonModels/utils/attr/LightGBMXT/y_pred_proba_val.pkl\n",
            "\t0.8934\t = Validation score   (roc_auc)\n",
            "\t47.06s\t = Training   runtime\n",
            "\t0.33s\t = Validation runtime\n",
            "\t7464.2\t = Inference  throughput (rows/s | 2500 batch size)\n",
            "Saving /root/IEEEfraud/AutoGluonModels/models/trainer.pkl\n",
            "Fitting model: LightGBM ... Training model for up to 3528.85s of the 3528.81s of remaining time.\n",
            "\tFitting LightGBM with 'num_gpus': 0, 'num_cpus': 1\n",
            "\tFitting 10000 rounds... Hyperparameters: {'learning_rate': 0.05}\n"
          ]
        },
        {
          "output_type": "stream",
          "name": "stdout",
          "text": [
            "[50]\tvalid_set's binary_logloss: 0.105378\n",
            "[100]\tvalid_set's binary_logloss: 0.0985287\n",
            "[150]\tvalid_set's binary_logloss: 0.0957552\n",
            "[200]\tvalid_set's binary_logloss: 0.0939767\n",
            "[250]\tvalid_set's binary_logloss: 0.0923805\n",
            "[300]\tvalid_set's binary_logloss: 0.0919822\n",
            "[350]\tvalid_set's binary_logloss: 0.0916546\n",
            "[400]\tvalid_set's binary_logloss: 0.0911805\n",
            "[450]\tvalid_set's binary_logloss: 0.0910478\n",
            "[500]\tvalid_set's binary_logloss: 0.090727\n",
            "[550]\tvalid_set's binary_logloss: 0.0909633\n",
            "[600]\tvalid_set's binary_logloss: 0.0914983\n",
            "[650]\tvalid_set's binary_logloss: 0.0915731\n"
          ]
        },
        {
          "output_type": "stream",
          "name": "stderr",
          "text": [
            "Saving /root/IEEEfraud/AutoGluonModels/models/LightGBM/model.pkl\n",
            "Saving /root/IEEEfraud/AutoGluonModels/utils/attr/LightGBM/y_pred_proba_val.pkl\n",
            "\t0.8915\t = Validation score   (roc_auc)\n",
            "\t35.95s\t = Training   runtime\n",
            "\t0.26s\t = Validation runtime\n",
            "\t9594.5\t = Inference  throughput (rows/s | 2500 batch size)\n",
            "Saving /root/IEEEfraud/AutoGluonModels/models/trainer.pkl\n",
            "Fitting model: RandomForestGini ... Training model for up to 3492.55s of the 3492.51s of remaining time.\n",
            "\tFitting RandomForestGini with 'num_gpus': 0, 'num_cpus': 2\n",
            "Saving /root/IEEEfraud/AutoGluonModels/models/RandomForestGini/model.pkl\n",
            "Saving /root/IEEEfraud/AutoGluonModels/utils/attr/RandomForestGini/y_pred_proba_val.pkl\n",
            "\t0.8646\t = Validation score   (roc_auc)\n",
            "\t78.76s\t = Training   runtime\n",
            "\t0.39s\t = Validation runtime\n",
            "\t6490.3\t = Inference  throughput (rows/s | 2500 batch size)\n",
            "Saving /root/IEEEfraud/AutoGluonModels/models/trainer.pkl\n",
            "Fitting model: RandomForestEntr ... Training model for up to 3413.21s of the 3413.16s of remaining time.\n",
            "\tFitting RandomForestEntr with 'num_gpus': 0, 'num_cpus': 2\n",
            "Saving /root/IEEEfraud/AutoGluonModels/models/RandomForestEntr/model.pkl\n",
            "Saving /root/IEEEfraud/AutoGluonModels/utils/attr/RandomForestEntr/y_pred_proba_val.pkl\n",
            "\t0.8653\t = Validation score   (roc_auc)\n",
            "\t62.28s\t = Training   runtime\n",
            "\t0.25s\t = Validation runtime\n",
            "\t10186.6\t = Inference  throughput (rows/s | 2500 batch size)\n",
            "Saving /root/IEEEfraud/AutoGluonModels/models/trainer.pkl\n",
            "Fitting model: CatBoost ... Training model for up to 3350.52s of the 3350.48s of remaining time.\n",
            "\tFitting CatBoost with 'num_gpus': 0, 'num_cpus': 1\n",
            "\tWarning: Exception caused CatBoost to fail during training (ImportError)... Skipping this model.\n",
            "\t\t\n",
            "Detailed Traceback:\n",
            "Traceback (most recent call last):\n",
            "  File \"/usr/local/lib/python3.10/dist-packages/autogluon/common/utils/try_import.py\", line 63, in try_import_catboost\n",
            "    import catboost\n",
            "ModuleNotFoundError: No module named 'catboost'\n",
            "\n",
            "During handling of the above exception, another exception occurred:\n",
            "\n",
            "Traceback (most recent call last):\n",
            "  File \"/usr/local/lib/python3.10/dist-packages/autogluon/core/trainer/abstract_trainer.py\", line 1904, in _train_and_save\n",
            "    model = self._train_single(X, y, model, X_val, y_val, total_resources=total_resources, **model_fit_kwargs)\n",
            "  File \"/usr/local/lib/python3.10/dist-packages/autogluon/core/trainer/abstract_trainer.py\", line 1844, in _train_single\n",
            "    model = model.fit(X=X, y=y, X_val=X_val, y_val=y_val, total_resources=total_resources, **model_fit_kwargs)\n",
            "  File \"/usr/local/lib/python3.10/dist-packages/autogluon/core/models/abstract/abstract_model.py\", line 856, in fit\n",
            "    out = self._fit(**kwargs)\n",
            "  File \"/usr/local/lib/python3.10/dist-packages/autogluon/tabular/models/catboost/catboost_model.py\", line 95, in _fit\n",
            "    try_import_catboost()\n",
            "  File \"/usr/local/lib/python3.10/dist-packages/autogluon/common/utils/try_import.py\", line 70, in try_import_catboost\n",
            "    raise ImportError()\n",
            "ImportError\n",
            "Saving /root/IEEEfraud/AutoGluonModels/models/trainer.pkl\n",
            "Fitting model: ExtraTreesGini ... Training model for up to 3349.9s of the 3349.86s of remaining time.\n",
            "\tFitting ExtraTreesGini with 'num_gpus': 0, 'num_cpus': 2\n",
            "Saving /root/IEEEfraud/AutoGluonModels/models/ExtraTreesGini/model.pkl\n",
            "Saving /root/IEEEfraud/AutoGluonModels/utils/attr/ExtraTreesGini/y_pred_proba_val.pkl\n",
            "\t0.8556\t = Validation score   (roc_auc)\n",
            "\t62.85s\t = Training   runtime\n",
            "\t0.42s\t = Validation runtime\n",
            "\t5894.6\t = Inference  throughput (rows/s | 2500 batch size)\n",
            "Saving /root/IEEEfraud/AutoGluonModels/models/trainer.pkl\n",
            "Fitting model: ExtraTreesEntr ... Training model for up to 3286.29s of the 3286.25s of remaining time.\n",
            "\tFitting ExtraTreesEntr with 'num_gpus': 0, 'num_cpus': 2\n",
            "Saving /root/IEEEfraud/AutoGluonModels/models/ExtraTreesEntr/model.pkl\n",
            "Saving /root/IEEEfraud/AutoGluonModels/utils/attr/ExtraTreesEntr/y_pred_proba_val.pkl\n",
            "\t0.872\t = Validation score   (roc_auc)\n",
            "\t57.36s\t = Training   runtime\n",
            "\t0.86s\t = Validation runtime\n",
            "\t2902.1\t = Inference  throughput (rows/s | 2500 batch size)\n",
            "Saving /root/IEEEfraud/AutoGluonModels/models/trainer.pkl\n",
            "Fitting model: NeuralNetFastAI ... Training model for up to 3227.4s of the 3227.36s of remaining time.\n",
            "\tFitting NeuralNetFastAI with 'num_gpus': 0, 'num_cpus': 1\n",
            "Fitting Neural Network with parameters {'layers': None, 'emb_drop': 0.1, 'ps': 0.1, 'bs': 'auto', 'lr': 0.01, 'epochs': 'auto', 'early.stopping.min_delta': 0.0001, 'early.stopping.patience': 20, 'smoothing': 0.0}...\n",
            "Using 31/31 categorical features\n",
            "Using 397 cont features\n",
            "Automated batch size selection: 256\n",
            "TabularModel(\n",
            "  (embeds): ModuleList(\n",
            "    (0-1): 2 x Embedding(6, 4)\n",
            "    (2): Embedding(5, 4)\n",
            "    (3): Embedding(59, 16)\n",
            "    (4): Embedding(52, 15)\n",
            "    (5-7): 3 x Embedding(4, 3)\n",
            "    (8): Embedding(5, 4)\n",
            "    (9-14): 6 x Embedding(4, 3)\n",
            "    (15): Embedding(5, 4)\n",
            "    (16): Embedding(4, 3)\n",
            "    (17): Embedding(5, 4)\n",
            "    (18-20): 3 x Embedding(4, 3)\n",
            "    (21): Embedding(68, 17)\n",
            "    (22): Embedding(100, 21)\n",
            "    (23): Embedding(69, 17)\n",
            "    (24): Embedding(5, 4)\n",
            "    (25-29): 5 x Embedding(4, 3)\n",
            "    (30): Embedding(383, 45)\n",
            "  )\n",
            "  (emb_drop): Dropout(p=0.1, inplace=False)\n",
            "  (bn_cont): BatchNorm1d(397, eps=1e-05, momentum=0.1, affine=True, track_running_stats=True)\n",
            "  (layers): Sequential(\n",
            "    (0): LinBnDrop(\n",
            "      (0): Linear(in_features=610, out_features=200, bias=False)\n",
            "      (1): ReLU(inplace=True)\n",
            "      (2): BatchNorm1d(200, eps=1e-05, momentum=0.1, affine=True, track_running_stats=True)\n",
            "      (3): Dropout(p=0.1, inplace=False)\n",
            "    )\n",
            "    (1): LinBnDrop(\n",
            "      (0): Linear(in_features=200, out_features=100, bias=False)\n",
            "      (1): ReLU(inplace=True)\n",
            "      (2): BatchNorm1d(100, eps=1e-05, momentum=0.1, affine=True, track_running_stats=True)\n",
            "      (3): Dropout(p=0.1, inplace=False)\n",
            "    )\n",
            "    (2): LinBnDrop(\n",
            "      (0): Linear(in_features=100, out_features=2, bias=True)\n",
            "    )\n",
            "  )\n",
            ")\n",
            "Automated epochs selection: training for 30 epoch(s). Estimated time budget use 155.53 / 3224.11 sec\n",
            "Better model found at epoch 0 with valid_loss value: 0.2767863869667053.\n",
            "Better model found at epoch 1 with valid_loss value: 0.13435381650924683.\n",
            "Better model found at epoch 2 with valid_loss value: 0.11502604931592941.\n",
            "Better model found at epoch 6 with valid_loss value: 0.1149584949016571.\n",
            "No improvement since epoch 2: early stopping\n",
            "/usr/local/lib/python3.10/dist-packages/fastai/learner.py:53: FutureWarning: You are using `torch.load` with `weights_only=False` (the current default value), which uses the default pickle module implicitly. It is possible to construct malicious pickle data which will execute arbitrary code during unpickling (See https://github.com/pytorch/pytorch/blob/main/SECURITY.md#untrusted-models for more details). In a future release, the default value for `weights_only` will be flipped to `True`. This limits the functions that could be executed during unpickling. Arbitrary objects will no longer be allowed to be loaded via this mode unless they are explicitly allowlisted by the user via `torch.serialization.add_safe_globals`. We recommend you start setting `weights_only=True` for any use case where you don't have full control of the loaded file. Please open an issue on GitHub for any issues related to this experimental feature.\n",
            "  state = torch.load(file, map_location=device, **torch_load_kwargs)\n",
            "Model validation metrics: 0.1149584949016571\n",
            "Saving /root/IEEEfraud/AutoGluonModels/models/NeuralNetFastAI/model.pkl\n",
            "Saving /root/IEEEfraud/AutoGluonModels/models/NeuralNetFastAI/model-internals.pkl\n",
            "Saving /root/IEEEfraud/AutoGluonModels/utils/attr/NeuralNetFastAI/y_pred_proba_val.pkl\n",
            "\t0.8332\t = Validation score   (roc_auc)\n",
            "\t133.07s\t = Training   runtime\n",
            "\t0.31s\t = Validation runtime\n",
            "\t8054.9\t = Inference  throughput (rows/s | 2500 batch size)\n",
            "Saving /root/IEEEfraud/AutoGluonModels/models/trainer.pkl\n",
            "Fitting model: XGBoost ... Training model for up to 3093.91s of the 3093.87s of remaining time.\n",
            "\tFitting XGBoost with 'num_gpus': 0, 'num_cpus': 1\n"
          ]
        },
        {
          "output_type": "stream",
          "name": "stdout",
          "text": [
            "[0]\tvalidation_0-logloss:0.19861\n",
            "[50]\tvalidation_0-logloss:0.10343\n",
            "[100]\tvalidation_0-logloss:0.09973\n",
            "[150]\tvalidation_0-logloss:0.09828\n",
            "[200]\tvalidation_0-logloss:0.09657\n",
            "[250]\tvalidation_0-logloss:0.09610\n",
            "[300]\tvalidation_0-logloss:0.09549\n",
            "[350]\tvalidation_0-logloss:0.09433\n",
            "[400]\tvalidation_0-logloss:0.09301\n",
            "[450]\tvalidation_0-logloss:0.09297\n",
            "[500]\tvalidation_0-logloss:0.09219\n",
            "[550]\tvalidation_0-logloss:0.09182\n",
            "[600]\tvalidation_0-logloss:0.09279\n",
            "[650]\tvalidation_0-logloss:0.09342\n",
            "[700]\tvalidation_0-logloss:0.09392\n",
            "[735]\tvalidation_0-logloss:0.09456\n"
          ]
        },
        {
          "output_type": "stream",
          "name": "stderr",
          "text": [
            "Saving /root/IEEEfraud/AutoGluonModels/models/XGBoost/model.pkl\n",
            "Saving /root/IEEEfraud/AutoGluonModels/utils/attr/XGBoost/y_pred_proba_val.pkl\n",
            "\t0.8996\t = Validation score   (roc_auc)\n",
            "\t115.38s\t = Training   runtime\n",
            "\t0.21s\t = Validation runtime\n",
            "\t11911.2\t = Inference  throughput (rows/s | 2500 batch size)\n",
            "Saving /root/IEEEfraud/AutoGluonModels/models/trainer.pkl\n",
            "Fitting model: NeuralNetTorch ... Training model for up to 2978.27s of the 2978.24s of remaining time.\n",
            "\tFitting NeuralNetTorch with 'num_gpus': 0, 'num_cpus': 1\n",
            "Tabular Neural Network treats features as the following types:\n",
            "{\n",
            "    \"continuous\": [\n",
            "        \"TransactionID\",\n",
            "        \"TransactionDT\",\n",
            "        \"card1\",\n",
            "        \"card2\",\n",
            "        \"addr1\",\n",
            "        \"D9\",\n",
            "        \"D15\",\n",
            "        \"V4\",\n",
            "        \"V5\",\n",
            "        \"V10\",\n",
            "        \"V11\",\n",
            "        \"V12\",\n",
            "        \"V13\",\n",
            "        \"V19\",\n",
            "        \"V20\",\n",
            "        \"V29\",\n",
            "        \"V35\",\n",
            "        \"V36\",\n",
            "        \"V48\",\n",
            "        \"V53\",\n",
            "        \"V54\",\n",
            "        \"V61\",\n",
            "        \"V62\",\n",
            "        \"V69\",\n",
            "        \"V75\",\n",
            "        \"V76\",\n",
            "        \"V82\",\n",
            "        \"V83\",\n",
            "        \"V90\",\n",
            "        \"V153\",\n",
            "        \"V194\",\n",
            "        \"V250\",\n",
            "        \"V251\",\n",
            "        \"id_03\",\n",
            "        \"id_07\",\n",
            "        \"id_08\",\n",
            "        \"id_09\",\n",
            "        \"id_17\",\n",
            "        \"id_19\",\n",
            "        \"id_20\",\n",
            "        \"id_25\",\n",
            "        \"id_26\",\n",
            "        \"id_32\"\n",
            "    ],\n",
            "    \"skewed\": [\n",
            "        \"TransactionAmt\",\n",
            "        \"card3\",\n",
            "        \"card5\",\n",
            "        \"addr2\",\n",
            "        \"dist1\",\n",
            "        \"dist2\",\n",
            "        \"C1\",\n",
            "        \"C2\",\n",
            "        \"C3\",\n",
            "        \"C4\",\n",
            "        \"C5\",\n",
            "        \"C6\",\n",
            "        \"C7\",\n",
            "        \"C8\",\n",
            "        \"C9\",\n",
            "        \"C10\",\n",
            "        \"C11\",\n",
            "        \"C12\",\n",
            "        \"C13\",\n",
            "        \"C14\",\n",
            "        \"D1\",\n",
            "        \"D2\",\n",
            "        \"D3\",\n",
            "        \"D4\",\n",
            "        \"D5\",\n",
            "        \"D6\",\n",
            "        \"D7\",\n",
            "        \"D8\",\n",
            "        \"D10\",\n",
            "        \"D11\",\n",
            "        \"D12\",\n",
            "        \"D13\",\n",
            "        \"D14\",\n",
            "        \"V1\",\n",
            "        \"V2\",\n",
            "        \"V3\",\n",
            "        \"V6\",\n",
            "        \"V7\",\n",
            "        \"V8\",\n",
            "        \"V9\",\n",
            "        \"V14\",\n",
            "        \"V15\",\n",
            "        \"V16\",\n",
            "        \"V17\",\n",
            "        \"V18\",\n",
            "        \"V21\",\n",
            "        \"V22\",\n",
            "        \"V23\",\n",
            "        \"V24\",\n",
            "        \"V25\",\n",
            "        \"V26\",\n",
            "        \"V27\",\n",
            "        \"V30\",\n",
            "        \"V31\",\n",
            "        \"V32\",\n",
            "        \"V33\",\n",
            "        \"V34\",\n",
            "        \"V37\",\n",
            "        \"V38\",\n",
            "        \"V39\",\n",
            "        \"V40\",\n",
            "        \"V41\",\n",
            "        \"V42\",\n",
            "        \"V43\",\n",
            "        \"V44\",\n",
            "        \"V45\",\n",
            "        \"V46\",\n",
            "        \"V47\",\n",
            "        \"V49\",\n",
            "        \"V50\",\n",
            "        \"V51\",\n",
            "        \"V52\",\n",
            "        \"V55\",\n",
            "        \"V56\",\n",
            "        \"V57\",\n",
            "        \"V58\",\n",
            "        \"V59\",\n",
            "        \"V60\",\n",
            "        \"V63\",\n",
            "        \"V64\",\n",
            "        \"V65\",\n",
            "        \"V66\",\n",
            "        \"V67\",\n",
            "        \"V68\",\n",
            "        \"V70\",\n",
            "        \"V71\",\n",
            "        \"V72\",\n",
            "        \"V73\",\n",
            "        \"V74\",\n",
            "        \"V77\",\n",
            "        \"V78\",\n",
            "        \"V79\",\n",
            "        \"V80\",\n",
            "        \"V81\",\n",
            "        \"V84\",\n",
            "        \"V85\",\n",
            "        \"V86\",\n",
            "        \"V87\",\n",
            "        \"V88\",\n",
            "        \"V89\",\n",
            "        \"V91\",\n",
            "        \"V92\",\n",
            "        \"V93\",\n",
            "        \"V94\",\n",
            "        \"V95\",\n",
            "        \"V96\",\n",
            "        \"V97\",\n",
            "        \"V98\",\n",
            "        \"V99\",\n",
            "        \"V100\",\n",
            "        \"V101\",\n",
            "        \"V102\",\n",
            "        \"V103\",\n",
            "        \"V104\",\n",
            "        \"V105\",\n",
            "        \"V106\",\n",
            "        \"V107\",\n",
            "        \"V108\",\n",
            "        \"V109\",\n",
            "        \"V110\",\n",
            "        \"V111\",\n",
            "        \"V112\",\n",
            "        \"V113\",\n",
            "        \"V114\",\n",
            "        \"V115\",\n",
            "        \"V116\",\n",
            "        \"V117\",\n",
            "        \"V118\",\n",
            "        \"V119\",\n",
            "        \"V120\",\n",
            "        \"V121\",\n",
            "        \"V122\",\n",
            "        \"V123\",\n",
            "        \"V124\",\n",
            "        \"V125\",\n",
            "        \"V126\",\n",
            "        \"V127\",\n",
            "        \"V128\",\n",
            "        \"V129\",\n",
            "        \"V130\",\n",
            "        \"V131\",\n",
            "        \"V132\",\n",
            "        \"V133\",\n",
            "        \"V134\",\n",
            "        \"V135\",\n",
            "        \"V136\",\n",
            "        \"V137\",\n",
            "        \"V138\",\n",
            "        \"V139\",\n",
            "        \"V140\",\n",
            "        \"V141\",\n",
            "        \"V143\",\n",
            "        \"V144\",\n",
            "        \"V145\",\n",
            "        \"V146\",\n",
            "        \"V147\",\n",
            "        \"V148\",\n",
            "        \"V149\",\n",
            "        \"V150\",\n",
            "        \"V151\",\n",
            "        \"V152\",\n",
            "        \"V155\",\n",
            "        \"V156\",\n",
            "        \"V157\",\n",
            "        \"V158\",\n",
            "        \"V159\",\n",
            "        \"V160\",\n",
            "        \"V161\",\n",
            "        \"V162\",\n",
            "        \"V164\",\n",
            "        \"V165\",\n",
            "        \"V166\",\n",
            "        \"V167\",\n",
            "        \"V168\",\n",
            "        \"V169\",\n",
            "        \"V170\",\n",
            "        \"V171\",\n",
            "        \"V172\",\n",
            "        \"V173\",\n",
            "        \"V174\",\n",
            "        \"V175\",\n",
            "        \"V176\",\n",
            "        \"V177\",\n",
            "        \"V178\",\n",
            "        \"V179\",\n",
            "        \"V180\",\n",
            "        \"V181\",\n",
            "        \"V182\",\n",
            "        \"V183\",\n",
            "        \"V184\",\n",
            "        \"V185\",\n",
            "        \"V186\",\n",
            "        \"V187\",\n",
            "        \"V188\",\n",
            "        \"V189\",\n",
            "        \"V190\",\n",
            "        \"V191\",\n",
            "        \"V192\",\n",
            "        \"V193\",\n",
            "        \"V195\",\n",
            "        \"V196\",\n",
            "        \"V197\",\n",
            "        \"V198\",\n",
            "        \"V199\",\n",
            "        \"V200\",\n",
            "        \"V201\",\n",
            "        \"V202\",\n",
            "        \"V203\",\n",
            "        \"V204\",\n",
            "        \"V205\",\n",
            "        \"V206\",\n",
            "        \"V207\",\n",
            "        \"V208\",\n",
            "        \"V209\",\n",
            "        \"V210\",\n",
            "        \"V211\",\n",
            "        \"V212\",\n",
            "        \"V213\",\n",
            "        \"V214\",\n",
            "        \"V215\",\n",
            "        \"V216\",\n",
            "        \"V217\",\n",
            "        \"V218\",\n",
            "        \"V219\",\n",
            "        \"V220\",\n",
            "        \"V221\",\n",
            "        \"V222\",\n",
            "        \"V223\",\n",
            "        \"V224\",\n",
            "        \"V225\",\n",
            "        \"V226\",\n",
            "        \"V227\",\n",
            "        \"V228\",\n",
            "        \"V229\",\n",
            "        \"V230\",\n",
            "        \"V231\",\n",
            "        \"V232\",\n",
            "        \"V233\",\n",
            "        \"V234\",\n",
            "        \"V235\",\n",
            "        \"V236\",\n",
            "        \"V237\",\n",
            "        \"V238\",\n",
            "        \"V239\",\n",
            "        \"V240\",\n",
            "        \"V241\",\n",
            "        \"V242\",\n",
            "        \"V243\",\n",
            "        \"V244\",\n",
            "        \"V245\",\n",
            "        \"V246\",\n",
            "        \"V247\",\n",
            "        \"V248\",\n",
            "        \"V249\",\n",
            "        \"V252\",\n",
            "        \"V253\",\n",
            "        \"V254\",\n",
            "        \"V255\",\n",
            "        \"V256\",\n",
            "        \"V257\",\n",
            "        \"V258\",\n",
            "        \"V259\",\n",
            "        \"V260\",\n",
            "        \"V261\",\n",
            "        \"V262\",\n",
            "        \"V263\",\n",
            "        \"V264\",\n",
            "        \"V265\",\n",
            "        \"V266\",\n",
            "        \"V267\",\n",
            "        \"V268\",\n",
            "        \"V269\",\n",
            "        \"V270\",\n",
            "        \"V271\",\n",
            "        \"V272\",\n",
            "        \"V273\",\n",
            "        \"V274\",\n",
            "        \"V275\",\n",
            "        \"V276\",\n",
            "        \"V277\",\n",
            "        \"V278\",\n",
            "        \"V279\",\n",
            "        \"V280\",\n",
            "        \"V281\",\n",
            "        \"V282\",\n",
            "        \"V283\",\n",
            "        \"V284\",\n",
            "        \"V285\",\n",
            "        \"V286\",\n",
            "        \"V287\",\n",
            "        \"V288\",\n",
            "        \"V289\",\n",
            "        \"V290\",\n",
            "        \"V291\",\n",
            "        \"V292\",\n",
            "        \"V293\",\n",
            "        \"V294\",\n",
            "        \"V295\",\n",
            "        \"V296\",\n",
            "        \"V297\",\n",
            "        \"V298\",\n",
            "        \"V299\",\n",
            "        \"V300\",\n",
            "        \"V301\",\n",
            "        \"V302\",\n",
            "        \"V303\",\n",
            "        \"V304\",\n",
            "        \"V306\",\n",
            "        \"V307\",\n",
            "        \"V308\",\n",
            "        \"V309\",\n",
            "        \"V310\",\n",
            "        \"V311\",\n",
            "        \"V312\",\n",
            "        \"V313\",\n",
            "        \"V314\",\n",
            "        \"V315\",\n",
            "        \"V316\",\n",
            "        \"V317\",\n",
            "        \"V318\",\n",
            "        \"V319\",\n",
            "        \"V320\",\n",
            "        \"V321\",\n",
            "        \"V322\",\n",
            "        \"V323\",\n",
            "        \"V324\",\n",
            "        \"V325\",\n",
            "        \"V326\",\n",
            "        \"V327\",\n",
            "        \"V328\",\n",
            "        \"V329\",\n",
            "        \"V330\",\n",
            "        \"V331\",\n",
            "        \"V332\",\n",
            "        \"V333\",\n",
            "        \"V334\",\n",
            "        \"V335\",\n",
            "        \"V336\",\n",
            "        \"V337\",\n",
            "        \"V338\",\n",
            "        \"V339\",\n",
            "        \"id_01\",\n",
            "        \"id_02\",\n",
            "        \"id_04\",\n",
            "        \"id_05\",\n",
            "        \"id_06\",\n",
            "        \"id_10\",\n",
            "        \"id_11\",\n",
            "        \"id_13\",\n",
            "        \"id_14\",\n",
            "        \"id_18\",\n",
            "        \"id_21\",\n",
            "        \"id_22\",\n",
            "        \"id_24\"\n",
            "    ],\n",
            "    \"onehot\": [\n",
            "        \"M1\",\n",
            "        \"M2\",\n",
            "        \"M3\",\n",
            "        \"M5\",\n",
            "        \"M6\",\n",
            "        \"M7\",\n",
            "        \"M8\",\n",
            "        \"M9\",\n",
            "        \"id_12\",\n",
            "        \"id_16\",\n",
            "        \"id_27\",\n",
            "        \"id_28\",\n",
            "        \"id_29\",\n",
            "        \"id_35\",\n",
            "        \"id_36\",\n",
            "        \"id_37\",\n",
            "        \"id_38\",\n",
            "        \"DeviceType\"\n",
            "    ],\n",
            "    \"embed\": [\n",
            "        \"ProductCD\",\n",
            "        \"card4\",\n",
            "        \"card6\",\n",
            "        \"P_emaildomain\",\n",
            "        \"R_emaildomain\",\n",
            "        \"M4\",\n",
            "        \"id_15\",\n",
            "        \"id_23\",\n",
            "        \"id_30\",\n",
            "        \"id_31\",\n",
            "        \"id_33\",\n",
            "        \"id_34\",\n",
            "        \"DeviceInfo\"\n",
            "    ],\n",
            "    \"language\": [],\n",
            "    \"bool\": []\n",
            "}\n",
            "\n",
            "\n",
            "Training data for TabularNeuralNetTorchModel has: 47500 examples, 428 features (415 vector, 13 embedding)\n",
            "Training on CPU\n",
            "Neural network architecture:\n",
            "EmbedNet(\n",
            "  (embed_blocks): ModuleList(\n",
            "    (0-2): 3 x Embedding(6, 4)\n",
            "    (3): Embedding(60, 15)\n",
            "    (4): Embedding(53, 14)\n",
            "    (5-7): 3 x Embedding(5, 3)\n",
            "    (8): Embedding(69, 17)\n",
            "    (9): Embedding(101, 21)\n",
            "    (10): Embedding(70, 17)\n",
            "    (11): Embedding(5, 3)\n",
            "    (12): Embedding(102, 21)\n",
            "  )\n",
            "  (main_block): Sequential(\n",
            "    (0): Linear(in_features=580, out_features=128, bias=True)\n",
            "    (1): ReLU()\n",
            "    (2): Dropout(p=0.1, inplace=False)\n",
            "    (3): Linear(in_features=128, out_features=128, bias=True)\n",
            "    (4): ReLU()\n",
            "    (5): Dropout(p=0.1, inplace=False)\n",
            "    (6): Linear(in_features=128, out_features=128, bias=True)\n",
            "    (7): ReLU()\n",
            "    (8): Dropout(p=0.1, inplace=False)\n",
            "    (9): Linear(in_features=128, out_features=128, bias=True)\n",
            "    (10): ReLU()\n",
            "    (11): Linear(in_features=128, out_features=2, bias=True)\n",
            "  )\n",
            "  (softmax): Softmax(dim=1)\n",
            ")\n",
            "Training tabular neural network for up to 500 epochs...\n",
            "Epoch 1 (Update 371).\tTrain loss: 0.1378, Val roc_auc: 0.8, Best Epoch: 1\n",
            "Epoch 2 (Update 742).\tTrain loss: 0.1111, Val roc_auc: 0.8188, Best Epoch: 2\n",
            "Epoch 3 (Update 1113).\tTrain loss: 0.1076, Val roc_auc: 0.8174, Best Epoch: 2\n",
            "Epoch 4 (Update 1484).\tTrain loss: 0.1039, Val roc_auc: 0.8272, Best Epoch: 4\n",
            "Epoch 5 (Update 1855).\tTrain loss: 0.1028, Val roc_auc: 0.8203, Best Epoch: 4\n",
            "Epoch 6 (Update 2226).\tTrain loss: 0.101, Val roc_auc: 0.8352, Best Epoch: 6\n",
            "Epoch 7 (Update 2597).\tTrain loss: 0.0992, Val roc_auc: 0.8257, Best Epoch: 6\n",
            "Epoch 8 (Update 2968).\tTrain loss: 0.0981, Val roc_auc: 0.8303, Best Epoch: 6\n",
            "Epoch 9 (Update 3339).\tTrain loss: 0.0969, Val roc_auc: 0.836, Best Epoch: 9\n",
            "Epoch 10 (Update 3710).\tTrain loss: 0.0966, Val roc_auc: 0.8367, Best Epoch: 10\n",
            "Epoch 11 (Update 4081).\tTrain loss: 0.0938, Val roc_auc: 0.8347, Best Epoch: 10\n",
            "Epoch 12 (Update 4452).\tTrain loss: 0.0938, Val roc_auc: 0.8359, Best Epoch: 10\n",
            "Epoch 13 (Update 4823).\tTrain loss: 0.0925, Val roc_auc: 0.8323, Best Epoch: 10\n",
            "Epoch 14 (Update 5194).\tTrain loss: 0.092, Val roc_auc: 0.8365, Best Epoch: 10\n",
            "Epoch 15 (Update 5565).\tTrain loss: 0.0902, Val roc_auc: 0.8378, Best Epoch: 15\n",
            "Epoch 16 (Update 5936).\tTrain loss: 0.0902, Val roc_auc: 0.8424, Best Epoch: 16\n",
            "Epoch 17 (Update 6307).\tTrain loss: 0.0879, Val roc_auc: 0.8415, Best Epoch: 16\n",
            "Epoch 18 (Update 6678).\tTrain loss: 0.0874, Val roc_auc: 0.8413, Best Epoch: 16\n",
            "Epoch 19 (Update 7049).\tTrain loss: 0.0873, Val roc_auc: 0.8437, Best Epoch: 19\n",
            "Epoch 20 (Update 7420).\tTrain loss: 0.0852, Val roc_auc: 0.838, Best Epoch: 19\n",
            "Epoch 21 (Update 7791).\tTrain loss: 0.0854, Val roc_auc: 0.8308, Best Epoch: 19\n",
            "Epoch 22 (Update 8162).\tTrain loss: 0.0847, Val roc_auc: 0.8363, Best Epoch: 19\n",
            "Epoch 23 (Update 8533).\tTrain loss: 0.0839, Val roc_auc: 0.8478, Best Epoch: 23\n",
            "Epoch 24 (Update 8904).\tTrain loss: 0.0833, Val roc_auc: 0.8443, Best Epoch: 23\n",
            "Epoch 25 (Update 9275).\tTrain loss: 0.0823, Val roc_auc: 0.8456, Best Epoch: 23\n",
            "Epoch 26 (Update 9646).\tTrain loss: 0.0807, Val roc_auc: 0.8464, Best Epoch: 23\n",
            "Epoch 27 (Update 10017).\tTrain loss: 0.0813, Val roc_auc: 0.8464, Best Epoch: 23\n",
            "Epoch 28 (Update 10388).\tTrain loss: 0.0797, Val roc_auc: 0.8401, Best Epoch: 23\n",
            "Epoch 29 (Update 10759).\tTrain loss: 0.0797, Val roc_auc: 0.8467, Best Epoch: 23\n",
            "Epoch 30 (Update 11130).\tTrain loss: 0.0791, Val roc_auc: 0.8494, Best Epoch: 30\n",
            "Epoch 31 (Update 11501).\tTrain loss: 0.0789, Val roc_auc: 0.842, Best Epoch: 30\n",
            "Epoch 32 (Update 11872).\tTrain loss: 0.0784, Val roc_auc: 0.8314, Best Epoch: 30\n",
            "Epoch 33 (Update 12243).\tTrain loss: 0.0773, Val roc_auc: 0.8514, Best Epoch: 33\n",
            "Epoch 34 (Update 12614).\tTrain loss: 0.0763, Val roc_auc: 0.8432, Best Epoch: 33\n",
            "Epoch 35 (Update 12985).\tTrain loss: 0.0768, Val roc_auc: 0.8324, Best Epoch: 33\n",
            "Epoch 36 (Update 13356).\tTrain loss: 0.076, Val roc_auc: 0.842, Best Epoch: 33\n",
            "Epoch 37 (Update 13727).\tTrain loss: 0.0749, Val roc_auc: 0.8366, Best Epoch: 33\n",
            "Epoch 38 (Update 14098).\tTrain loss: 0.0737, Val roc_auc: 0.8301, Best Epoch: 33\n",
            "Epoch 39 (Update 14469).\tTrain loss: 0.0739, Val roc_auc: 0.8472, Best Epoch: 33\n",
            "Epoch 40 (Update 14840).\tTrain loss: 0.0735, Val roc_auc: 0.8333, Best Epoch: 33\n",
            "Epoch 41 (Update 15211).\tTrain loss: 0.0741, Val roc_auc: 0.8466, Best Epoch: 33\n",
            "Epoch 42 (Update 15582).\tTrain loss: 0.0717, Val roc_auc: 0.8545, Best Epoch: 42\n",
            "Epoch 43 (Update 15953).\tTrain loss: 0.0722, Val roc_auc: 0.8354, Best Epoch: 42\n",
            "Epoch 44 (Update 16324).\tTrain loss: 0.0714, Val roc_auc: 0.8363, Best Epoch: 42\n",
            "Epoch 45 (Update 16695).\tTrain loss: 0.0714, Val roc_auc: 0.8393, Best Epoch: 42\n",
            "Epoch 46 (Update 17066).\tTrain loss: 0.0719, Val roc_auc: 0.8508, Best Epoch: 42\n",
            "Epoch 47 (Update 17437).\tTrain loss: 0.0697, Val roc_auc: 0.8443, Best Epoch: 42\n",
            "Epoch 48 (Update 17808).\tTrain loss: 0.0689, Val roc_auc: 0.8312, Best Epoch: 42\n",
            "Epoch 49 (Update 18179).\tTrain loss: 0.0696, Val roc_auc: 0.8273, Best Epoch: 42\n",
            "Epoch 50 (Update 18550).\tTrain loss: 0.0684, Val roc_auc: 0.8543, Best Epoch: 42\n",
            "Epoch 51 (Update 18921).\tTrain loss: 0.0701, Val roc_auc: 0.8498, Best Epoch: 42\n",
            "Epoch 52 (Update 19292).\tTrain loss: 0.068, Val roc_auc: 0.8077, Best Epoch: 42\n",
            "Epoch 53 (Update 19663).\tTrain loss: 0.0672, Val roc_auc: 0.8384, Best Epoch: 42\n",
            "Epoch 54 (Update 20034).\tTrain loss: 0.0668, Val roc_auc: 0.8191, Best Epoch: 42\n",
            "Epoch 55 (Update 20405).\tTrain loss: 0.0676, Val roc_auc: 0.8374, Best Epoch: 42\n",
            "Epoch 56 (Update 20776).\tTrain loss: 0.0658, Val roc_auc: 0.8209, Best Epoch: 42\n",
            "Epoch 57 (Update 21147).\tTrain loss: 0.0655, Val roc_auc: 0.8464, Best Epoch: 42\n",
            "Epoch 58 (Update 21518).\tTrain loss: 0.0648, Val roc_auc: 0.819, Best Epoch: 42\n",
            "Epoch 59 (Update 21889).\tTrain loss: 0.0652, Val roc_auc: 0.8418, Best Epoch: 42\n",
            "Epoch 60 (Update 22260).\tTrain loss: 0.0641, Val roc_auc: 0.8426, Best Epoch: 42\n",
            "Epoch 61 (Update 22631).\tTrain loss: 0.0659, Val roc_auc: 0.8403, Best Epoch: 42\n",
            "Epoch 62 (Update 23002).\tTrain loss: 0.0634, Val roc_auc: 0.825, Best Epoch: 42\n",
            "Best model found on Epoch 42 (Update 15582). Val roc_auc: 0.8544951590594745\n",
            "/usr/local/lib/python3.10/dist-packages/autogluon/tabular/models/tabular_nn/torch/tabular_nn_torch.py:411: FutureWarning: You are using `torch.load` with `weights_only=False` (the current default value), which uses the default pickle module implicitly. It is possible to construct malicious pickle data which will execute arbitrary code during unpickling (See https://github.com/pytorch/pytorch/blob/main/SECURITY.md#untrusted-models for more details). In a future release, the default value for `weights_only` will be flipped to `True`. This limits the functions that could be executed during unpickling. Arbitrary objects will no longer be allowed to be loaded via this mode unless they are explicitly allowlisted by the user via `torch.serialization.add_safe_globals`. We recommend you start setting `weights_only=True` for any use case where you don't have full control of the loaded file. Please open an issue on GitHub for any issues related to this experimental feature.\n",
            "  self.model = torch.load(net_filename)\n",
            "Saving /root/IEEEfraud/AutoGluonModels/models/NeuralNetTorch/model.pkl\n",
            "Saving /root/IEEEfraud/AutoGluonModels/utils/attr/NeuralNetTorch/y_pred_proba_val.pkl\n",
            "\t0.8545\t = Validation score   (roc_auc)\n",
            "\t270.78s\t = Training   runtime\n",
            "\t0.61s\t = Validation runtime\n",
            "\t4066.4\t = Inference  throughput (rows/s | 2500 batch size)\n",
            "Saving /root/IEEEfraud/AutoGluonModels/models/trainer.pkl\n",
            "Fitting model: LightGBMLarge ... Training model for up to 2706.83s of the 2706.79s of remaining time.\n",
            "\tFitting LightGBMLarge with 'num_gpus': 0, 'num_cpus': 1\n",
            "\tFitting 10000 rounds... Hyperparameters: {'learning_rate': 0.03, 'num_leaves': 128, 'feature_fraction': 0.9, 'min_data_in_leaf': 5}\n"
          ]
        },
        {
          "output_type": "stream",
          "name": "stdout",
          "text": [
            "[50]\tvalid_set's binary_logloss: 0.106153\n",
            "[100]\tvalid_set's binary_logloss: 0.0965579\n",
            "[150]\tvalid_set's binary_logloss: 0.0932799\n",
            "[200]\tvalid_set's binary_logloss: 0.0927811\n",
            "[250]\tvalid_set's binary_logloss: 0.0936146\n"
          ]
        },
        {
          "output_type": "stream",
          "name": "stderr",
          "text": [
            "Saving /root/IEEEfraud/AutoGluonModels/models/LightGBMLarge/model.pkl\n",
            "Saving /root/IEEEfraud/AutoGluonModels/utils/attr/LightGBMLarge/y_pred_proba_val.pkl\n",
            "\t0.8972\t = Validation score   (roc_auc)\n",
            "\t38.61s\t = Training   runtime\n",
            "\t0.15s\t = Validation runtime\n",
            "\t16424.9\t = Inference  throughput (rows/s | 2500 batch size)\n",
            "Saving /root/IEEEfraud/AutoGluonModels/models/trainer.pkl\n",
            "Loading: /root/IEEEfraud/AutoGluonModels/utils/attr/ExtraTreesEntr/y_pred_proba_val.pkl\n",
            "Loading: /root/IEEEfraud/AutoGluonModels/utils/attr/XGBoost/y_pred_proba_val.pkl\n",
            "Loading: /root/IEEEfraud/AutoGluonModels/utils/attr/LightGBMLarge/y_pred_proba_val.pkl\n",
            "Loading: /root/IEEEfraud/AutoGluonModels/utils/attr/LightGBM/y_pred_proba_val.pkl\n",
            "Loading: /root/IEEEfraud/AutoGluonModels/utils/attr/ExtraTreesGini/y_pred_proba_val.pkl\n",
            "Loading: /root/IEEEfraud/AutoGluonModels/utils/attr/KNeighborsUnif/y_pred_proba_val.pkl\n",
            "Loading: /root/IEEEfraud/AutoGluonModels/utils/attr/NeuralNetTorch/y_pred_proba_val.pkl\n",
            "Loading: /root/IEEEfraud/AutoGluonModels/utils/attr/LightGBMXT/y_pred_proba_val.pkl\n",
            "Loading: /root/IEEEfraud/AutoGluonModels/utils/attr/KNeighborsDist/y_pred_proba_val.pkl\n",
            "Loading: /root/IEEEfraud/AutoGluonModels/utils/attr/RandomForestGini/y_pred_proba_val.pkl\n",
            "Loading: /root/IEEEfraud/AutoGluonModels/utils/attr/NeuralNetFastAI/y_pred_proba_val.pkl\n",
            "Loading: /root/IEEEfraud/AutoGluonModels/utils/attr/RandomForestEntr/y_pred_proba_val.pkl\n",
            "Model configs that will be trained (in order):\n",
            "\tWeightedEnsemble_L2: \t{'ag_args': {'valid_base': False, 'name_bag_suffix': '', 'model_type': <class 'autogluon.core.models.greedy_ensemble.greedy_weighted_ensemble_model.GreedyWeightedEnsembleModel'>, 'priority': 0}, 'ag_args_ensemble': {'save_bag_folds': True}}\n",
            "Fitting model: WeightedEnsemble_L2 ... Training model for up to 360.0s of the 2667.75s of remaining time.\n",
            "\tFitting WeightedEnsemble_L2 with 'num_gpus': 0, 'num_cpus': 2\n",
            "Saving /root/IEEEfraud/AutoGluonModels/models/WeightedEnsemble_L2/utils/model_template.pkl\n",
            "Loading: /root/IEEEfraud/AutoGluonModels/models/WeightedEnsemble_L2/utils/model_template.pkl\n",
            "Ensemble size: 20\n",
            "Ensemble weights: \n",
            "[0.   0.   0.05 0.   0.   0.05 0.   0.05 0.   0.6  0.   0.25]\n",
            "Saving /root/IEEEfraud/AutoGluonModels/models/WeightedEnsemble_L2/utils/oof.pkl\n",
            "Saving /root/IEEEfraud/AutoGluonModels/models/WeightedEnsemble_L2/model.pkl\n",
            "\tEnsemble Weights: {'XGBoost': 0.6, 'LightGBMLarge': 0.25, 'LightGBMXT': 0.05, 'RandomForestEntr': 0.05, 'ExtraTreesEntr': 0.05}\n",
            "\t0.9057\t = Validation score   (roc_auc)\n",
            "\t0.29s\t = Training   runtime\n",
            "\t0.0s\t = Validation runtime\n",
            "\t1384.7\t = Inference  throughput (rows/s | 2500 batch size)\n",
            "Saving /root/IEEEfraud/AutoGluonModels/models/trainer.pkl\n",
            "Saving /root/IEEEfraud/AutoGluonModels/models/trainer.pkl\n",
            "Saving /root/IEEEfraud/AutoGluonModels/models/trainer.pkl\n",
            "AutoGluon training complete, total runtime = 933.19s ... Best model: WeightedEnsemble_L2 | Estimated inference throughput: 1384.7 rows/s (2500 batch size)\n",
            "Loading: /root/IEEEfraud/AutoGluonModels/models/trainer.pkl\n",
            "Saving /root/IEEEfraud/AutoGluonModels/models/trainer.pkl\n",
            "Saving /root/IEEEfraud/AutoGluonModels/learner.pkl\n",
            "Saving /root/IEEEfraud/AutoGluonModels/predictor.pkl\n",
            "Saving /root/IEEEfraud/AutoGluonModels/version.txt with contents \"1.1.1\"\n",
            "Saving /root/IEEEfraud/AutoGluonModels/metadata.json\n",
            "TabularPredictor saved. To load, use: predictor = TabularPredictor.load(\"/root/IEEEfraud/AutoGluonModels/\")\n",
            "Loading: /root/IEEEfraud/AutoGluonModels/models/KNeighborsUnif/model.pkl\n",
            "Loading: /root/IEEEfraud/AutoGluonModels/models/KNeighborsDist/model.pkl\n",
            "Loading: /root/IEEEfraud/AutoGluonModels/models/LightGBMXT/model.pkl\n",
            "Loading: /root/IEEEfraud/AutoGluonModels/models/LightGBM/model.pkl\n",
            "Loading: /root/IEEEfraud/AutoGluonModels/models/RandomForestGini/model.pkl\n",
            "Loading: /root/IEEEfraud/AutoGluonModels/models/RandomForestEntr/model.pkl\n",
            "Loading: /root/IEEEfraud/AutoGluonModels/models/ExtraTreesGini/model.pkl\n",
            "Loading: /root/IEEEfraud/AutoGluonModels/models/ExtraTreesEntr/model.pkl\n",
            "Loading: /root/IEEEfraud/AutoGluonModels/models/NeuralNetFastAI/model.pkl\n",
            "Loading: /root/IEEEfraud/AutoGluonModels/models/NeuralNetFastAI/model-internals.pkl\n",
            "Loading: /root/IEEEfraud/AutoGluonModels/models/XGBoost/model.pkl\n",
            "Loading: /root/IEEEfraud/AutoGluonModels/models/NeuralNetTorch/model.pkl\n",
            "/usr/local/lib/python3.10/dist-packages/torch/storage.py:414: FutureWarning: You are using `torch.load` with `weights_only=False` (the current default value), which uses the default pickle module implicitly. It is possible to construct malicious pickle data which will execute arbitrary code during unpickling (See https://github.com/pytorch/pytorch/blob/main/SECURITY.md#untrusted-models for more details). In a future release, the default value for `weights_only` will be flipped to `True`. This limits the functions that could be executed during unpickling. Arbitrary objects will no longer be allowed to be loaded via this mode unless they are explicitly allowlisted by the user via `torch.serialization.add_safe_globals`. We recommend you start setting `weights_only=True` for any use case where you don't have full control of the loaded file. Please open an issue on GitHub for any issues related to this experimental feature.\n",
            "  return torch.load(io.BytesIO(b))\n",
            "Loading: /root/IEEEfraud/AutoGluonModels/models/LightGBMLarge/model.pkl\n",
            "Loading: /root/IEEEfraud/AutoGluonModels/models/WeightedEnsemble_L2/model.pkl\n"
          ]
        },
        {
          "output_type": "stream",
          "name": "stdout",
          "text": [
            "*** Summary of fit() ***\n",
            "Estimated performance of each model:\n",
            "                  model  score_val eval_metric  pred_time_val    fit_time  pred_time_val_marginal  fit_time_marginal  stack_level  can_infer  fit_order\n",
            "0   WeightedEnsemble_L2   0.905726     roc_auc       1.805404  320.975924                0.001497           0.294186            2       True         13\n",
            "1               XGBoost   0.899594     roc_auc       0.209886  115.379409                0.209886         115.379409            1       True         10\n",
            "2         LightGBMLarge   0.897183     roc_auc       0.152208   38.610752                0.152208          38.610752            1       True         12\n",
            "3            LightGBMXT   0.893398     roc_auc       0.334933   47.056067                0.334933          47.056067            1       True          3\n",
            "4              LightGBM   0.891535     roc_auc       0.260565   35.946516                0.260565          35.946516            1       True          4\n",
            "5        ExtraTreesEntr   0.872042     roc_auc       0.861459   57.357587                0.861459          57.357587            1       True          8\n",
            "6      RandomForestEntr   0.865256     roc_auc       0.245421   62.277922                0.245421          62.277922            1       True          6\n",
            "7      RandomForestGini   0.864564     roc_auc       0.385192   78.757519                0.385192          78.757519            1       True          5\n",
            "8        ExtraTreesGini   0.855579     roc_auc       0.424116   62.850315                0.424116          62.850315            1       True          7\n",
            "9        NeuralNetTorch   0.854495     roc_auc       0.614796  270.777204                0.614796         270.777204            1       True         11\n",
            "10      NeuralNetFastAI   0.833246     roc_auc       0.310369  133.074138                0.310369         133.074138            1       True          9\n",
            "11       KNeighborsDist   0.585302     roc_auc       5.734132    1.008772                5.734132           1.008772            1       True          2\n",
            "12       KNeighborsUnif   0.583439     roc_auc       5.296677    1.066734                5.296677           1.066734            1       True          1\n",
            "Number of models trained: 13\n",
            "Types of models trained:\n",
            "{'NNFastAiTabularModel', 'KNNModel', 'RFModel', 'LGBModel', 'WeightedEnsembleModel', 'XGBoostModel', 'XTModel', 'TabularNeuralNetTorchModel'}\n",
            "Bagging used: False \n",
            "Multi-layer stack-ensembling used: False \n",
            "Feature Metadata (Processed):\n",
            "(raw dtype, special dtypes):\n",
            "('category', []) :  31 | ['ProductCD', 'card4', 'card6', 'P_emaildomain', 'R_emaildomain', ...]\n",
            "('float', [])    : 394 | ['TransactionAmt', 'card2', 'card3', 'card5', 'addr1', ...]\n",
            "('int', [])      :   3 | ['TransactionID', 'TransactionDT', 'card1']\n",
            "Plot summary of models saved to file: /root/IEEEfraud/AutoGluonModels/SummaryOfModels.html\n",
            "*** End of fit() summary ***\n"
          ]
        }
      ],
      "source": [
        "from autogluon.tabular import TabularPredictor\n",
        "\n",
        "predictor = TabularPredictor(label=label, eval_metric=eval_metric, path=save_path, verbosity=3).fit(\n",
        "    train_data, presets='medium_quality', time_limit=3600\n",
        ")\n",
        "\n",
        "results = predictor.fit_summary()"
      ]
    },
    {
      "cell_type": "code",
      "execution_count": 22,
      "metadata": {
        "colab": {
          "base_uri": "https://localhost:8080/"
        },
        "id": "A2x3F2wfWGJD",
        "outputId": "63b357e9-7705-4453-84fa-8e4994e92594"
      },
      "outputs": [
        {
          "output_type": "stream",
          "name": "stdout",
          "text": [
            "{'model_types': {'KNeighborsUnif': 'KNNModel', 'KNeighborsDist': 'KNNModel', 'LightGBMXT': 'LGBModel', 'LightGBM': 'LGBModel', 'RandomForestGini': 'RFModel', 'RandomForestEntr': 'RFModel', 'ExtraTreesGini': 'XTModel', 'ExtraTreesEntr': 'XTModel', 'NeuralNetFastAI': 'NNFastAiTabularModel', 'XGBoost': 'XGBoostModel', 'NeuralNetTorch': 'TabularNeuralNetTorchModel', 'LightGBMLarge': 'LGBModel', 'WeightedEnsemble_L2': 'WeightedEnsembleModel'}, 'model_performance': {'KNeighborsUnif': 0.5834393729829414, 'KNeighborsDist': 0.5853019824804055, 'LightGBMXT': 0.8933978792070079, 'LightGBM': 0.8915352697095436, 'RandomForestGini': 0.8645643153526972, 'RandomForestEntr': 0.8652558782849239, 'ExtraTreesGini': 0.8555786076532964, 'ExtraTreesEntr': 0.8720424158598432, 'NeuralNetFastAI': 0.8332457353619179, 'XGBoost': 0.8995942830797603, 'NeuralNetTorch': 0.8544951590594745, 'LightGBMLarge': 0.8971830336560627, 'WeightedEnsemble_L2': 0.9057261410788382}, 'model_best': 'WeightedEnsemble_L2', 'model_paths': {'KNeighborsUnif': ['KNeighborsUnif'], 'KNeighborsDist': ['KNeighborsDist'], 'LightGBMXT': ['LightGBMXT'], 'LightGBM': ['LightGBM'], 'RandomForestGini': ['RandomForestGini'], 'RandomForestEntr': ['RandomForestEntr'], 'ExtraTreesGini': ['ExtraTreesGini'], 'ExtraTreesEntr': ['ExtraTreesEntr'], 'NeuralNetFastAI': ['NeuralNetFastAI'], 'XGBoost': ['XGBoost'], 'NeuralNetTorch': ['NeuralNetTorch'], 'LightGBMLarge': ['LightGBMLarge'], 'WeightedEnsemble_L2': ['WeightedEnsemble_L2']}, 'model_fit_times': {'KNeighborsUnif': 1.0667340755462646, 'KNeighborsDist': 1.0087718963623047, 'LightGBMXT': 47.05606722831726, 'LightGBM': 35.946516036987305, 'RandomForestGini': 78.75751876831055, 'RandomForestEntr': 62.27792167663574, 'ExtraTreesGini': 62.85031533241272, 'ExtraTreesEntr': 57.3575873374939, 'NeuralNetFastAI': 133.0741376876831, 'XGBoost': 115.3794093132019, 'NeuralNetTorch': 270.77720379829407, 'LightGBMLarge': 38.61075210571289, 'WeightedEnsemble_L2': 0.2941863536834717}, 'model_pred_times': {'KNeighborsUnif': 5.296676874160767, 'KNeighborsDist': 5.734131813049316, 'LightGBMXT': 0.3349332809448242, 'LightGBM': 0.26056504249572754, 'RandomForestGini': 0.3851916790008545, 'RandomForestEntr': 0.2454206943511963, 'ExtraTreesGini': 0.4241158962249756, 'ExtraTreesEntr': 0.861459493637085, 'NeuralNetFastAI': 0.31036925315856934, 'XGBoost': 0.2098860740661621, 'NeuralNetTorch': 0.6147964000701904, 'LightGBMLarge': 0.152207612991333, 'WeightedEnsemble_L2': 0.0014965534210205078}, 'num_bag_folds': 0, 'max_stack_level': 2, 'num_classes': 2, 'model_hyperparams': {'KNeighborsUnif': {'weights': 'uniform'}, 'KNeighborsDist': {'weights': 'distance'}, 'LightGBMXT': {'learning_rate': 0.05, 'extra_trees': True}, 'LightGBM': {'learning_rate': 0.05}, 'RandomForestGini': {'n_estimators': 300, 'max_leaf_nodes': 15000, 'n_jobs': -1, 'random_state': 0, 'bootstrap': True, 'criterion': 'gini'}, 'RandomForestEntr': {'n_estimators': 300, 'max_leaf_nodes': 15000, 'n_jobs': -1, 'random_state': 0, 'bootstrap': True, 'criterion': 'entropy'}, 'ExtraTreesGini': {'n_estimators': 300, 'max_leaf_nodes': 15000, 'n_jobs': -1, 'random_state': 0, 'bootstrap': True, 'criterion': 'gini'}, 'ExtraTreesEntr': {'n_estimators': 300, 'max_leaf_nodes': 15000, 'n_jobs': -1, 'random_state': 0, 'bootstrap': True, 'criterion': 'entropy'}, 'NeuralNetFastAI': {'layers': None, 'emb_drop': 0.1, 'ps': 0.1, 'bs': 'auto', 'lr': 0.01, 'epochs': 'auto', 'early.stopping.min_delta': 0.0001, 'early.stopping.patience': 20, 'smoothing': 0.0}, 'XGBoost': {'n_estimators': 10000, 'learning_rate': 0.1, 'n_jobs': -1, 'proc.max_category_levels': 100, 'objective': 'binary:logistic', 'booster': 'gbtree'}, 'NeuralNetTorch': {'num_epochs': 500, 'epochs_wo_improve': 20, 'activation': 'relu', 'embedding_size_factor': 1.0, 'embed_exponent': 0.56, 'max_embedding_dim': 100, 'y_range': None, 'y_range_extend': 0.05, 'dropout_prob': 0.1, 'optimizer': 'adam', 'learning_rate': 0.0003, 'weight_decay': 1e-06, 'proc.embed_min_categories': 4, 'proc.impute_strategy': 'median', 'proc.max_category_levels': 100, 'proc.skew_threshold': 0.99, 'use_ngram_features': False, 'num_layers': 4, 'hidden_size': 128, 'max_batch_size': 512, 'use_batchnorm': False, 'loss_function': 'auto'}, 'LightGBMLarge': {'learning_rate': 0.03, 'num_leaves': 128, 'feature_fraction': 0.9, 'min_data_in_leaf': 5}, 'WeightedEnsemble_L2': {'use_orig_features': False, 'max_base_models': 25, 'max_base_models_per_type': 5, 'save_bag_folds': True}}, 'leaderboard':                   model  score_val eval_metric  pred_time_val    fit_time  \\\n",
            "0   WeightedEnsemble_L2   0.905726     roc_auc       1.805404  320.975924   \n",
            "1               XGBoost   0.899594     roc_auc       0.209886  115.379409   \n",
            "2         LightGBMLarge   0.897183     roc_auc       0.152208   38.610752   \n",
            "3            LightGBMXT   0.893398     roc_auc       0.334933   47.056067   \n",
            "4              LightGBM   0.891535     roc_auc       0.260565   35.946516   \n",
            "5        ExtraTreesEntr   0.872042     roc_auc       0.861459   57.357587   \n",
            "6      RandomForestEntr   0.865256     roc_auc       0.245421   62.277922   \n",
            "7      RandomForestGini   0.864564     roc_auc       0.385192   78.757519   \n",
            "8        ExtraTreesGini   0.855579     roc_auc       0.424116   62.850315   \n",
            "9        NeuralNetTorch   0.854495     roc_auc       0.614796  270.777204   \n",
            "10      NeuralNetFastAI   0.833246     roc_auc       0.310369  133.074138   \n",
            "11       KNeighborsDist   0.585302     roc_auc       5.734132    1.008772   \n",
            "12       KNeighborsUnif   0.583439     roc_auc       5.296677    1.066734   \n",
            "\n",
            "    pred_time_val_marginal  fit_time_marginal  stack_level  can_infer  \\\n",
            "0                 0.001497           0.294186            2       True   \n",
            "1                 0.209886         115.379409            1       True   \n",
            "2                 0.152208          38.610752            1       True   \n",
            "3                 0.334933          47.056067            1       True   \n",
            "4                 0.260565          35.946516            1       True   \n",
            "5                 0.861459          57.357587            1       True   \n",
            "6                 0.245421          62.277922            1       True   \n",
            "7                 0.385192          78.757519            1       True   \n",
            "8                 0.424116          62.850315            1       True   \n",
            "9                 0.614796         270.777204            1       True   \n",
            "10                0.310369         133.074138            1       True   \n",
            "11                5.734132           1.008772            1       True   \n",
            "12                5.296677           1.066734            1       True   \n",
            "\n",
            "    fit_order  \n",
            "0          13  \n",
            "1          10  \n",
            "2          12  \n",
            "3           3  \n",
            "4           4  \n",
            "5           8  \n",
            "6           6  \n",
            "7           5  \n",
            "8           7  \n",
            "9          11  \n",
            "10          9  \n",
            "11          2  \n",
            "12          1  }\n"
          ]
        }
      ],
      "source": [
        "print(results)"
      ]
    },
    {
      "cell_type": "code",
      "execution_count": 23,
      "metadata": {
        "id": "Z2yE2RPz4N3K",
        "colab": {
          "base_uri": "https://localhost:8080/"
        },
        "outputId": "a11e6644-5d87-40e8-8c43-eb9712846f85"
      },
      "outputs": [
        {
          "output_type": "stream",
          "name": "stdout",
          "text": [
            "AutoGluonModels        test_identity.csv     train_identity.csv\n",
            "sample_submission.csv  test_transaction.csv  train_transaction.csv\n"
          ]
        }
      ],
      "source": [
        "!ls ~/IEEEfraud/"
      ]
    },
    {
      "cell_type": "code",
      "execution_count": 24,
      "metadata": {
        "id": "H6ZdnMuvmCFC",
        "colab": {
          "base_uri": "https://localhost:8080/"
        },
        "outputId": "214b7a75-f8e3-436b-afc4-54623ae1439d"
      },
      "outputs": [
        {
          "output_type": "stream",
          "name": "stdout",
          "text": [
            "Index(['TransactionID', 'id-01', 'id-02', 'id-03', 'id-04', 'id-05', 'id-06',\n",
            "       'id-07', 'id-08', 'id-09', 'id-10', 'id-11', 'id-12', 'id-13', 'id-14',\n",
            "       'id-15', 'id-16', 'id-17', 'id-18', 'id-19', 'id-20', 'id-21', 'id-22',\n",
            "       'id-23', 'id-24', 'id-25', 'id-26', 'id-27', 'id-28', 'id-29', 'id-30',\n",
            "       'id-31', 'id-32', 'id-33', 'id-34', 'id-35', 'id-36', 'id-37', 'id-38',\n",
            "       'DeviceType', 'DeviceInfo'],\n",
            "      dtype='object')\n"
          ]
        }
      ],
      "source": [
        "test_identity = pd.read_csv('~/IEEEfraud/test_identity.csv')\n",
        "print(test_identity.columns)"
      ]
    },
    {
      "cell_type": "code",
      "execution_count": 25,
      "metadata": {
        "id": "qL9KNyRPlknx"
      },
      "outputs": [],
      "source": [
        "# prompt: test_identity.csv has some corrupted columns. I want to change id-<number> to id_<number> where i = 1 to 38\n",
        "\n",
        "import pandas as pd\n",
        "\n",
        "# Load the CSV file\n",
        "test_identity = pd.read_csv('~/IEEEfraud/test_identity.csv')\n",
        "\n",
        "# Rename columns\n",
        "\n",
        "for i in range(1, 39):\n",
        "  old_name = f'id-{i}'\n",
        "  new_name = f'id_{i}'\n",
        "  test_identity = test_identity.rename(columns={old_name: new_name})\n",
        "\n",
        "# Save the updated DataFrame to a new CSV file\n",
        "test_identity.to_csv('~/IEEEfraud/test_identity_corrected.csv', index=False)\n"
      ]
    },
    {
      "cell_type": "code",
      "execution_count": 26,
      "metadata": {
        "id": "dxlj1sdcmSAl",
        "colab": {
          "base_uri": "https://localhost:8080/"
        },
        "outputId": "1adc7f33-e20f-4cc8-aca5-fb977fa6186b"
      },
      "outputs": [
        {
          "output_type": "stream",
          "name": "stdout",
          "text": [
            "Index(['TransactionID', 'id-01', 'id-02', 'id-03', 'id-04', 'id-05', 'id-06',\n",
            "       'id-07', 'id-08', 'id-09', 'id_10', 'id_11', 'id_12', 'id_13', 'id_14',\n",
            "       'id_15', 'id_16', 'id_17', 'id_18', 'id_19', 'id_20', 'id_21', 'id_22',\n",
            "       'id_23', 'id_24', 'id_25', 'id_26', 'id_27', 'id_28', 'id_29', 'id_30',\n",
            "       'id_31', 'id_32', 'id_33', 'id_34', 'id_35', 'id_36', 'id_37', 'id_38',\n",
            "       'DeviceType', 'DeviceInfo'],\n",
            "      dtype='object')\n"
          ]
        }
      ],
      "source": [
        "test_identity = pd.read_csv('~/IEEEfraud/test_identity_corrected.csv')\n",
        "print(test_identity.columns)"
      ]
    },
    {
      "cell_type": "code",
      "execution_count": 27,
      "metadata": {
        "id": "jTsNA5Y0-MYc"
      },
      "outputs": [],
      "source": [
        "# prompt: Delete ~/IEEEfraud/test_identity.csv and copy ~/IEEEfraud/test_identity_corrected.csv to ~/IEEEfraud/test_identity.csv\n",
        "\n",
        "!rm ~/IEEEfraud/test_identity.csv\n",
        "!cp ~/IEEEfraud/test_identity_corrected.csv ~/IEEEfraud/test_identity.csv\n"
      ]
    },
    {
      "cell_type": "code",
      "execution_count": 28,
      "metadata": {
        "id": "6Ecze3DmmmeC",
        "colab": {
          "base_uri": "https://localhost:8080/"
        },
        "outputId": "d8bcdbc3-f066-4cb3-f83c-ee7167448ebe"
      },
      "outputs": [
        {
          "output_type": "stream",
          "name": "stdout",
          "text": [
            "Index(['TransactionID', 'id-01', 'id-02', 'id-03', 'id-04', 'id-05', 'id-06',\n",
            "       'id-07', 'id-08', 'id-09', 'id_10', 'id_11', 'id_12', 'id_13', 'id_14',\n",
            "       'id_15', 'id_16', 'id_17', 'id_18', 'id_19', 'id_20', 'id_21', 'id_22',\n",
            "       'id_23', 'id_24', 'id_25', 'id_26', 'id_27', 'id_28', 'id_29', 'id_30',\n",
            "       'id_31', 'id_32', 'id_33', 'id_34', 'id_35', 'id_36', 'id_37', 'id_38',\n",
            "       'DeviceType', 'DeviceInfo'],\n",
            "      dtype='object')\n"
          ]
        }
      ],
      "source": [
        "test_identity = pd.read_csv('~/IEEEfraud/test_identity.csv')\n",
        "print(test_identity.columns)"
      ]
    },
    {
      "cell_type": "code",
      "execution_count": 30,
      "metadata": {
        "id": "wmEzdePam6xD"
      },
      "outputs": [],
      "source": [
        "# prompt: test_identity.csv has some corrupted columns. I want to change id-<number> to id_<number> where i = 1 to 38\n",
        "\n",
        "import pandas as pd\n",
        "\n",
        "# Load the CSV file\n",
        "test_identity = pd.read_csv('~/IEEEfraud/test_identity.csv')\n",
        "\n",
        "# Rename columns\n",
        "\n",
        "for i in range(1, 10):\n",
        "  old_name = f'id-0{i}'\n",
        "  new_name = f'id_0{i}'\n",
        "  test_identity = test_identity.rename(columns={old_name: new_name})\n",
        "\n",
        "# Save the updated DataFrame to a new CSV file\n",
        "test_identity.to_csv('~/IEEEfraud/test_identity.csv', index=False)\n"
      ]
    },
    {
      "cell_type": "code",
      "execution_count": 31,
      "metadata": {
        "id": "Vltv7a6RnC4Q",
        "colab": {
          "base_uri": "https://localhost:8080/"
        },
        "outputId": "1102a4d9-c120-4dab-c769-499c98c668a7"
      },
      "outputs": [
        {
          "output_type": "stream",
          "name": "stdout",
          "text": [
            "Index(['TransactionID', 'id_01', 'id_02', 'id_03', 'id_04', 'id_05', 'id_06',\n",
            "       'id_07', 'id_08', 'id_09', 'id_10', 'id_11', 'id_12', 'id_13', 'id_14',\n",
            "       'id_15', 'id_16', 'id_17', 'id_18', 'id_19', 'id_20', 'id_21', 'id_22',\n",
            "       'id_23', 'id_24', 'id_25', 'id_26', 'id_27', 'id_28', 'id_29', 'id_30',\n",
            "       'id_31', 'id_32', 'id_33', 'id_34', 'id_35', 'id_36', 'id_37', 'id_38',\n",
            "       'DeviceType', 'DeviceInfo'],\n",
            "      dtype='object')\n"
          ]
        }
      ],
      "source": [
        "test_identity = pd.read_csv('~/IEEEfraud/test_identity.csv')\n",
        "print(test_identity.columns)"
      ]
    },
    {
      "cell_type": "code",
      "source": [
        "test_identity = pd.read_csv(directory+'test_identity.csv')"
      ],
      "metadata": {
        "id": "Sbsuhdp2psGy"
      },
      "execution_count": 32,
      "outputs": []
    },
    {
      "cell_type": "code",
      "source": [
        "len(test_identity)"
      ],
      "metadata": {
        "colab": {
          "base_uri": "https://localhost:8080/"
        },
        "id": "piHV-F-4p3Me",
        "outputId": "cc40a3ac-8927-44a6-edbf-a4ba30a67236"
      },
      "execution_count": 35,
      "outputs": [
        {
          "output_type": "execute_result",
          "data": {
            "text/plain": [
              "141907"
            ]
          },
          "metadata": {},
          "execution_count": 35
        }
      ]
    },
    {
      "cell_type": "code",
      "source": [
        "test_transaction = pd.read_csv(directory+'test_transaction.csv')"
      ],
      "metadata": {
        "id": "uccv_5NMqFTx"
      },
      "execution_count": 36,
      "outputs": []
    },
    {
      "cell_type": "code",
      "execution_count": 37,
      "metadata": {
        "id": "d6UEOIblJPWe"
      },
      "outputs": [],
      "source": [
        "test_data = pd.merge(test_transaction, test_identity, on='TransactionID', how='left')  # same join applied to training files"
      ]
    },
    {
      "cell_type": "code",
      "source": [
        "len(test_data)"
      ],
      "metadata": {
        "colab": {
          "base_uri": "https://localhost:8080/"
        },
        "id": "T0AYvhg3qUPd",
        "outputId": "09354033-34ae-4aae-c3fb-8f4634ac029c"
      },
      "execution_count": 38,
      "outputs": [
        {
          "output_type": "execute_result",
          "data": {
            "text/plain": [
              "506691"
            ]
          },
          "metadata": {},
          "execution_count": 38
        }
      ]
    },
    {
      "cell_type": "code",
      "execution_count": 39,
      "metadata": {
        "id": "EfJfAPt7KfgQ"
      },
      "outputs": [],
      "source": [
        "test_data = test_data.sample(n=100000, random_state=42)"
      ]
    },
    {
      "cell_type": "code",
      "execution_count": 40,
      "metadata": {
        "id": "DK9Mp5hoVqkv",
        "colab": {
          "base_uri": "https://localhost:8080/",
          "height": 313
        },
        "outputId": "5fd9f5d8-7e8d-4d63-97bc-d29766d907c8"
      },
      "outputs": [
        {
          "output_type": "stream",
          "name": "stderr",
          "text": [
            "Loading: /root/IEEEfraud/AutoGluonModels/models/ExtraTreesEntr/model.pkl\n",
            "Loading: /root/IEEEfraud/AutoGluonModels/models/LightGBMLarge/model.pkl\n",
            "Loading: /root/IEEEfraud/AutoGluonModels/models/LightGBMXT/model.pkl\n",
            "Loading: /root/IEEEfraud/AutoGluonModels/models/RandomForestEntr/model.pkl\n",
            "Loading: /root/IEEEfraud/AutoGluonModels/models/XGBoost/model.pkl\n",
            "Loading: /root/IEEEfraud/AutoGluonModels/models/WeightedEnsemble_L2/model.pkl\n"
          ]
        },
        {
          "output_type": "execute_result",
          "data": {
            "text/plain": [
              "               0         1\n",
              "38778   0.999287  0.000713\n",
              "174412  0.993148  0.006852\n",
              "294357  0.989655  0.010344\n",
              "214994  0.999216  0.000784\n",
              "117582  0.992721  0.007279"
            ],
            "text/html": [
              "\n",
              "  <div id=\"df-b57b7f25-e508-4340-9fed-601acd0754ac\" class=\"colab-df-container\">\n",
              "    <div>\n",
              "<style scoped>\n",
              "    .dataframe tbody tr th:only-of-type {\n",
              "        vertical-align: middle;\n",
              "    }\n",
              "\n",
              "    .dataframe tbody tr th {\n",
              "        vertical-align: top;\n",
              "    }\n",
              "\n",
              "    .dataframe thead th {\n",
              "        text-align: right;\n",
              "    }\n",
              "</style>\n",
              "<table border=\"1\" class=\"dataframe\">\n",
              "  <thead>\n",
              "    <tr style=\"text-align: right;\">\n",
              "      <th></th>\n",
              "      <th>0</th>\n",
              "      <th>1</th>\n",
              "    </tr>\n",
              "  </thead>\n",
              "  <tbody>\n",
              "    <tr>\n",
              "      <th>38778</th>\n",
              "      <td>0.999287</td>\n",
              "      <td>0.000713</td>\n",
              "    </tr>\n",
              "    <tr>\n",
              "      <th>174412</th>\n",
              "      <td>0.993148</td>\n",
              "      <td>0.006852</td>\n",
              "    </tr>\n",
              "    <tr>\n",
              "      <th>294357</th>\n",
              "      <td>0.989655</td>\n",
              "      <td>0.010344</td>\n",
              "    </tr>\n",
              "    <tr>\n",
              "      <th>214994</th>\n",
              "      <td>0.999216</td>\n",
              "      <td>0.000784</td>\n",
              "    </tr>\n",
              "    <tr>\n",
              "      <th>117582</th>\n",
              "      <td>0.992721</td>\n",
              "      <td>0.007279</td>\n",
              "    </tr>\n",
              "  </tbody>\n",
              "</table>\n",
              "</div>\n",
              "    <div class=\"colab-df-buttons\">\n",
              "\n",
              "  <div class=\"colab-df-container\">\n",
              "    <button class=\"colab-df-convert\" onclick=\"convertToInteractive('df-b57b7f25-e508-4340-9fed-601acd0754ac')\"\n",
              "            title=\"Convert this dataframe to an interactive table.\"\n",
              "            style=\"display:none;\">\n",
              "\n",
              "  <svg xmlns=\"http://www.w3.org/2000/svg\" height=\"24px\" viewBox=\"0 -960 960 960\">\n",
              "    <path d=\"M120-120v-720h720v720H120Zm60-500h600v-160H180v160Zm220 220h160v-160H400v160Zm0 220h160v-160H400v160ZM180-400h160v-160H180v160Zm440 0h160v-160H620v160ZM180-180h160v-160H180v160Zm440 0h160v-160H620v160Z\"/>\n",
              "  </svg>\n",
              "    </button>\n",
              "\n",
              "  <style>\n",
              "    .colab-df-container {\n",
              "      display:flex;\n",
              "      gap: 12px;\n",
              "    }\n",
              "\n",
              "    .colab-df-convert {\n",
              "      background-color: #E8F0FE;\n",
              "      border: none;\n",
              "      border-radius: 50%;\n",
              "      cursor: pointer;\n",
              "      display: none;\n",
              "      fill: #1967D2;\n",
              "      height: 32px;\n",
              "      padding: 0 0 0 0;\n",
              "      width: 32px;\n",
              "    }\n",
              "\n",
              "    .colab-df-convert:hover {\n",
              "      background-color: #E2EBFA;\n",
              "      box-shadow: 0px 1px 2px rgba(60, 64, 67, 0.3), 0px 1px 3px 1px rgba(60, 64, 67, 0.15);\n",
              "      fill: #174EA6;\n",
              "    }\n",
              "\n",
              "    .colab-df-buttons div {\n",
              "      margin-bottom: 4px;\n",
              "    }\n",
              "\n",
              "    [theme=dark] .colab-df-convert {\n",
              "      background-color: #3B4455;\n",
              "      fill: #D2E3FC;\n",
              "    }\n",
              "\n",
              "    [theme=dark] .colab-df-convert:hover {\n",
              "      background-color: #434B5C;\n",
              "      box-shadow: 0px 1px 3px 1px rgba(0, 0, 0, 0.15);\n",
              "      filter: drop-shadow(0px 1px 2px rgba(0, 0, 0, 0.3));\n",
              "      fill: #FFFFFF;\n",
              "    }\n",
              "  </style>\n",
              "\n",
              "    <script>\n",
              "      const buttonEl =\n",
              "        document.querySelector('#df-b57b7f25-e508-4340-9fed-601acd0754ac button.colab-df-convert');\n",
              "      buttonEl.style.display =\n",
              "        google.colab.kernel.accessAllowed ? 'block' : 'none';\n",
              "\n",
              "      async function convertToInteractive(key) {\n",
              "        const element = document.querySelector('#df-b57b7f25-e508-4340-9fed-601acd0754ac');\n",
              "        const dataTable =\n",
              "          await google.colab.kernel.invokeFunction('convertToInteractive',\n",
              "                                                    [key], {});\n",
              "        if (!dataTable) return;\n",
              "\n",
              "        const docLinkHtml = 'Like what you see? Visit the ' +\n",
              "          '<a target=\"_blank\" href=https://colab.research.google.com/notebooks/data_table.ipynb>data table notebook</a>'\n",
              "          + ' to learn more about interactive tables.';\n",
              "        element.innerHTML = '';\n",
              "        dataTable['output_type'] = 'display_data';\n",
              "        await google.colab.output.renderOutput(dataTable, element);\n",
              "        const docLink = document.createElement('div');\n",
              "        docLink.innerHTML = docLinkHtml;\n",
              "        element.appendChild(docLink);\n",
              "      }\n",
              "    </script>\n",
              "  </div>\n",
              "\n",
              "\n",
              "<div id=\"df-7d9491c5-a112-49c0-b0f8-2718d8be9985\">\n",
              "  <button class=\"colab-df-quickchart\" onclick=\"quickchart('df-7d9491c5-a112-49c0-b0f8-2718d8be9985')\"\n",
              "            title=\"Suggest charts\"\n",
              "            style=\"display:none;\">\n",
              "\n",
              "<svg xmlns=\"http://www.w3.org/2000/svg\" height=\"24px\"viewBox=\"0 0 24 24\"\n",
              "     width=\"24px\">\n",
              "    <g>\n",
              "        <path d=\"M19 3H5c-1.1 0-2 .9-2 2v14c0 1.1.9 2 2 2h14c1.1 0 2-.9 2-2V5c0-1.1-.9-2-2-2zM9 17H7v-7h2v7zm4 0h-2V7h2v10zm4 0h-2v-4h2v4z\"/>\n",
              "    </g>\n",
              "</svg>\n",
              "  </button>\n",
              "\n",
              "<style>\n",
              "  .colab-df-quickchart {\n",
              "      --bg-color: #E8F0FE;\n",
              "      --fill-color: #1967D2;\n",
              "      --hover-bg-color: #E2EBFA;\n",
              "      --hover-fill-color: #174EA6;\n",
              "      --disabled-fill-color: #AAA;\n",
              "      --disabled-bg-color: #DDD;\n",
              "  }\n",
              "\n",
              "  [theme=dark] .colab-df-quickchart {\n",
              "      --bg-color: #3B4455;\n",
              "      --fill-color: #D2E3FC;\n",
              "      --hover-bg-color: #434B5C;\n",
              "      --hover-fill-color: #FFFFFF;\n",
              "      --disabled-bg-color: #3B4455;\n",
              "      --disabled-fill-color: #666;\n",
              "  }\n",
              "\n",
              "  .colab-df-quickchart {\n",
              "    background-color: var(--bg-color);\n",
              "    border: none;\n",
              "    border-radius: 50%;\n",
              "    cursor: pointer;\n",
              "    display: none;\n",
              "    fill: var(--fill-color);\n",
              "    height: 32px;\n",
              "    padding: 0;\n",
              "    width: 32px;\n",
              "  }\n",
              "\n",
              "  .colab-df-quickchart:hover {\n",
              "    background-color: var(--hover-bg-color);\n",
              "    box-shadow: 0 1px 2px rgba(60, 64, 67, 0.3), 0 1px 3px 1px rgba(60, 64, 67, 0.15);\n",
              "    fill: var(--button-hover-fill-color);\n",
              "  }\n",
              "\n",
              "  .colab-df-quickchart-complete:disabled,\n",
              "  .colab-df-quickchart-complete:disabled:hover {\n",
              "    background-color: var(--disabled-bg-color);\n",
              "    fill: var(--disabled-fill-color);\n",
              "    box-shadow: none;\n",
              "  }\n",
              "\n",
              "  .colab-df-spinner {\n",
              "    border: 2px solid var(--fill-color);\n",
              "    border-color: transparent;\n",
              "    border-bottom-color: var(--fill-color);\n",
              "    animation:\n",
              "      spin 1s steps(1) infinite;\n",
              "  }\n",
              "\n",
              "  @keyframes spin {\n",
              "    0% {\n",
              "      border-color: transparent;\n",
              "      border-bottom-color: var(--fill-color);\n",
              "      border-left-color: var(--fill-color);\n",
              "    }\n",
              "    20% {\n",
              "      border-color: transparent;\n",
              "      border-left-color: var(--fill-color);\n",
              "      border-top-color: var(--fill-color);\n",
              "    }\n",
              "    30% {\n",
              "      border-color: transparent;\n",
              "      border-left-color: var(--fill-color);\n",
              "      border-top-color: var(--fill-color);\n",
              "      border-right-color: var(--fill-color);\n",
              "    }\n",
              "    40% {\n",
              "      border-color: transparent;\n",
              "      border-right-color: var(--fill-color);\n",
              "      border-top-color: var(--fill-color);\n",
              "    }\n",
              "    60% {\n",
              "      border-color: transparent;\n",
              "      border-right-color: var(--fill-color);\n",
              "    }\n",
              "    80% {\n",
              "      border-color: transparent;\n",
              "      border-right-color: var(--fill-color);\n",
              "      border-bottom-color: var(--fill-color);\n",
              "    }\n",
              "    90% {\n",
              "      border-color: transparent;\n",
              "      border-bottom-color: var(--fill-color);\n",
              "    }\n",
              "  }\n",
              "</style>\n",
              "\n",
              "  <script>\n",
              "    async function quickchart(key) {\n",
              "      const quickchartButtonEl =\n",
              "        document.querySelector('#' + key + ' button');\n",
              "      quickchartButtonEl.disabled = true;  // To prevent multiple clicks.\n",
              "      quickchartButtonEl.classList.add('colab-df-spinner');\n",
              "      try {\n",
              "        const charts = await google.colab.kernel.invokeFunction(\n",
              "            'suggestCharts', [key], {});\n",
              "      } catch (error) {\n",
              "        console.error('Error during call to suggestCharts:', error);\n",
              "      }\n",
              "      quickchartButtonEl.classList.remove('colab-df-spinner');\n",
              "      quickchartButtonEl.classList.add('colab-df-quickchart-complete');\n",
              "    }\n",
              "    (() => {\n",
              "      let quickchartButtonEl =\n",
              "        document.querySelector('#df-7d9491c5-a112-49c0-b0f8-2718d8be9985 button');\n",
              "      quickchartButtonEl.style.display =\n",
              "        google.colab.kernel.accessAllowed ? 'block' : 'none';\n",
              "    })();\n",
              "  </script>\n",
              "</div>\n",
              "\n",
              "    </div>\n",
              "  </div>\n"
            ],
            "application/vnd.google.colaboratory.intrinsic+json": {
              "type": "dataframe",
              "variable_name": "y_predproba",
              "summary": "{\n  \"name\": \"y_predproba\",\n  \"rows\": 100000,\n  \"fields\": [\n    {\n      \"column\": 0,\n      \"properties\": {\n        \"dtype\": \"number\",\n        \"std\": 0.10976234659550795,\n        \"min\": 0.0055800676345825195,\n        \"max\": 0.9998229146003723,\n        \"num_unique_values\": 87101,\n        \"samples\": [\n          0.9970365166664124,\n          0.9922049641609192,\n          0.997710108757019\n        ],\n        \"semantic_type\": \"\",\n        \"description\": \"\"\n      }\n    },\n    {\n      \"column\": 1,\n      \"properties\": {\n        \"dtype\": \"number\",\n        \"std\": 0.10976234658531407,\n        \"min\": 0.00017705903155729175,\n        \"max\": 0.9944199323654175,\n        \"num_unique_values\": 99832,\n        \"samples\": [\n          0.01865597441792488,\n          0.0007318628486245871,\n          0.01109484862536192\n        ],\n        \"semantic_type\": \"\",\n        \"description\": \"\"\n      }\n    }\n  ]\n}"
            }
          },
          "metadata": {},
          "execution_count": 40
        }
      ],
      "source": [
        "y_predproba = predictor.predict_proba(test_data)\n",
        "y_predproba.head(5)  # some example predicted fraud-probabilities"
      ]
    },
    {
      "cell_type": "code",
      "execution_count": 41,
      "metadata": {
        "id": "SbpwttbnVwwQ",
        "colab": {
          "base_uri": "https://localhost:8080/"
        },
        "outputId": "9a6b946c-e421-491a-ddab-8da5b6b2deac"
      },
      "outputs": [
        {
          "output_type": "execute_result",
          "data": {
            "text/plain": [
              "1"
            ]
          },
          "metadata": {},
          "execution_count": 41
        }
      ],
      "source": [
        "predictor.positive_class"
      ]
    },
    {
      "cell_type": "code",
      "execution_count": 42,
      "metadata": {
        "id": "PozI5vv2cwLe",
        "colab": {
          "base_uri": "https://localhost:8080/"
        },
        "outputId": "f2876185-cd65-48d2-9ae3-a12810ddaf8c"
      },
      "outputs": [
        {
          "output_type": "execute_result",
          "data": {
            "text/plain": [
              "[0, 1]"
            ]
          },
          "metadata": {},
          "execution_count": 42
        }
      ],
      "source": [
        "predictor.class_labels  # classes in this list correspond to columns of predict_proba() output\n"
      ]
    },
    {
      "cell_type": "code",
      "execution_count": 43,
      "metadata": {
        "id": "zqQSpx6Pcw0j",
        "colab": {
          "base_uri": "https://localhost:8080/"
        },
        "outputId": "c60cd044-805a-421a-c859-b552d0ba5de7"
      },
      "outputs": [
        {
          "output_type": "stream",
          "name": "stderr",
          "text": [
            "Loading: /root/IEEEfraud/AutoGluonModels/models/ExtraTreesEntr/model.pkl\n",
            "Loading: /root/IEEEfraud/AutoGluonModels/models/LightGBMLarge/model.pkl\n",
            "Loading: /root/IEEEfraud/AutoGluonModels/models/LightGBMXT/model.pkl\n",
            "Loading: /root/IEEEfraud/AutoGluonModels/models/RandomForestEntr/model.pkl\n",
            "Loading: /root/IEEEfraud/AutoGluonModels/models/XGBoost/model.pkl\n",
            "Loading: /root/IEEEfraud/AutoGluonModels/models/WeightedEnsemble_L2/model.pkl\n"
          ]
        }
      ],
      "source": [
        "y_predproba = predictor.predict_proba(test_data, as_multiclass=False)"
      ]
    },
    {
      "cell_type": "code",
      "execution_count": null,
      "metadata": {
        "id": "S-pKodXEc01H"
      },
      "outputs": [],
      "source": [
        "submission = pd.read_csv(directory+'sample_submission.csv')\n",
        "submission['isFraud'] = y_predproba\n",
        "submission.head()\n",
        "submission.to_csv(directory+'my_submission.csv', index=False)"
      ]
    }
  ],
  "metadata": {
    "accelerator": "GPU",
    "colab": {
      "gpuType": "T4",
      "provenance": []
    },
    "kernelspec": {
      "display_name": "Python 3",
      "name": "python3"
    },
    "language_info": {
      "name": "python"
    }
  },
  "nbformat": 4,
  "nbformat_minor": 0
}